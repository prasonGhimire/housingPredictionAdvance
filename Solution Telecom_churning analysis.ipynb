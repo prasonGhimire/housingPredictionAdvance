{
 "cells": [
  {
   "cell_type": "code",
   "execution_count": 1,
   "id": "8909b04e",
   "metadata": {},
   "outputs": [],
   "source": [
    "import pandas as pd\n",
    "import numpy as np\n",
    "import matplotlib.pyplot as plt\n",
    "import seaborn\n",
    "import sklearn"
   ]
  },
  {
   "cell_type": "code",
   "execution_count": 3,
   "id": "e0485a33",
   "metadata": {},
   "outputs": [],
   "source": [
    "# sample_df=pd.read_csv(\"./sample.csv\")\n",
    "# test_df=pd.read_csv(\"./test.csv/test.csv\")"
   ]
  },
  {
   "cell_type": "code",
   "execution_count": 2,
   "id": "ba960d0d",
   "metadata": {},
   "outputs": [],
   "source": [
    "train_df = pd.read_csv(\"./train.csv/train.csv\")\n",
    "test_df = pd.read_csv(\"./test.csv/test.csv\")\n"
   ]
  },
  {
   "cell_type": "code",
   "execution_count": 4,
   "id": "d2293db3",
   "metadata": {},
   "outputs": [
    {
     "data": {
      "text/html": [
       "<div>\n",
       "<style scoped>\n",
       "    .dataframe tbody tr th:only-of-type {\n",
       "        vertical-align: middle;\n",
       "    }\n",
       "\n",
       "    .dataframe tbody tr th {\n",
       "        vertical-align: top;\n",
       "    }\n",
       "\n",
       "    .dataframe thead th {\n",
       "        text-align: right;\n",
       "    }\n",
       "</style>\n",
       "<table border=\"1\" class=\"dataframe\">\n",
       "  <thead>\n",
       "    <tr style=\"text-align: right;\">\n",
       "      <th></th>\n",
       "      <th>id</th>\n",
       "      <th>circle_id</th>\n",
       "      <th>loc_og_t2o_mou</th>\n",
       "      <th>std_og_t2o_mou</th>\n",
       "      <th>loc_ic_t2o_mou</th>\n",
       "      <th>last_date_of_month_6</th>\n",
       "      <th>last_date_of_month_7</th>\n",
       "      <th>last_date_of_month_8</th>\n",
       "      <th>arpu_6</th>\n",
       "      <th>arpu_7</th>\n",
       "      <th>...</th>\n",
       "      <th>sachet_3g_7</th>\n",
       "      <th>sachet_3g_8</th>\n",
       "      <th>fb_user_6</th>\n",
       "      <th>fb_user_7</th>\n",
       "      <th>fb_user_8</th>\n",
       "      <th>aon</th>\n",
       "      <th>aug_vbc_3g</th>\n",
       "      <th>jul_vbc_3g</th>\n",
       "      <th>jun_vbc_3g</th>\n",
       "      <th>churn_probability</th>\n",
       "    </tr>\n",
       "  </thead>\n",
       "  <tbody>\n",
       "    <tr>\n",
       "      <th>0</th>\n",
       "      <td>0</td>\n",
       "      <td>109</td>\n",
       "      <td>0.0</td>\n",
       "      <td>0.0</td>\n",
       "      <td>0.0</td>\n",
       "      <td>6/30/2014</td>\n",
       "      <td>7/31/2014</td>\n",
       "      <td>8/31/2014</td>\n",
       "      <td>31.277</td>\n",
       "      <td>87.009</td>\n",
       "      <td>...</td>\n",
       "      <td>0</td>\n",
       "      <td>0</td>\n",
       "      <td>NaN</td>\n",
       "      <td>NaN</td>\n",
       "      <td>NaN</td>\n",
       "      <td>1958</td>\n",
       "      <td>0.0</td>\n",
       "      <td>0.0</td>\n",
       "      <td>0.0</td>\n",
       "      <td>0</td>\n",
       "    </tr>\n",
       "    <tr>\n",
       "      <th>1</th>\n",
       "      <td>1</td>\n",
       "      <td>109</td>\n",
       "      <td>0.0</td>\n",
       "      <td>0.0</td>\n",
       "      <td>0.0</td>\n",
       "      <td>6/30/2014</td>\n",
       "      <td>7/31/2014</td>\n",
       "      <td>8/31/2014</td>\n",
       "      <td>0.000</td>\n",
       "      <td>122.787</td>\n",
       "      <td>...</td>\n",
       "      <td>0</td>\n",
       "      <td>0</td>\n",
       "      <td>NaN</td>\n",
       "      <td>1.0</td>\n",
       "      <td>NaN</td>\n",
       "      <td>710</td>\n",
       "      <td>0.0</td>\n",
       "      <td>0.0</td>\n",
       "      <td>0.0</td>\n",
       "      <td>0</td>\n",
       "    </tr>\n",
       "    <tr>\n",
       "      <th>2</th>\n",
       "      <td>2</td>\n",
       "      <td>109</td>\n",
       "      <td>0.0</td>\n",
       "      <td>0.0</td>\n",
       "      <td>0.0</td>\n",
       "      <td>6/30/2014</td>\n",
       "      <td>7/31/2014</td>\n",
       "      <td>8/31/2014</td>\n",
       "      <td>60.806</td>\n",
       "      <td>103.176</td>\n",
       "      <td>...</td>\n",
       "      <td>0</td>\n",
       "      <td>0</td>\n",
       "      <td>NaN</td>\n",
       "      <td>NaN</td>\n",
       "      <td>NaN</td>\n",
       "      <td>882</td>\n",
       "      <td>0.0</td>\n",
       "      <td>0.0</td>\n",
       "      <td>0.0</td>\n",
       "      <td>0</td>\n",
       "    </tr>\n",
       "    <tr>\n",
       "      <th>3</th>\n",
       "      <td>3</td>\n",
       "      <td>109</td>\n",
       "      <td>0.0</td>\n",
       "      <td>0.0</td>\n",
       "      <td>0.0</td>\n",
       "      <td>6/30/2014</td>\n",
       "      <td>7/31/2014</td>\n",
       "      <td>8/31/2014</td>\n",
       "      <td>156.362</td>\n",
       "      <td>205.260</td>\n",
       "      <td>...</td>\n",
       "      <td>0</td>\n",
       "      <td>0</td>\n",
       "      <td>NaN</td>\n",
       "      <td>NaN</td>\n",
       "      <td>NaN</td>\n",
       "      <td>982</td>\n",
       "      <td>0.0</td>\n",
       "      <td>0.0</td>\n",
       "      <td>0.0</td>\n",
       "      <td>0</td>\n",
       "    </tr>\n",
       "    <tr>\n",
       "      <th>4</th>\n",
       "      <td>4</td>\n",
       "      <td>109</td>\n",
       "      <td>0.0</td>\n",
       "      <td>0.0</td>\n",
       "      <td>0.0</td>\n",
       "      <td>6/30/2014</td>\n",
       "      <td>7/31/2014</td>\n",
       "      <td>8/31/2014</td>\n",
       "      <td>240.708</td>\n",
       "      <td>128.191</td>\n",
       "      <td>...</td>\n",
       "      <td>1</td>\n",
       "      <td>0</td>\n",
       "      <td>1.0</td>\n",
       "      <td>1.0</td>\n",
       "      <td>1.0</td>\n",
       "      <td>647</td>\n",
       "      <td>0.0</td>\n",
       "      <td>0.0</td>\n",
       "      <td>0.0</td>\n",
       "      <td>0</td>\n",
       "    </tr>\n",
       "  </tbody>\n",
       "</table>\n",
       "<p>5 rows × 172 columns</p>\n",
       "</div>"
      ],
      "text/plain": [
       "   id  circle_id  loc_og_t2o_mou  std_og_t2o_mou  loc_ic_t2o_mou  \\\n",
       "0   0        109             0.0             0.0             0.0   \n",
       "1   1        109             0.0             0.0             0.0   \n",
       "2   2        109             0.0             0.0             0.0   \n",
       "3   3        109             0.0             0.0             0.0   \n",
       "4   4        109             0.0             0.0             0.0   \n",
       "\n",
       "  last_date_of_month_6 last_date_of_month_7 last_date_of_month_8   arpu_6  \\\n",
       "0            6/30/2014            7/31/2014            8/31/2014   31.277   \n",
       "1            6/30/2014            7/31/2014            8/31/2014    0.000   \n",
       "2            6/30/2014            7/31/2014            8/31/2014   60.806   \n",
       "3            6/30/2014            7/31/2014            8/31/2014  156.362   \n",
       "4            6/30/2014            7/31/2014            8/31/2014  240.708   \n",
       "\n",
       "    arpu_7  ...  sachet_3g_7  sachet_3g_8  fb_user_6  fb_user_7  fb_user_8  \\\n",
       "0   87.009  ...            0            0        NaN        NaN        NaN   \n",
       "1  122.787  ...            0            0        NaN        1.0        NaN   \n",
       "2  103.176  ...            0            0        NaN        NaN        NaN   \n",
       "3  205.260  ...            0            0        NaN        NaN        NaN   \n",
       "4  128.191  ...            1            0        1.0        1.0        1.0   \n",
       "\n",
       "    aon  aug_vbc_3g  jul_vbc_3g  jun_vbc_3g  churn_probability  \n",
       "0  1958         0.0         0.0         0.0                  0  \n",
       "1   710         0.0         0.0         0.0                  0  \n",
       "2   882         0.0         0.0         0.0                  0  \n",
       "3   982         0.0         0.0         0.0                  0  \n",
       "4   647         0.0         0.0         0.0                  0  \n",
       "\n",
       "[5 rows x 172 columns]"
      ]
     },
     "execution_count": 4,
     "metadata": {},
     "output_type": "execute_result"
    }
   ],
   "source": [
    "train_df.head()"
   ]
  },
  {
   "cell_type": "code",
   "execution_count": 5,
   "id": "ed588a89",
   "metadata": {},
   "outputs": [
    {
     "data": {
      "text/html": [
       "<div>\n",
       "<style scoped>\n",
       "    .dataframe tbody tr th:only-of-type {\n",
       "        vertical-align: middle;\n",
       "    }\n",
       "\n",
       "    .dataframe tbody tr th {\n",
       "        vertical-align: top;\n",
       "    }\n",
       "\n",
       "    .dataframe thead th {\n",
       "        text-align: right;\n",
       "    }\n",
       "</style>\n",
       "<table border=\"1\" class=\"dataframe\">\n",
       "  <thead>\n",
       "    <tr style=\"text-align: right;\">\n",
       "      <th></th>\n",
       "      <th>id</th>\n",
       "      <th>circle_id</th>\n",
       "      <th>loc_og_t2o_mou</th>\n",
       "      <th>std_og_t2o_mou</th>\n",
       "      <th>loc_ic_t2o_mou</th>\n",
       "      <th>last_date_of_month_6</th>\n",
       "      <th>last_date_of_month_7</th>\n",
       "      <th>last_date_of_month_8</th>\n",
       "      <th>arpu_6</th>\n",
       "      <th>arpu_7</th>\n",
       "      <th>...</th>\n",
       "      <th>sachet_3g_6</th>\n",
       "      <th>sachet_3g_7</th>\n",
       "      <th>sachet_3g_8</th>\n",
       "      <th>fb_user_6</th>\n",
       "      <th>fb_user_7</th>\n",
       "      <th>fb_user_8</th>\n",
       "      <th>aon</th>\n",
       "      <th>aug_vbc_3g</th>\n",
       "      <th>jul_vbc_3g</th>\n",
       "      <th>jun_vbc_3g</th>\n",
       "    </tr>\n",
       "  </thead>\n",
       "  <tbody>\n",
       "    <tr>\n",
       "      <th>0</th>\n",
       "      <td>69999</td>\n",
       "      <td>109</td>\n",
       "      <td>0.0</td>\n",
       "      <td>0.0</td>\n",
       "      <td>0.0</td>\n",
       "      <td>6/30/2014</td>\n",
       "      <td>7/31/2014</td>\n",
       "      <td>8/31/2014</td>\n",
       "      <td>91.882</td>\n",
       "      <td>65.330</td>\n",
       "      <td>...</td>\n",
       "      <td>0</td>\n",
       "      <td>0</td>\n",
       "      <td>0</td>\n",
       "      <td>NaN</td>\n",
       "      <td>NaN</td>\n",
       "      <td>NaN</td>\n",
       "      <td>1692</td>\n",
       "      <td>0.00</td>\n",
       "      <td>0.00</td>\n",
       "      <td>0.00</td>\n",
       "    </tr>\n",
       "    <tr>\n",
       "      <th>1</th>\n",
       "      <td>70000</td>\n",
       "      <td>109</td>\n",
       "      <td>0.0</td>\n",
       "      <td>0.0</td>\n",
       "      <td>0.0</td>\n",
       "      <td>6/30/2014</td>\n",
       "      <td>7/31/2014</td>\n",
       "      <td>8/31/2014</td>\n",
       "      <td>414.168</td>\n",
       "      <td>515.568</td>\n",
       "      <td>...</td>\n",
       "      <td>0</td>\n",
       "      <td>0</td>\n",
       "      <td>0</td>\n",
       "      <td>NaN</td>\n",
       "      <td>NaN</td>\n",
       "      <td>NaN</td>\n",
       "      <td>2533</td>\n",
       "      <td>0.00</td>\n",
       "      <td>0.00</td>\n",
       "      <td>0.00</td>\n",
       "    </tr>\n",
       "    <tr>\n",
       "      <th>2</th>\n",
       "      <td>70001</td>\n",
       "      <td>109</td>\n",
       "      <td>0.0</td>\n",
       "      <td>0.0</td>\n",
       "      <td>0.0</td>\n",
       "      <td>6/30/2014</td>\n",
       "      <td>7/31/2014</td>\n",
       "      <td>8/31/2014</td>\n",
       "      <td>329.844</td>\n",
       "      <td>434.884</td>\n",
       "      <td>...</td>\n",
       "      <td>0</td>\n",
       "      <td>0</td>\n",
       "      <td>0</td>\n",
       "      <td>NaN</td>\n",
       "      <td>NaN</td>\n",
       "      <td>NaN</td>\n",
       "      <td>277</td>\n",
       "      <td>525.61</td>\n",
       "      <td>758.41</td>\n",
       "      <td>241.84</td>\n",
       "    </tr>\n",
       "    <tr>\n",
       "      <th>3</th>\n",
       "      <td>70002</td>\n",
       "      <td>109</td>\n",
       "      <td>0.0</td>\n",
       "      <td>0.0</td>\n",
       "      <td>0.0</td>\n",
       "      <td>6/30/2014</td>\n",
       "      <td>7/31/2014</td>\n",
       "      <td>8/31/2014</td>\n",
       "      <td>43.550</td>\n",
       "      <td>171.390</td>\n",
       "      <td>...</td>\n",
       "      <td>0</td>\n",
       "      <td>0</td>\n",
       "      <td>0</td>\n",
       "      <td>NaN</td>\n",
       "      <td>NaN</td>\n",
       "      <td>NaN</td>\n",
       "      <td>1244</td>\n",
       "      <td>0.00</td>\n",
       "      <td>0.00</td>\n",
       "      <td>0.00</td>\n",
       "    </tr>\n",
       "    <tr>\n",
       "      <th>4</th>\n",
       "      <td>70003</td>\n",
       "      <td>109</td>\n",
       "      <td>0.0</td>\n",
       "      <td>0.0</td>\n",
       "      <td>0.0</td>\n",
       "      <td>6/30/2014</td>\n",
       "      <td>7/31/2014</td>\n",
       "      <td>8/31/2014</td>\n",
       "      <td>306.854</td>\n",
       "      <td>406.289</td>\n",
       "      <td>...</td>\n",
       "      <td>0</td>\n",
       "      <td>0</td>\n",
       "      <td>0</td>\n",
       "      <td>NaN</td>\n",
       "      <td>NaN</td>\n",
       "      <td>NaN</td>\n",
       "      <td>462</td>\n",
       "      <td>0.00</td>\n",
       "      <td>0.00</td>\n",
       "      <td>0.00</td>\n",
       "    </tr>\n",
       "  </tbody>\n",
       "</table>\n",
       "<p>5 rows × 171 columns</p>\n",
       "</div>"
      ],
      "text/plain": [
       "      id  circle_id  loc_og_t2o_mou  std_og_t2o_mou  loc_ic_t2o_mou  \\\n",
       "0  69999        109             0.0             0.0             0.0   \n",
       "1  70000        109             0.0             0.0             0.0   \n",
       "2  70001        109             0.0             0.0             0.0   \n",
       "3  70002        109             0.0             0.0             0.0   \n",
       "4  70003        109             0.0             0.0             0.0   \n",
       "\n",
       "  last_date_of_month_6 last_date_of_month_7 last_date_of_month_8   arpu_6  \\\n",
       "0            6/30/2014            7/31/2014            8/31/2014   91.882   \n",
       "1            6/30/2014            7/31/2014            8/31/2014  414.168   \n",
       "2            6/30/2014            7/31/2014            8/31/2014  329.844   \n",
       "3            6/30/2014            7/31/2014            8/31/2014   43.550   \n",
       "4            6/30/2014            7/31/2014            8/31/2014  306.854   \n",
       "\n",
       "    arpu_7  ...  sachet_3g_6  sachet_3g_7  sachet_3g_8  fb_user_6  fb_user_7  \\\n",
       "0   65.330  ...            0            0            0        NaN        NaN   \n",
       "1  515.568  ...            0            0            0        NaN        NaN   \n",
       "2  434.884  ...            0            0            0        NaN        NaN   \n",
       "3  171.390  ...            0            0            0        NaN        NaN   \n",
       "4  406.289  ...            0            0            0        NaN        NaN   \n",
       "\n",
       "   fb_user_8   aon  aug_vbc_3g  jul_vbc_3g  jun_vbc_3g  \n",
       "0        NaN  1692        0.00        0.00        0.00  \n",
       "1        NaN  2533        0.00        0.00        0.00  \n",
       "2        NaN   277      525.61      758.41      241.84  \n",
       "3        NaN  1244        0.00        0.00        0.00  \n",
       "4        NaN   462        0.00        0.00        0.00  \n",
       "\n",
       "[5 rows x 171 columns]"
      ]
     },
     "execution_count": 5,
     "metadata": {},
     "output_type": "execute_result"
    }
   ],
   "source": [
    "test_df.head() #it has all column except the one that we need too predict"
   ]
  },
  {
   "cell_type": "markdown",
   "id": "bea1b505",
   "metadata": {},
   "source": [
    "### Lets analyse the training set"
   ]
  },
  {
   "cell_type": "code",
   "execution_count": 6,
   "id": "39ba0b26",
   "metadata": {},
   "outputs": [
    {
     "data": {
      "text/plain": [
       "(69999, 172)"
      ]
     },
     "execution_count": 6,
     "metadata": {},
     "output_type": "execute_result"
    }
   ],
   "source": [
    "train_df.shape"
   ]
  },
  {
   "cell_type": "code",
   "execution_count": 7,
   "id": "d24d0958",
   "metadata": {},
   "outputs": [
    {
     "data": {
      "text/plain": [
       "date_of_last_rech_data_6    0.749025\n",
       "count_rech_2g_6             0.749025\n",
       "fb_user_6                   0.749025\n",
       "night_pck_user_6            0.749025\n",
       "arpu_2g_6                   0.749025\n",
       "arpu_3g_6                   0.749025\n",
       "count_rech_3g_6             0.749025\n",
       "av_rech_amt_data_6          0.749025\n",
       "max_rech_data_6             0.749025\n",
       "total_rech_data_6           0.749025\n",
       "arpu_3g_7                   0.744782\n",
       "count_rech_2g_7             0.744782\n",
       "fb_user_7                   0.744782\n",
       "count_rech_3g_7             0.744782\n",
       "date_of_last_rech_data_7    0.744782\n",
       "av_rech_amt_data_7          0.744782\n",
       "night_pck_user_7            0.744782\n",
       "max_rech_data_7             0.744782\n",
       "total_rech_data_7           0.744782\n",
       "arpu_2g_7                   0.744782\n",
       "arpu_2g_8                   0.736896\n",
       "date_of_last_rech_data_8    0.736896\n",
       "night_pck_user_8            0.736896\n",
       "max_rech_data_8             0.736896\n",
       "arpu_3g_8                   0.736896\n",
       "total_rech_data_8           0.736896\n",
       "av_rech_amt_data_8          0.736896\n",
       "count_rech_3g_8             0.736896\n",
       "count_rech_2g_8             0.736896\n",
       "fb_user_8                   0.736896\n",
       "dtype: float64"
      ]
     },
     "execution_count": 7,
     "metadata": {},
     "output_type": "execute_result"
    }
   ],
   "source": [
    "nullcount=train_df.isna().sum()/len(train_df.id)\n",
    "nullcount[nullcount>0.7].sort_values(ascending=False)  #in these fields around 75% values are null"
   ]
  },
  {
   "cell_type": "code",
   "execution_count": 8,
   "id": "0b6154d1",
   "metadata": {},
   "outputs": [
    {
     "data": {
      "text/html": [
       "<div>\n",
       "<style scoped>\n",
       "    .dataframe tbody tr th:only-of-type {\n",
       "        vertical-align: middle;\n",
       "    }\n",
       "\n",
       "    .dataframe tbody tr th {\n",
       "        vertical-align: top;\n",
       "    }\n",
       "\n",
       "    .dataframe thead th {\n",
       "        text-align: right;\n",
       "    }\n",
       "</style>\n",
       "<table border=\"1\" class=\"dataframe\">\n",
       "  <thead>\n",
       "    <tr style=\"text-align: right;\">\n",
       "      <th></th>\n",
       "      <th>date_of_last_rech_data_6</th>\n",
       "      <th>count_rech_2g_6</th>\n",
       "      <th>fb_user_6</th>\n",
       "      <th>night_pck_user_6</th>\n",
       "      <th>arpu_2g_6</th>\n",
       "      <th>arpu_3g_6</th>\n",
       "      <th>count_rech_3g_6</th>\n",
       "      <th>av_rech_amt_data_6</th>\n",
       "      <th>max_rech_data_6</th>\n",
       "      <th>total_rech_data_6</th>\n",
       "      <th>...</th>\n",
       "      <th>arpu_2g_8</th>\n",
       "      <th>date_of_last_rech_data_8</th>\n",
       "      <th>night_pck_user_8</th>\n",
       "      <th>max_rech_data_8</th>\n",
       "      <th>arpu_3g_8</th>\n",
       "      <th>total_rech_data_8</th>\n",
       "      <th>av_rech_amt_data_8</th>\n",
       "      <th>count_rech_3g_8</th>\n",
       "      <th>count_rech_2g_8</th>\n",
       "      <th>fb_user_8</th>\n",
       "    </tr>\n",
       "  </thead>\n",
       "  <tbody>\n",
       "    <tr>\n",
       "      <th>0</th>\n",
       "      <td>NaN</td>\n",
       "      <td>NaN</td>\n",
       "      <td>NaN</td>\n",
       "      <td>NaN</td>\n",
       "      <td>NaN</td>\n",
       "      <td>NaN</td>\n",
       "      <td>NaN</td>\n",
       "      <td>NaN</td>\n",
       "      <td>NaN</td>\n",
       "      <td>NaN</td>\n",
       "      <td>...</td>\n",
       "      <td>NaN</td>\n",
       "      <td>NaN</td>\n",
       "      <td>NaN</td>\n",
       "      <td>NaN</td>\n",
       "      <td>NaN</td>\n",
       "      <td>NaN</td>\n",
       "      <td>NaN</td>\n",
       "      <td>NaN</td>\n",
       "      <td>NaN</td>\n",
       "      <td>NaN</td>\n",
       "    </tr>\n",
       "    <tr>\n",
       "      <th>1</th>\n",
       "      <td>NaN</td>\n",
       "      <td>NaN</td>\n",
       "      <td>NaN</td>\n",
       "      <td>NaN</td>\n",
       "      <td>NaN</td>\n",
       "      <td>NaN</td>\n",
       "      <td>NaN</td>\n",
       "      <td>NaN</td>\n",
       "      <td>NaN</td>\n",
       "      <td>NaN</td>\n",
       "      <td>...</td>\n",
       "      <td>NaN</td>\n",
       "      <td>NaN</td>\n",
       "      <td>NaN</td>\n",
       "      <td>NaN</td>\n",
       "      <td>NaN</td>\n",
       "      <td>NaN</td>\n",
       "      <td>NaN</td>\n",
       "      <td>NaN</td>\n",
       "      <td>NaN</td>\n",
       "      <td>NaN</td>\n",
       "    </tr>\n",
       "    <tr>\n",
       "      <th>2</th>\n",
       "      <td>NaN</td>\n",
       "      <td>NaN</td>\n",
       "      <td>NaN</td>\n",
       "      <td>NaN</td>\n",
       "      <td>NaN</td>\n",
       "      <td>NaN</td>\n",
       "      <td>NaN</td>\n",
       "      <td>NaN</td>\n",
       "      <td>NaN</td>\n",
       "      <td>NaN</td>\n",
       "      <td>...</td>\n",
       "      <td>NaN</td>\n",
       "      <td>NaN</td>\n",
       "      <td>NaN</td>\n",
       "      <td>NaN</td>\n",
       "      <td>NaN</td>\n",
       "      <td>NaN</td>\n",
       "      <td>NaN</td>\n",
       "      <td>NaN</td>\n",
       "      <td>NaN</td>\n",
       "      <td>NaN</td>\n",
       "    </tr>\n",
       "    <tr>\n",
       "      <th>3</th>\n",
       "      <td>NaN</td>\n",
       "      <td>NaN</td>\n",
       "      <td>NaN</td>\n",
       "      <td>NaN</td>\n",
       "      <td>NaN</td>\n",
       "      <td>NaN</td>\n",
       "      <td>NaN</td>\n",
       "      <td>NaN</td>\n",
       "      <td>NaN</td>\n",
       "      <td>NaN</td>\n",
       "      <td>...</td>\n",
       "      <td>NaN</td>\n",
       "      <td>NaN</td>\n",
       "      <td>NaN</td>\n",
       "      <td>NaN</td>\n",
       "      <td>NaN</td>\n",
       "      <td>NaN</td>\n",
       "      <td>NaN</td>\n",
       "      <td>NaN</td>\n",
       "      <td>NaN</td>\n",
       "      <td>NaN</td>\n",
       "    </tr>\n",
       "    <tr>\n",
       "      <th>4</th>\n",
       "      <td>6/25/2014</td>\n",
       "      <td>7.0</td>\n",
       "      <td>1.0</td>\n",
       "      <td>0.0</td>\n",
       "      <td>0.00</td>\n",
       "      <td>0.00</td>\n",
       "      <td>0.0</td>\n",
       "      <td>175.0</td>\n",
       "      <td>25.0</td>\n",
       "      <td>7.0</td>\n",
       "      <td>...</td>\n",
       "      <td>0.00</td>\n",
       "      <td>8/20/2014</td>\n",
       "      <td>0.0</td>\n",
       "      <td>25.0</td>\n",
       "      <td>0.00</td>\n",
       "      <td>6.0</td>\n",
       "      <td>142.0</td>\n",
       "      <td>0.0</td>\n",
       "      <td>6.0</td>\n",
       "      <td>1.0</td>\n",
       "    </tr>\n",
       "    <tr>\n",
       "      <th>...</th>\n",
       "      <td>...</td>\n",
       "      <td>...</td>\n",
       "      <td>...</td>\n",
       "      <td>...</td>\n",
       "      <td>...</td>\n",
       "      <td>...</td>\n",
       "      <td>...</td>\n",
       "      <td>...</td>\n",
       "      <td>...</td>\n",
       "      <td>...</td>\n",
       "      <td>...</td>\n",
       "      <td>...</td>\n",
       "      <td>...</td>\n",
       "      <td>...</td>\n",
       "      <td>...</td>\n",
       "      <td>...</td>\n",
       "      <td>...</td>\n",
       "      <td>...</td>\n",
       "      <td>...</td>\n",
       "      <td>...</td>\n",
       "      <td>...</td>\n",
       "    </tr>\n",
       "    <tr>\n",
       "      <th>69994</th>\n",
       "      <td>NaN</td>\n",
       "      <td>NaN</td>\n",
       "      <td>NaN</td>\n",
       "      <td>NaN</td>\n",
       "      <td>NaN</td>\n",
       "      <td>NaN</td>\n",
       "      <td>NaN</td>\n",
       "      <td>NaN</td>\n",
       "      <td>NaN</td>\n",
       "      <td>NaN</td>\n",
       "      <td>...</td>\n",
       "      <td>48.00</td>\n",
       "      <td>8/21/2014</td>\n",
       "      <td>0.0</td>\n",
       "      <td>17.0</td>\n",
       "      <td>0.00</td>\n",
       "      <td>1.0</td>\n",
       "      <td>17.0</td>\n",
       "      <td>0.0</td>\n",
       "      <td>1.0</td>\n",
       "      <td>1.0</td>\n",
       "    </tr>\n",
       "    <tr>\n",
       "      <th>69995</th>\n",
       "      <td>NaN</td>\n",
       "      <td>NaN</td>\n",
       "      <td>NaN</td>\n",
       "      <td>NaN</td>\n",
       "      <td>NaN</td>\n",
       "      <td>NaN</td>\n",
       "      <td>NaN</td>\n",
       "      <td>NaN</td>\n",
       "      <td>NaN</td>\n",
       "      <td>NaN</td>\n",
       "      <td>...</td>\n",
       "      <td>NaN</td>\n",
       "      <td>NaN</td>\n",
       "      <td>NaN</td>\n",
       "      <td>NaN</td>\n",
       "      <td>NaN</td>\n",
       "      <td>NaN</td>\n",
       "      <td>NaN</td>\n",
       "      <td>NaN</td>\n",
       "      <td>NaN</td>\n",
       "      <td>NaN</td>\n",
       "    </tr>\n",
       "    <tr>\n",
       "      <th>69996</th>\n",
       "      <td>NaN</td>\n",
       "      <td>NaN</td>\n",
       "      <td>NaN</td>\n",
       "      <td>NaN</td>\n",
       "      <td>NaN</td>\n",
       "      <td>NaN</td>\n",
       "      <td>NaN</td>\n",
       "      <td>NaN</td>\n",
       "      <td>NaN</td>\n",
       "      <td>NaN</td>\n",
       "      <td>...</td>\n",
       "      <td>NaN</td>\n",
       "      <td>NaN</td>\n",
       "      <td>NaN</td>\n",
       "      <td>NaN</td>\n",
       "      <td>NaN</td>\n",
       "      <td>NaN</td>\n",
       "      <td>NaN</td>\n",
       "      <td>NaN</td>\n",
       "      <td>NaN</td>\n",
       "      <td>NaN</td>\n",
       "    </tr>\n",
       "    <tr>\n",
       "      <th>69997</th>\n",
       "      <td>6/17/2014</td>\n",
       "      <td>0.0</td>\n",
       "      <td>1.0</td>\n",
       "      <td>0.0</td>\n",
       "      <td>150.67</td>\n",
       "      <td>150.67</td>\n",
       "      <td>1.0</td>\n",
       "      <td>179.0</td>\n",
       "      <td>179.0</td>\n",
       "      <td>1.0</td>\n",
       "      <td>...</td>\n",
       "      <td>122.07</td>\n",
       "      <td>8/14/2014</td>\n",
       "      <td>0.0</td>\n",
       "      <td>145.0</td>\n",
       "      <td>122.08</td>\n",
       "      <td>1.0</td>\n",
       "      <td>145.0</td>\n",
       "      <td>1.0</td>\n",
       "      <td>0.0</td>\n",
       "      <td>1.0</td>\n",
       "    </tr>\n",
       "    <tr>\n",
       "      <th>69998</th>\n",
       "      <td>6/19/2014</td>\n",
       "      <td>1.0</td>\n",
       "      <td>1.0</td>\n",
       "      <td>0.0</td>\n",
       "      <td>0.00</td>\n",
       "      <td>0.00</td>\n",
       "      <td>0.0</td>\n",
       "      <td>198.0</td>\n",
       "      <td>198.0</td>\n",
       "      <td>1.0</td>\n",
       "      <td>...</td>\n",
       "      <td>0.02</td>\n",
       "      <td>8/8/2014</td>\n",
       "      <td>0.0</td>\n",
       "      <td>198.0</td>\n",
       "      <td>0.00</td>\n",
       "      <td>1.0</td>\n",
       "      <td>198.0</td>\n",
       "      <td>0.0</td>\n",
       "      <td>1.0</td>\n",
       "      <td>1.0</td>\n",
       "    </tr>\n",
       "  </tbody>\n",
       "</table>\n",
       "<p>69999 rows × 30 columns</p>\n",
       "</div>"
      ],
      "text/plain": [
       "      date_of_last_rech_data_6  count_rech_2g_6  fb_user_6  night_pck_user_6  \\\n",
       "0                          NaN              NaN        NaN               NaN   \n",
       "1                          NaN              NaN        NaN               NaN   \n",
       "2                          NaN              NaN        NaN               NaN   \n",
       "3                          NaN              NaN        NaN               NaN   \n",
       "4                    6/25/2014              7.0        1.0               0.0   \n",
       "...                        ...              ...        ...               ...   \n",
       "69994                      NaN              NaN        NaN               NaN   \n",
       "69995                      NaN              NaN        NaN               NaN   \n",
       "69996                      NaN              NaN        NaN               NaN   \n",
       "69997                6/17/2014              0.0        1.0               0.0   \n",
       "69998                6/19/2014              1.0        1.0               0.0   \n",
       "\n",
       "       arpu_2g_6  arpu_3g_6  count_rech_3g_6  av_rech_amt_data_6  \\\n",
       "0            NaN        NaN              NaN                 NaN   \n",
       "1            NaN        NaN              NaN                 NaN   \n",
       "2            NaN        NaN              NaN                 NaN   \n",
       "3            NaN        NaN              NaN                 NaN   \n",
       "4           0.00       0.00              0.0               175.0   \n",
       "...          ...        ...              ...                 ...   \n",
       "69994        NaN        NaN              NaN                 NaN   \n",
       "69995        NaN        NaN              NaN                 NaN   \n",
       "69996        NaN        NaN              NaN                 NaN   \n",
       "69997     150.67     150.67              1.0               179.0   \n",
       "69998       0.00       0.00              0.0               198.0   \n",
       "\n",
       "       max_rech_data_6  total_rech_data_6  ...  arpu_2g_8  \\\n",
       "0                  NaN                NaN  ...        NaN   \n",
       "1                  NaN                NaN  ...        NaN   \n",
       "2                  NaN                NaN  ...        NaN   \n",
       "3                  NaN                NaN  ...        NaN   \n",
       "4                 25.0                7.0  ...       0.00   \n",
       "...                ...                ...  ...        ...   \n",
       "69994              NaN                NaN  ...      48.00   \n",
       "69995              NaN                NaN  ...        NaN   \n",
       "69996              NaN                NaN  ...        NaN   \n",
       "69997            179.0                1.0  ...     122.07   \n",
       "69998            198.0                1.0  ...       0.02   \n",
       "\n",
       "       date_of_last_rech_data_8  night_pck_user_8  max_rech_data_8 arpu_3g_8  \\\n",
       "0                           NaN               NaN              NaN       NaN   \n",
       "1                           NaN               NaN              NaN       NaN   \n",
       "2                           NaN               NaN              NaN       NaN   \n",
       "3                           NaN               NaN              NaN       NaN   \n",
       "4                     8/20/2014               0.0             25.0      0.00   \n",
       "...                         ...               ...              ...       ...   \n",
       "69994                 8/21/2014               0.0             17.0      0.00   \n",
       "69995                       NaN               NaN              NaN       NaN   \n",
       "69996                       NaN               NaN              NaN       NaN   \n",
       "69997                 8/14/2014               0.0            145.0    122.08   \n",
       "69998                  8/8/2014               0.0            198.0      0.00   \n",
       "\n",
       "       total_rech_data_8  av_rech_amt_data_8  count_rech_3g_8  \\\n",
       "0                    NaN                 NaN              NaN   \n",
       "1                    NaN                 NaN              NaN   \n",
       "2                    NaN                 NaN              NaN   \n",
       "3                    NaN                 NaN              NaN   \n",
       "4                    6.0               142.0              0.0   \n",
       "...                  ...                 ...              ...   \n",
       "69994                1.0                17.0              0.0   \n",
       "69995                NaN                 NaN              NaN   \n",
       "69996                NaN                 NaN              NaN   \n",
       "69997                1.0               145.0              1.0   \n",
       "69998                1.0               198.0              0.0   \n",
       "\n",
       "       count_rech_2g_8  fb_user_8  \n",
       "0                  NaN        NaN  \n",
       "1                  NaN        NaN  \n",
       "2                  NaN        NaN  \n",
       "3                  NaN        NaN  \n",
       "4                  6.0        1.0  \n",
       "...                ...        ...  \n",
       "69994              1.0        1.0  \n",
       "69995              NaN        NaN  \n",
       "69996              NaN        NaN  \n",
       "69997              0.0        1.0  \n",
       "69998              1.0        1.0  \n",
       "\n",
       "[69999 rows x 30 columns]"
      ]
     },
     "execution_count": 8,
     "metadata": {},
     "output_type": "execute_result"
    }
   ],
   "source": [
    "moreNullCols=nullcount[nullcount>0.7].sort_values(ascending=False).index\n",
    "train_df[moreNullCols] #seems the record is full NA or information available "
   ]
  },
  {
   "cell_type": "code",
   "execution_count": null,
   "id": "893abe20",
   "metadata": {},
   "outputs": [],
   "source": []
  },
  {
   "cell_type": "code",
   "execution_count": 9,
   "id": "edbbdb86",
   "metadata": {},
   "outputs": [
    {
     "data": {
      "text/html": [
       "<div>\n",
       "<style scoped>\n",
       "    .dataframe tbody tr th:only-of-type {\n",
       "        vertical-align: middle;\n",
       "    }\n",
       "\n",
       "    .dataframe tbody tr th {\n",
       "        vertical-align: top;\n",
       "    }\n",
       "\n",
       "    .dataframe thead th {\n",
       "        text-align: right;\n",
       "    }\n",
       "</style>\n",
       "<table border=\"1\" class=\"dataframe\">\n",
       "  <thead>\n",
       "    <tr style=\"text-align: right;\">\n",
       "      <th></th>\n",
       "      <th>date_of_last_rech_data_6</th>\n",
       "      <th>count_rech_2g_6</th>\n",
       "      <th>fb_user_6</th>\n",
       "      <th>night_pck_user_6</th>\n",
       "      <th>arpu_2g_6</th>\n",
       "      <th>arpu_3g_6</th>\n",
       "      <th>count_rech_3g_6</th>\n",
       "      <th>av_rech_amt_data_6</th>\n",
       "      <th>max_rech_data_6</th>\n",
       "      <th>total_rech_data_6</th>\n",
       "      <th>...</th>\n",
       "      <th>arpu_2g_8</th>\n",
       "      <th>date_of_last_rech_data_8</th>\n",
       "      <th>night_pck_user_8</th>\n",
       "      <th>max_rech_data_8</th>\n",
       "      <th>arpu_3g_8</th>\n",
       "      <th>total_rech_data_8</th>\n",
       "      <th>av_rech_amt_data_8</th>\n",
       "      <th>count_rech_3g_8</th>\n",
       "      <th>count_rech_2g_8</th>\n",
       "      <th>fb_user_8</th>\n",
       "    </tr>\n",
       "  </thead>\n",
       "  <tbody>\n",
       "    <tr>\n",
       "      <th>4</th>\n",
       "      <td>6/25/2014</td>\n",
       "      <td>7.0</td>\n",
       "      <td>1.0</td>\n",
       "      <td>0.0</td>\n",
       "      <td>0.00</td>\n",
       "      <td>0.00</td>\n",
       "      <td>0.0</td>\n",
       "      <td>175.0</td>\n",
       "      <td>25.0</td>\n",
       "      <td>7.0</td>\n",
       "      <td>...</td>\n",
       "      <td>0.00</td>\n",
       "      <td>8/20/2014</td>\n",
       "      <td>0.0</td>\n",
       "      <td>25.0</td>\n",
       "      <td>0.00</td>\n",
       "      <td>6.0</td>\n",
       "      <td>142.0</td>\n",
       "      <td>0.0</td>\n",
       "      <td>6.0</td>\n",
       "      <td>1.0</td>\n",
       "    </tr>\n",
       "    <tr>\n",
       "      <th>7</th>\n",
       "      <td>6/20/2014</td>\n",
       "      <td>1.0</td>\n",
       "      <td>1.0</td>\n",
       "      <td>0.0</td>\n",
       "      <td>0.00</td>\n",
       "      <td>0.00</td>\n",
       "      <td>0.0</td>\n",
       "      <td>198.0</td>\n",
       "      <td>198.0</td>\n",
       "      <td>1.0</td>\n",
       "      <td>...</td>\n",
       "      <td>0.00</td>\n",
       "      <td>8/20/2014</td>\n",
       "      <td>0.0</td>\n",
       "      <td>198.0</td>\n",
       "      <td>0.00</td>\n",
       "      <td>1.0</td>\n",
       "      <td>198.0</td>\n",
       "      <td>0.0</td>\n",
       "      <td>1.0</td>\n",
       "      <td>1.0</td>\n",
       "    </tr>\n",
       "    <tr>\n",
       "      <th>10</th>\n",
       "      <td>6/29/2014</td>\n",
       "      <td>1.0</td>\n",
       "      <td>1.0</td>\n",
       "      <td>0.0</td>\n",
       "      <td>14.38</td>\n",
       "      <td>202.27</td>\n",
       "      <td>0.0</td>\n",
       "      <td>98.0</td>\n",
       "      <td>98.0</td>\n",
       "      <td>1.0</td>\n",
       "      <td>...</td>\n",
       "      <td>NaN</td>\n",
       "      <td>NaN</td>\n",
       "      <td>NaN</td>\n",
       "      <td>NaN</td>\n",
       "      <td>NaN</td>\n",
       "      <td>NaN</td>\n",
       "      <td>NaN</td>\n",
       "      <td>NaN</td>\n",
       "      <td>NaN</td>\n",
       "      <td>NaN</td>\n",
       "    </tr>\n",
       "    <tr>\n",
       "      <th>15</th>\n",
       "      <td>6/16/2014</td>\n",
       "      <td>1.0</td>\n",
       "      <td>1.0</td>\n",
       "      <td>0.0</td>\n",
       "      <td>164.75</td>\n",
       "      <td>0.00</td>\n",
       "      <td>0.0</td>\n",
       "      <td>154.0</td>\n",
       "      <td>154.0</td>\n",
       "      <td>1.0</td>\n",
       "      <td>...</td>\n",
       "      <td>28.80</td>\n",
       "      <td>8/2/2014</td>\n",
       "      <td>0.0</td>\n",
       "      <td>154.0</td>\n",
       "      <td>0.00</td>\n",
       "      <td>1.0</td>\n",
       "      <td>154.0</td>\n",
       "      <td>0.0</td>\n",
       "      <td>1.0</td>\n",
       "      <td>1.0</td>\n",
       "    </tr>\n",
       "    <tr>\n",
       "      <th>16</th>\n",
       "      <td>6/19/2014</td>\n",
       "      <td>0.0</td>\n",
       "      <td>1.0</td>\n",
       "      <td>0.0</td>\n",
       "      <td>122.07</td>\n",
       "      <td>122.58</td>\n",
       "      <td>1.0</td>\n",
       "      <td>145.0</td>\n",
       "      <td>145.0</td>\n",
       "      <td>1.0</td>\n",
       "      <td>...</td>\n",
       "      <td>NaN</td>\n",
       "      <td>NaN</td>\n",
       "      <td>NaN</td>\n",
       "      <td>NaN</td>\n",
       "      <td>NaN</td>\n",
       "      <td>NaN</td>\n",
       "      <td>NaN</td>\n",
       "      <td>NaN</td>\n",
       "      <td>NaN</td>\n",
       "      <td>NaN</td>\n",
       "    </tr>\n",
       "    <tr>\n",
       "      <th>...</th>\n",
       "      <td>...</td>\n",
       "      <td>...</td>\n",
       "      <td>...</td>\n",
       "      <td>...</td>\n",
       "      <td>...</td>\n",
       "      <td>...</td>\n",
       "      <td>...</td>\n",
       "      <td>...</td>\n",
       "      <td>...</td>\n",
       "      <td>...</td>\n",
       "      <td>...</td>\n",
       "      <td>...</td>\n",
       "      <td>...</td>\n",
       "      <td>...</td>\n",
       "      <td>...</td>\n",
       "      <td>...</td>\n",
       "      <td>...</td>\n",
       "      <td>...</td>\n",
       "      <td>...</td>\n",
       "      <td>...</td>\n",
       "      <td>...</td>\n",
       "    </tr>\n",
       "    <tr>\n",
       "      <th>69984</th>\n",
       "      <td>6/27/2014</td>\n",
       "      <td>1.0</td>\n",
       "      <td>1.0</td>\n",
       "      <td>0.0</td>\n",
       "      <td>186.03</td>\n",
       "      <td>186.03</td>\n",
       "      <td>2.0</td>\n",
       "      <td>449.0</td>\n",
       "      <td>152.0</td>\n",
       "      <td>3.0</td>\n",
       "      <td>...</td>\n",
       "      <td>NaN</td>\n",
       "      <td>NaN</td>\n",
       "      <td>NaN</td>\n",
       "      <td>NaN</td>\n",
       "      <td>NaN</td>\n",
       "      <td>NaN</td>\n",
       "      <td>NaN</td>\n",
       "      <td>NaN</td>\n",
       "      <td>NaN</td>\n",
       "      <td>NaN</td>\n",
       "    </tr>\n",
       "    <tr>\n",
       "      <th>69989</th>\n",
       "      <td>6/30/2014</td>\n",
       "      <td>1.0</td>\n",
       "      <td>1.0</td>\n",
       "      <td>1.0</td>\n",
       "      <td>87.68</td>\n",
       "      <td>80.53</td>\n",
       "      <td>1.0</td>\n",
       "      <td>99.0</td>\n",
       "      <td>91.0</td>\n",
       "      <td>2.0</td>\n",
       "      <td>...</td>\n",
       "      <td>83.58</td>\n",
       "      <td>8/26/2014</td>\n",
       "      <td>0.0</td>\n",
       "      <td>91.0</td>\n",
       "      <td>91.89</td>\n",
       "      <td>1.0</td>\n",
       "      <td>91.0</td>\n",
       "      <td>1.0</td>\n",
       "      <td>0.0</td>\n",
       "      <td>1.0</td>\n",
       "    </tr>\n",
       "    <tr>\n",
       "      <th>69993</th>\n",
       "      <td>6/25/2014</td>\n",
       "      <td>9.0</td>\n",
       "      <td>1.0</td>\n",
       "      <td>0.0</td>\n",
       "      <td>3.65</td>\n",
       "      <td>0.58</td>\n",
       "      <td>0.0</td>\n",
       "      <td>319.0</td>\n",
       "      <td>149.0</td>\n",
       "      <td>9.0</td>\n",
       "      <td>...</td>\n",
       "      <td>NaN</td>\n",
       "      <td>NaN</td>\n",
       "      <td>NaN</td>\n",
       "      <td>NaN</td>\n",
       "      <td>NaN</td>\n",
       "      <td>NaN</td>\n",
       "      <td>NaN</td>\n",
       "      <td>NaN</td>\n",
       "      <td>NaN</td>\n",
       "      <td>NaN</td>\n",
       "    </tr>\n",
       "    <tr>\n",
       "      <th>69997</th>\n",
       "      <td>6/17/2014</td>\n",
       "      <td>0.0</td>\n",
       "      <td>1.0</td>\n",
       "      <td>0.0</td>\n",
       "      <td>150.67</td>\n",
       "      <td>150.67</td>\n",
       "      <td>1.0</td>\n",
       "      <td>179.0</td>\n",
       "      <td>179.0</td>\n",
       "      <td>1.0</td>\n",
       "      <td>...</td>\n",
       "      <td>122.07</td>\n",
       "      <td>8/14/2014</td>\n",
       "      <td>0.0</td>\n",
       "      <td>145.0</td>\n",
       "      <td>122.08</td>\n",
       "      <td>1.0</td>\n",
       "      <td>145.0</td>\n",
       "      <td>1.0</td>\n",
       "      <td>0.0</td>\n",
       "      <td>1.0</td>\n",
       "    </tr>\n",
       "    <tr>\n",
       "      <th>69998</th>\n",
       "      <td>6/19/2014</td>\n",
       "      <td>1.0</td>\n",
       "      <td>1.0</td>\n",
       "      <td>0.0</td>\n",
       "      <td>0.00</td>\n",
       "      <td>0.00</td>\n",
       "      <td>0.0</td>\n",
       "      <td>198.0</td>\n",
       "      <td>198.0</td>\n",
       "      <td>1.0</td>\n",
       "      <td>...</td>\n",
       "      <td>0.02</td>\n",
       "      <td>8/8/2014</td>\n",
       "      <td>0.0</td>\n",
       "      <td>198.0</td>\n",
       "      <td>0.00</td>\n",
       "      <td>1.0</td>\n",
       "      <td>198.0</td>\n",
       "      <td>0.0</td>\n",
       "      <td>1.0</td>\n",
       "      <td>1.0</td>\n",
       "    </tr>\n",
       "  </tbody>\n",
       "</table>\n",
       "<p>17568 rows × 30 columns</p>\n",
       "</div>"
      ],
      "text/plain": [
       "      date_of_last_rech_data_6  count_rech_2g_6  fb_user_6  night_pck_user_6  \\\n",
       "4                    6/25/2014              7.0        1.0               0.0   \n",
       "7                    6/20/2014              1.0        1.0               0.0   \n",
       "10                   6/29/2014              1.0        1.0               0.0   \n",
       "15                   6/16/2014              1.0        1.0               0.0   \n",
       "16                   6/19/2014              0.0        1.0               0.0   \n",
       "...                        ...              ...        ...               ...   \n",
       "69984                6/27/2014              1.0        1.0               0.0   \n",
       "69989                6/30/2014              1.0        1.0               1.0   \n",
       "69993                6/25/2014              9.0        1.0               0.0   \n",
       "69997                6/17/2014              0.0        1.0               0.0   \n",
       "69998                6/19/2014              1.0        1.0               0.0   \n",
       "\n",
       "       arpu_2g_6  arpu_3g_6  count_rech_3g_6  av_rech_amt_data_6  \\\n",
       "4           0.00       0.00              0.0               175.0   \n",
       "7           0.00       0.00              0.0               198.0   \n",
       "10         14.38     202.27              0.0                98.0   \n",
       "15        164.75       0.00              0.0               154.0   \n",
       "16        122.07     122.58              1.0               145.0   \n",
       "...          ...        ...              ...                 ...   \n",
       "69984     186.03     186.03              2.0               449.0   \n",
       "69989      87.68      80.53              1.0                99.0   \n",
       "69993       3.65       0.58              0.0               319.0   \n",
       "69997     150.67     150.67              1.0               179.0   \n",
       "69998       0.00       0.00              0.0               198.0   \n",
       "\n",
       "       max_rech_data_6  total_rech_data_6  ...  arpu_2g_8  \\\n",
       "4                 25.0                7.0  ...       0.00   \n",
       "7                198.0                1.0  ...       0.00   \n",
       "10                98.0                1.0  ...        NaN   \n",
       "15               154.0                1.0  ...      28.80   \n",
       "16               145.0                1.0  ...        NaN   \n",
       "...                ...                ...  ...        ...   \n",
       "69984            152.0                3.0  ...        NaN   \n",
       "69989             91.0                2.0  ...      83.58   \n",
       "69993            149.0                9.0  ...        NaN   \n",
       "69997            179.0                1.0  ...     122.07   \n",
       "69998            198.0                1.0  ...       0.02   \n",
       "\n",
       "       date_of_last_rech_data_8  night_pck_user_8  max_rech_data_8 arpu_3g_8  \\\n",
       "4                     8/20/2014               0.0             25.0      0.00   \n",
       "7                     8/20/2014               0.0            198.0      0.00   \n",
       "10                          NaN               NaN              NaN       NaN   \n",
       "15                     8/2/2014               0.0            154.0      0.00   \n",
       "16                          NaN               NaN              NaN       NaN   \n",
       "...                         ...               ...              ...       ...   \n",
       "69984                       NaN               NaN              NaN       NaN   \n",
       "69989                 8/26/2014               0.0             91.0     91.89   \n",
       "69993                       NaN               NaN              NaN       NaN   \n",
       "69997                 8/14/2014               0.0            145.0    122.08   \n",
       "69998                  8/8/2014               0.0            198.0      0.00   \n",
       "\n",
       "       total_rech_data_8  av_rech_amt_data_8  count_rech_3g_8  \\\n",
       "4                    6.0               142.0              0.0   \n",
       "7                    1.0               198.0              0.0   \n",
       "10                   NaN                 NaN              NaN   \n",
       "15                   1.0               154.0              0.0   \n",
       "16                   NaN                 NaN              NaN   \n",
       "...                  ...                 ...              ...   \n",
       "69984                NaN                 NaN              NaN   \n",
       "69989                1.0                91.0              1.0   \n",
       "69993                NaN                 NaN              NaN   \n",
       "69997                1.0               145.0              1.0   \n",
       "69998                1.0               198.0              0.0   \n",
       "\n",
       "       count_rech_2g_8  fb_user_8  \n",
       "4                  6.0        1.0  \n",
       "7                  1.0        1.0  \n",
       "10                 NaN        NaN  \n",
       "15                 1.0        1.0  \n",
       "16                 NaN        NaN  \n",
       "...                ...        ...  \n",
       "69984              NaN        NaN  \n",
       "69989              0.0        1.0  \n",
       "69993              NaN        NaN  \n",
       "69997              0.0        1.0  \n",
       "69998              1.0        1.0  \n",
       "\n",
       "[17568 rows x 30 columns]"
      ]
     },
     "execution_count": 9,
     "metadata": {},
     "output_type": "execute_result"
    }
   ],
   "source": [
    "train_df[~train_df.date_of_last_rech_data_6.isna()][moreNullCols]"
   ]
  },
  {
   "cell_type": "code",
   "execution_count": 10,
   "id": "2a47b063",
   "metadata": {},
   "outputs": [
    {
     "data": {
      "text/plain": [
       "['id',\n",
       " 'circle_id',\n",
       " 'loc_og_t2o_mou',\n",
       " 'std_og_t2o_mou',\n",
       " 'loc_ic_t2o_mou',\n",
       " 'last_date_of_month_6',\n",
       " 'last_date_of_month_7',\n",
       " 'last_date_of_month_8',\n",
       " 'arpu_6',\n",
       " 'arpu_7',\n",
       " 'arpu_8',\n",
       " 'onnet_mou_6',\n",
       " 'onnet_mou_7',\n",
       " 'onnet_mou_8',\n",
       " 'offnet_mou_6',\n",
       " 'offnet_mou_7',\n",
       " 'offnet_mou_8',\n",
       " 'roam_ic_mou_6',\n",
       " 'roam_ic_mou_7',\n",
       " 'roam_ic_mou_8',\n",
       " 'roam_og_mou_6',\n",
       " 'roam_og_mou_7',\n",
       " 'roam_og_mou_8',\n",
       " 'loc_og_t2t_mou_6',\n",
       " 'loc_og_t2t_mou_7',\n",
       " 'loc_og_t2t_mou_8',\n",
       " 'loc_og_t2m_mou_6',\n",
       " 'loc_og_t2m_mou_7',\n",
       " 'loc_og_t2m_mou_8',\n",
       " 'loc_og_t2f_mou_6',\n",
       " 'loc_og_t2f_mou_7',\n",
       " 'loc_og_t2f_mou_8',\n",
       " 'loc_og_t2c_mou_6',\n",
       " 'loc_og_t2c_mou_7',\n",
       " 'loc_og_t2c_mou_8',\n",
       " 'loc_og_mou_6',\n",
       " 'loc_og_mou_7',\n",
       " 'loc_og_mou_8',\n",
       " 'std_og_t2t_mou_6',\n",
       " 'std_og_t2t_mou_7',\n",
       " 'std_og_t2t_mou_8',\n",
       " 'std_og_t2m_mou_6',\n",
       " 'std_og_t2m_mou_7',\n",
       " 'std_og_t2m_mou_8',\n",
       " 'std_og_t2f_mou_6',\n",
       " 'std_og_t2f_mou_7',\n",
       " 'std_og_t2f_mou_8',\n",
       " 'std_og_t2c_mou_6',\n",
       " 'std_og_t2c_mou_7',\n",
       " 'std_og_t2c_mou_8',\n",
       " 'std_og_mou_6',\n",
       " 'std_og_mou_7',\n",
       " 'std_og_mou_8',\n",
       " 'isd_og_mou_6',\n",
       " 'isd_og_mou_7',\n",
       " 'isd_og_mou_8',\n",
       " 'spl_og_mou_6',\n",
       " 'spl_og_mou_7',\n",
       " 'spl_og_mou_8',\n",
       " 'og_others_6',\n",
       " 'og_others_7',\n",
       " 'og_others_8',\n",
       " 'total_og_mou_6',\n",
       " 'total_og_mou_7',\n",
       " 'total_og_mou_8',\n",
       " 'loc_ic_t2t_mou_6',\n",
       " 'loc_ic_t2t_mou_7',\n",
       " 'loc_ic_t2t_mou_8',\n",
       " 'loc_ic_t2m_mou_6',\n",
       " 'loc_ic_t2m_mou_7',\n",
       " 'loc_ic_t2m_mou_8',\n",
       " 'loc_ic_t2f_mou_6',\n",
       " 'loc_ic_t2f_mou_7',\n",
       " 'loc_ic_t2f_mou_8',\n",
       " 'loc_ic_mou_6',\n",
       " 'loc_ic_mou_7',\n",
       " 'loc_ic_mou_8',\n",
       " 'std_ic_t2t_mou_6',\n",
       " 'std_ic_t2t_mou_7',\n",
       " 'std_ic_t2t_mou_8',\n",
       " 'std_ic_t2m_mou_6',\n",
       " 'std_ic_t2m_mou_7',\n",
       " 'std_ic_t2m_mou_8',\n",
       " 'std_ic_t2f_mou_6',\n",
       " 'std_ic_t2f_mou_7',\n",
       " 'std_ic_t2f_mou_8',\n",
       " 'std_ic_t2o_mou_6',\n",
       " 'std_ic_t2o_mou_7',\n",
       " 'std_ic_t2o_mou_8',\n",
       " 'std_ic_mou_6',\n",
       " 'std_ic_mou_7',\n",
       " 'std_ic_mou_8',\n",
       " 'total_ic_mou_6',\n",
       " 'total_ic_mou_7',\n",
       " 'total_ic_mou_8',\n",
       " 'spl_ic_mou_6',\n",
       " 'spl_ic_mou_7',\n",
       " 'spl_ic_mou_8',\n",
       " 'isd_ic_mou_6',\n",
       " 'isd_ic_mou_7',\n",
       " 'isd_ic_mou_8',\n",
       " 'ic_others_6',\n",
       " 'ic_others_7',\n",
       " 'ic_others_8',\n",
       " 'total_rech_num_6',\n",
       " 'total_rech_num_7',\n",
       " 'total_rech_num_8',\n",
       " 'total_rech_amt_6',\n",
       " 'total_rech_amt_7',\n",
       " 'total_rech_amt_8',\n",
       " 'max_rech_amt_6',\n",
       " 'max_rech_amt_7',\n",
       " 'max_rech_amt_8',\n",
       " 'date_of_last_rech_6',\n",
       " 'date_of_last_rech_7',\n",
       " 'date_of_last_rech_8',\n",
       " 'last_day_rch_amt_6',\n",
       " 'last_day_rch_amt_7',\n",
       " 'last_day_rch_amt_8',\n",
       " 'date_of_last_rech_data_6',\n",
       " 'date_of_last_rech_data_7',\n",
       " 'date_of_last_rech_data_8',\n",
       " 'total_rech_data_6',\n",
       " 'total_rech_data_7',\n",
       " 'total_rech_data_8',\n",
       " 'max_rech_data_6',\n",
       " 'max_rech_data_7',\n",
       " 'max_rech_data_8',\n",
       " 'count_rech_2g_6',\n",
       " 'count_rech_2g_7',\n",
       " 'count_rech_2g_8',\n",
       " 'count_rech_3g_6',\n",
       " 'count_rech_3g_7',\n",
       " 'count_rech_3g_8',\n",
       " 'av_rech_amt_data_6',\n",
       " 'av_rech_amt_data_7',\n",
       " 'av_rech_amt_data_8',\n",
       " 'vol_2g_mb_6',\n",
       " 'vol_2g_mb_7',\n",
       " 'vol_2g_mb_8',\n",
       " 'vol_3g_mb_6',\n",
       " 'vol_3g_mb_7',\n",
       " 'vol_3g_mb_8',\n",
       " 'arpu_3g_6',\n",
       " 'arpu_3g_7',\n",
       " 'arpu_3g_8',\n",
       " 'arpu_2g_6',\n",
       " 'arpu_2g_7',\n",
       " 'arpu_2g_8',\n",
       " 'night_pck_user_6',\n",
       " 'night_pck_user_7',\n",
       " 'night_pck_user_8',\n",
       " 'monthly_2g_6',\n",
       " 'monthly_2g_7',\n",
       " 'monthly_2g_8',\n",
       " 'sachet_2g_6',\n",
       " 'sachet_2g_7',\n",
       " 'sachet_2g_8',\n",
       " 'monthly_3g_6',\n",
       " 'monthly_3g_7',\n",
       " 'monthly_3g_8',\n",
       " 'sachet_3g_6',\n",
       " 'sachet_3g_7',\n",
       " 'sachet_3g_8',\n",
       " 'fb_user_6',\n",
       " 'fb_user_7',\n",
       " 'fb_user_8',\n",
       " 'aon',\n",
       " 'aug_vbc_3g',\n",
       " 'jul_vbc_3g',\n",
       " 'jun_vbc_3g',\n",
       " 'churn_probability']"
      ]
     },
     "execution_count": 10,
     "metadata": {},
     "output_type": "execute_result"
    }
   ],
   "source": [
    "[i for i in train_df.columns]"
   ]
  },
  {
   "cell_type": "code",
   "execution_count": 11,
   "id": "3c2d7f51",
   "metadata": {},
   "outputs": [],
   "source": [
    "#TRYING to identify some of the variables which is important in terms of revenue generation as per the given businesss perspective\n",
    "SelectedCols=['arpu_6','arpu_7','arpu_8','onnet_mou_6', 'onnet_mou_7', 'onnet_mou_8','offnet_mou_6',\n",
    "    'offnet_mou_7',\n",
    "     'offnet_mou_8',\n",
    "     'roam_ic_mou_6',\n",
    "     'roam_ic_mou_7',\n",
    "     'roam_ic_mou_8',\n",
    "     'roam_og_mou_6',\n",
    "     'roam_og_mou_7',\n",
    "     'roam_og_mou_8','std_og_t2t_mou_6',\n",
    " 'std_og_t2t_mou_7',\n",
    " 'std_og_t2t_mou_8',\n",
    " 'std_og_t2m_mou_6',\n",
    " 'std_og_t2m_mou_7',\n",
    " 'std_og_t2m_mou_8',\n",
    " 'std_og_t2f_mou_6',\n",
    " 'std_og_t2f_mou_7',\n",
    " 'std_og_t2f_mou_8',\n",
    " 'std_og_t2c_mou_6',\n",
    " 'std_og_t2c_mou_7',\n",
    " 'std_og_t2c_mou_8',\n",
    " 'std_og_mou_6',\n",
    " 'std_og_mou_7',\n",
    " 'std_og_mou_8',\n",
    " 'isd_og_mou_6',\n",
    " 'isd_og_mou_7',\n",
    " 'isd_og_mou_8',\n",
    " 'spl_og_mou_6',\n",
    " 'spl_og_mou_7',\n",
    " 'spl_og_mou_8',\n",
    " 'og_others_6',\n",
    " 'og_others_7',\n",
    " 'og_others_8',\n",
    " 'total_og_mou_6',\n",
    " 'total_og_mou_7',\n",
    " 'total_og_mou_8','total_rech_num_6',\n",
    " 'total_rech_num_7',\n",
    " 'total_rech_num_8',\n",
    " 'total_rech_amt_6',\n",
    " 'total_rech_amt_7',\n",
    " 'total_rech_amt_8',\n",
    " 'max_rech_amt_6',\n",
    " 'max_rech_amt_7',\n",
    " 'max_rech_amt_8','date_of_last_rech_data_6',\n",
    " 'date_of_last_rech_data_7',\n",
    " 'date_of_last_rech_data_8',\n",
    " 'total_rech_data_6',\n",
    " 'total_rech_data_7',\n",
    " 'total_rech_data_8','night_pck_user_6',\n",
    " 'night_pck_user_7',\n",
    " 'night_pck_user_8',\n",
    " 'monthly_2g_6',\n",
    " 'monthly_2g_7',\n",
    " 'monthly_2g_8',\n",
    " 'sachet_2g_6',\n",
    " 'sachet_2g_7',\n",
    " 'sachet_2g_8',\n",
    " 'monthly_3g_6',\n",
    " 'monthly_3g_7',\n",
    " 'monthly_3g_8',\n",
    " 'sachet_3g_6',\n",
    " 'sachet_3g_7',\n",
    " 'sachet_3g_8',\n",
    " 'fb_user_6',\n",
    " 'fb_user_7',\n",
    " 'fb_user_8',\n",
    " 'aon',\n",
    " 'aug_vbc_3g',\n",
    " 'jul_vbc_3g',\n",
    " 'jun_vbc_3g']"
   ]
  },
  {
   "cell_type": "code",
   "execution_count": 12,
   "id": "8345ea6f",
   "metadata": {},
   "outputs": [
    {
     "data": {
      "text/html": [
       "<div>\n",
       "<style scoped>\n",
       "    .dataframe tbody tr th:only-of-type {\n",
       "        vertical-align: middle;\n",
       "    }\n",
       "\n",
       "    .dataframe tbody tr th {\n",
       "        vertical-align: top;\n",
       "    }\n",
       "\n",
       "    .dataframe thead th {\n",
       "        text-align: right;\n",
       "    }\n",
       "</style>\n",
       "<table border=\"1\" class=\"dataframe\">\n",
       "  <thead>\n",
       "    <tr style=\"text-align: right;\">\n",
       "      <th></th>\n",
       "      <th>arpu_6</th>\n",
       "      <th>arpu_7</th>\n",
       "      <th>arpu_8</th>\n",
       "      <th>onnet_mou_6</th>\n",
       "      <th>onnet_mou_7</th>\n",
       "      <th>onnet_mou_8</th>\n",
       "      <th>offnet_mou_6</th>\n",
       "      <th>offnet_mou_7</th>\n",
       "      <th>offnet_mou_8</th>\n",
       "      <th>roam_ic_mou_6</th>\n",
       "      <th>...</th>\n",
       "      <th>sachet_3g_6</th>\n",
       "      <th>sachet_3g_7</th>\n",
       "      <th>sachet_3g_8</th>\n",
       "      <th>fb_user_6</th>\n",
       "      <th>fb_user_7</th>\n",
       "      <th>fb_user_8</th>\n",
       "      <th>aon</th>\n",
       "      <th>aug_vbc_3g</th>\n",
       "      <th>jul_vbc_3g</th>\n",
       "      <th>jun_vbc_3g</th>\n",
       "    </tr>\n",
       "  </thead>\n",
       "  <tbody>\n",
       "    <tr>\n",
       "      <th>0</th>\n",
       "      <td>31.277</td>\n",
       "      <td>87.009</td>\n",
       "      <td>7.527</td>\n",
       "      <td>48.58</td>\n",
       "      <td>124.38</td>\n",
       "      <td>1.29</td>\n",
       "      <td>32.24</td>\n",
       "      <td>96.68</td>\n",
       "      <td>2.33</td>\n",
       "      <td>0.00</td>\n",
       "      <td>...</td>\n",
       "      <td>0</td>\n",
       "      <td>0</td>\n",
       "      <td>0</td>\n",
       "      <td>NaN</td>\n",
       "      <td>NaN</td>\n",
       "      <td>NaN</td>\n",
       "      <td>1958</td>\n",
       "      <td>0.00</td>\n",
       "      <td>0.00</td>\n",
       "      <td>0.00</td>\n",
       "    </tr>\n",
       "    <tr>\n",
       "      <th>1</th>\n",
       "      <td>0.000</td>\n",
       "      <td>122.787</td>\n",
       "      <td>42.953</td>\n",
       "      <td>0.00</td>\n",
       "      <td>0.00</td>\n",
       "      <td>0.00</td>\n",
       "      <td>0.00</td>\n",
       "      <td>25.99</td>\n",
       "      <td>30.89</td>\n",
       "      <td>0.00</td>\n",
       "      <td>...</td>\n",
       "      <td>0</td>\n",
       "      <td>0</td>\n",
       "      <td>0</td>\n",
       "      <td>NaN</td>\n",
       "      <td>1.0</td>\n",
       "      <td>NaN</td>\n",
       "      <td>710</td>\n",
       "      <td>0.00</td>\n",
       "      <td>0.00</td>\n",
       "      <td>0.00</td>\n",
       "    </tr>\n",
       "    <tr>\n",
       "      <th>2</th>\n",
       "      <td>60.806</td>\n",
       "      <td>103.176</td>\n",
       "      <td>0.000</td>\n",
       "      <td>0.53</td>\n",
       "      <td>15.93</td>\n",
       "      <td>0.00</td>\n",
       "      <td>53.99</td>\n",
       "      <td>82.05</td>\n",
       "      <td>0.00</td>\n",
       "      <td>0.00</td>\n",
       "      <td>...</td>\n",
       "      <td>0</td>\n",
       "      <td>0</td>\n",
       "      <td>0</td>\n",
       "      <td>NaN</td>\n",
       "      <td>NaN</td>\n",
       "      <td>NaN</td>\n",
       "      <td>882</td>\n",
       "      <td>0.00</td>\n",
       "      <td>0.00</td>\n",
       "      <td>0.00</td>\n",
       "    </tr>\n",
       "    <tr>\n",
       "      <th>3</th>\n",
       "      <td>156.362</td>\n",
       "      <td>205.260</td>\n",
       "      <td>111.095</td>\n",
       "      <td>7.26</td>\n",
       "      <td>16.01</td>\n",
       "      <td>0.00</td>\n",
       "      <td>68.76</td>\n",
       "      <td>78.48</td>\n",
       "      <td>50.23</td>\n",
       "      <td>0.00</td>\n",
       "      <td>...</td>\n",
       "      <td>0</td>\n",
       "      <td>0</td>\n",
       "      <td>0</td>\n",
       "      <td>NaN</td>\n",
       "      <td>NaN</td>\n",
       "      <td>NaN</td>\n",
       "      <td>982</td>\n",
       "      <td>0.00</td>\n",
       "      <td>0.00</td>\n",
       "      <td>0.00</td>\n",
       "    </tr>\n",
       "    <tr>\n",
       "      <th>4</th>\n",
       "      <td>240.708</td>\n",
       "      <td>128.191</td>\n",
       "      <td>101.565</td>\n",
       "      <td>21.28</td>\n",
       "      <td>4.83</td>\n",
       "      <td>6.13</td>\n",
       "      <td>56.99</td>\n",
       "      <td>38.11</td>\n",
       "      <td>9.63</td>\n",
       "      <td>53.64</td>\n",
       "      <td>...</td>\n",
       "      <td>0</td>\n",
       "      <td>1</td>\n",
       "      <td>0</td>\n",
       "      <td>1.0</td>\n",
       "      <td>1.0</td>\n",
       "      <td>1.0</td>\n",
       "      <td>647</td>\n",
       "      <td>0.00</td>\n",
       "      <td>0.00</td>\n",
       "      <td>0.00</td>\n",
       "    </tr>\n",
       "    <tr>\n",
       "      <th>...</th>\n",
       "      <td>...</td>\n",
       "      <td>...</td>\n",
       "      <td>...</td>\n",
       "      <td>...</td>\n",
       "      <td>...</td>\n",
       "      <td>...</td>\n",
       "      <td>...</td>\n",
       "      <td>...</td>\n",
       "      <td>...</td>\n",
       "      <td>...</td>\n",
       "      <td>...</td>\n",
       "      <td>...</td>\n",
       "      <td>...</td>\n",
       "      <td>...</td>\n",
       "      <td>...</td>\n",
       "      <td>...</td>\n",
       "      <td>...</td>\n",
       "      <td>...</td>\n",
       "      <td>...</td>\n",
       "      <td>...</td>\n",
       "      <td>...</td>\n",
       "    </tr>\n",
       "    <tr>\n",
       "      <th>69994</th>\n",
       "      <td>15.760</td>\n",
       "      <td>410.924</td>\n",
       "      <td>329.136</td>\n",
       "      <td>0.00</td>\n",
       "      <td>7.36</td>\n",
       "      <td>10.93</td>\n",
       "      <td>0.00</td>\n",
       "      <td>488.46</td>\n",
       "      <td>381.64</td>\n",
       "      <td>14.96</td>\n",
       "      <td>...</td>\n",
       "      <td>0</td>\n",
       "      <td>1</td>\n",
       "      <td>0</td>\n",
       "      <td>NaN</td>\n",
       "      <td>1.0</td>\n",
       "      <td>1.0</td>\n",
       "      <td>221</td>\n",
       "      <td>0.00</td>\n",
       "      <td>0.00</td>\n",
       "      <td>0.00</td>\n",
       "    </tr>\n",
       "    <tr>\n",
       "      <th>69995</th>\n",
       "      <td>160.083</td>\n",
       "      <td>289.129</td>\n",
       "      <td>265.772</td>\n",
       "      <td>116.54</td>\n",
       "      <td>196.46</td>\n",
       "      <td>232.63</td>\n",
       "      <td>49.53</td>\n",
       "      <td>96.28</td>\n",
       "      <td>48.06</td>\n",
       "      <td>0.00</td>\n",
       "      <td>...</td>\n",
       "      <td>0</td>\n",
       "      <td>0</td>\n",
       "      <td>0</td>\n",
       "      <td>NaN</td>\n",
       "      <td>NaN</td>\n",
       "      <td>NaN</td>\n",
       "      <td>712</td>\n",
       "      <td>0.00</td>\n",
       "      <td>0.00</td>\n",
       "      <td>0.00</td>\n",
       "    </tr>\n",
       "    <tr>\n",
       "      <th>69996</th>\n",
       "      <td>372.088</td>\n",
       "      <td>258.374</td>\n",
       "      <td>279.782</td>\n",
       "      <td>77.13</td>\n",
       "      <td>68.44</td>\n",
       "      <td>78.44</td>\n",
       "      <td>335.54</td>\n",
       "      <td>227.94</td>\n",
       "      <td>263.84</td>\n",
       "      <td>0.00</td>\n",
       "      <td>...</td>\n",
       "      <td>0</td>\n",
       "      <td>0</td>\n",
       "      <td>0</td>\n",
       "      <td>NaN</td>\n",
       "      <td>NaN</td>\n",
       "      <td>NaN</td>\n",
       "      <td>879</td>\n",
       "      <td>0.00</td>\n",
       "      <td>0.00</td>\n",
       "      <td>0.00</td>\n",
       "    </tr>\n",
       "    <tr>\n",
       "      <th>69997</th>\n",
       "      <td>238.575</td>\n",
       "      <td>245.414</td>\n",
       "      <td>145.062</td>\n",
       "      <td>14.01</td>\n",
       "      <td>7.64</td>\n",
       "      <td>6.71</td>\n",
       "      <td>30.34</td>\n",
       "      <td>16.68</td>\n",
       "      <td>12.56</td>\n",
       "      <td>25.06</td>\n",
       "      <td>...</td>\n",
       "      <td>0</td>\n",
       "      <td>0</td>\n",
       "      <td>0</td>\n",
       "      <td>1.0</td>\n",
       "      <td>1.0</td>\n",
       "      <td>1.0</td>\n",
       "      <td>277</td>\n",
       "      <td>664.25</td>\n",
       "      <td>1402.96</td>\n",
       "      <td>990.97</td>\n",
       "    </tr>\n",
       "    <tr>\n",
       "      <th>69998</th>\n",
       "      <td>168.269</td>\n",
       "      <td>42.815</td>\n",
       "      <td>167.961</td>\n",
       "      <td>0.00</td>\n",
       "      <td>0.00</td>\n",
       "      <td>0.00</td>\n",
       "      <td>0.00</td>\n",
       "      <td>0.00</td>\n",
       "      <td>0.00</td>\n",
       "      <td>0.00</td>\n",
       "      <td>...</td>\n",
       "      <td>0</td>\n",
       "      <td>0</td>\n",
       "      <td>0</td>\n",
       "      <td>1.0</td>\n",
       "      <td>NaN</td>\n",
       "      <td>1.0</td>\n",
       "      <td>1876</td>\n",
       "      <td>0.00</td>\n",
       "      <td>0.00</td>\n",
       "      <td>0.00</td>\n",
       "    </tr>\n",
       "  </tbody>\n",
       "</table>\n",
       "<p>69999 rows × 79 columns</p>\n",
       "</div>"
      ],
      "text/plain": [
       "        arpu_6   arpu_7   arpu_8  onnet_mou_6  onnet_mou_7  onnet_mou_8  \\\n",
       "0       31.277   87.009    7.527        48.58       124.38         1.29   \n",
       "1        0.000  122.787   42.953         0.00         0.00         0.00   \n",
       "2       60.806  103.176    0.000         0.53        15.93         0.00   \n",
       "3      156.362  205.260  111.095         7.26        16.01         0.00   \n",
       "4      240.708  128.191  101.565        21.28         4.83         6.13   \n",
       "...        ...      ...      ...          ...          ...          ...   \n",
       "69994   15.760  410.924  329.136         0.00         7.36        10.93   \n",
       "69995  160.083  289.129  265.772       116.54       196.46       232.63   \n",
       "69996  372.088  258.374  279.782        77.13        68.44        78.44   \n",
       "69997  238.575  245.414  145.062        14.01         7.64         6.71   \n",
       "69998  168.269   42.815  167.961         0.00         0.00         0.00   \n",
       "\n",
       "       offnet_mou_6  offnet_mou_7  offnet_mou_8  roam_ic_mou_6  ...  \\\n",
       "0             32.24         96.68          2.33           0.00  ...   \n",
       "1              0.00         25.99         30.89           0.00  ...   \n",
       "2             53.99         82.05          0.00           0.00  ...   \n",
       "3             68.76         78.48         50.23           0.00  ...   \n",
       "4             56.99         38.11          9.63          53.64  ...   \n",
       "...             ...           ...           ...            ...  ...   \n",
       "69994          0.00        488.46        381.64          14.96  ...   \n",
       "69995         49.53         96.28         48.06           0.00  ...   \n",
       "69996        335.54        227.94        263.84           0.00  ...   \n",
       "69997         30.34         16.68         12.56          25.06  ...   \n",
       "69998          0.00          0.00          0.00           0.00  ...   \n",
       "\n",
       "       sachet_3g_6  sachet_3g_7  sachet_3g_8  fb_user_6  fb_user_7  fb_user_8  \\\n",
       "0                0            0            0        NaN        NaN        NaN   \n",
       "1                0            0            0        NaN        1.0        NaN   \n",
       "2                0            0            0        NaN        NaN        NaN   \n",
       "3                0            0            0        NaN        NaN        NaN   \n",
       "4                0            1            0        1.0        1.0        1.0   \n",
       "...            ...          ...          ...        ...        ...        ...   \n",
       "69994            0            1            0        NaN        1.0        1.0   \n",
       "69995            0            0            0        NaN        NaN        NaN   \n",
       "69996            0            0            0        NaN        NaN        NaN   \n",
       "69997            0            0            0        1.0        1.0        1.0   \n",
       "69998            0            0            0        1.0        NaN        1.0   \n",
       "\n",
       "        aon  aug_vbc_3g  jul_vbc_3g  jun_vbc_3g  \n",
       "0      1958        0.00        0.00        0.00  \n",
       "1       710        0.00        0.00        0.00  \n",
       "2       882        0.00        0.00        0.00  \n",
       "3       982        0.00        0.00        0.00  \n",
       "4       647        0.00        0.00        0.00  \n",
       "...     ...         ...         ...         ...  \n",
       "69994   221        0.00        0.00        0.00  \n",
       "69995   712        0.00        0.00        0.00  \n",
       "69996   879        0.00        0.00        0.00  \n",
       "69997   277      664.25     1402.96      990.97  \n",
       "69998  1876        0.00        0.00        0.00  \n",
       "\n",
       "[69999 rows x 79 columns]"
      ]
     },
     "execution_count": 12,
     "metadata": {},
     "output_type": "execute_result"
    }
   ],
   "source": [
    "train_df[SelectedCols]"
   ]
  },
  {
   "cell_type": "code",
   "execution_count": 13,
   "id": "b52d62da",
   "metadata": {},
   "outputs": [
    {
     "data": {
      "text/plain": [
       "False"
      ]
     },
     "execution_count": 13,
     "metadata": {},
     "output_type": "execute_result"
    }
   ],
   "source": [
    "any(train_df.id.value_counts()>1)  #meaning no duplicate customer entry"
   ]
  },
  {
   "cell_type": "code",
   "execution_count": 14,
   "id": "13f04810",
   "metadata": {},
   "outputs": [
    {
     "data": {
      "text/plain": [
       "109    69999\n",
       "Name: circle_id, dtype: int64"
      ]
     },
     "execution_count": 14,
     "metadata": {},
     "output_type": "execute_result"
    }
   ],
   "source": [
    "train_df.circle_id.value_counts() #meaning only 1 circle information so it can be dropped"
   ]
  },
  {
   "cell_type": "code",
   "execution_count": 15,
   "id": "f0b94ea1",
   "metadata": {},
   "outputs": [],
   "source": [
    "# train_df=train_df.drop(columns=['circle_id'])"
   ]
  },
  {
   "cell_type": "code",
   "execution_count": 16,
   "id": "3c1a43f3",
   "metadata": {},
   "outputs": [
    {
     "name": "stdout",
     "output_type": "stream",
     "text": [
      "<class 'pandas.core.frame.DataFrame'>\n",
      "RangeIndex: 69999 entries, 0 to 69998\n",
      "Columns: 172 entries, id to churn_probability\n",
      "dtypes: float64(135), int64(28), object(9)\n",
      "memory usage: 91.9+ MB\n"
     ]
    }
   ],
   "source": [
    "train_df.info()"
   ]
  },
  {
   "cell_type": "code",
   "execution_count": 17,
   "id": "9b712edb",
   "metadata": {},
   "outputs": [
    {
     "data": {
      "text/html": [
       "<div>\n",
       "<style scoped>\n",
       "    .dataframe tbody tr th:only-of-type {\n",
       "        vertical-align: middle;\n",
       "    }\n",
       "\n",
       "    .dataframe tbody tr th {\n",
       "        vertical-align: top;\n",
       "    }\n",
       "\n",
       "    .dataframe thead th {\n",
       "        text-align: right;\n",
       "    }\n",
       "</style>\n",
       "<table border=\"1\" class=\"dataframe\">\n",
       "  <thead>\n",
       "    <tr style=\"text-align: right;\">\n",
       "      <th></th>\n",
       "      <th>last_date_of_month_6</th>\n",
       "      <th>last_date_of_month_7</th>\n",
       "      <th>last_date_of_month_8</th>\n",
       "      <th>date_of_last_rech_6</th>\n",
       "      <th>date_of_last_rech_7</th>\n",
       "      <th>date_of_last_rech_8</th>\n",
       "      <th>date_of_last_rech_data_6</th>\n",
       "      <th>date_of_last_rech_data_7</th>\n",
       "      <th>date_of_last_rech_data_8</th>\n",
       "    </tr>\n",
       "  </thead>\n",
       "  <tbody>\n",
       "    <tr>\n",
       "      <th>0</th>\n",
       "      <td>6/30/2014</td>\n",
       "      <td>7/31/2014</td>\n",
       "      <td>8/31/2014</td>\n",
       "      <td>6/22/2014</td>\n",
       "      <td>7/10/2014</td>\n",
       "      <td>8/24/2014</td>\n",
       "      <td>NaN</td>\n",
       "      <td>NaN</td>\n",
       "      <td>NaN</td>\n",
       "    </tr>\n",
       "    <tr>\n",
       "      <th>1</th>\n",
       "      <td>6/30/2014</td>\n",
       "      <td>7/31/2014</td>\n",
       "      <td>8/31/2014</td>\n",
       "      <td>6/12/2014</td>\n",
       "      <td>7/10/2014</td>\n",
       "      <td>8/26/2014</td>\n",
       "      <td>NaN</td>\n",
       "      <td>7/8/2014</td>\n",
       "      <td>NaN</td>\n",
       "    </tr>\n",
       "    <tr>\n",
       "      <th>2</th>\n",
       "      <td>6/30/2014</td>\n",
       "      <td>7/31/2014</td>\n",
       "      <td>8/31/2014</td>\n",
       "      <td>6/11/2014</td>\n",
       "      <td>7/22/2014</td>\n",
       "      <td>8/24/2014</td>\n",
       "      <td>NaN</td>\n",
       "      <td>NaN</td>\n",
       "      <td>NaN</td>\n",
       "    </tr>\n",
       "    <tr>\n",
       "      <th>3</th>\n",
       "      <td>6/30/2014</td>\n",
       "      <td>7/31/2014</td>\n",
       "      <td>8/31/2014</td>\n",
       "      <td>6/15/2014</td>\n",
       "      <td>7/21/2014</td>\n",
       "      <td>8/25/2014</td>\n",
       "      <td>NaN</td>\n",
       "      <td>NaN</td>\n",
       "      <td>NaN</td>\n",
       "    </tr>\n",
       "    <tr>\n",
       "      <th>4</th>\n",
       "      <td>6/30/2014</td>\n",
       "      <td>7/31/2014</td>\n",
       "      <td>8/31/2014</td>\n",
       "      <td>6/25/2014</td>\n",
       "      <td>7/26/2014</td>\n",
       "      <td>8/30/2014</td>\n",
       "      <td>6/25/2014</td>\n",
       "      <td>7/23/2014</td>\n",
       "      <td>8/20/2014</td>\n",
       "    </tr>\n",
       "    <tr>\n",
       "      <th>...</th>\n",
       "      <td>...</td>\n",
       "      <td>...</td>\n",
       "      <td>...</td>\n",
       "      <td>...</td>\n",
       "      <td>...</td>\n",
       "      <td>...</td>\n",
       "      <td>...</td>\n",
       "      <td>...</td>\n",
       "      <td>...</td>\n",
       "    </tr>\n",
       "    <tr>\n",
       "      <th>69994</th>\n",
       "      <td>6/30/2014</td>\n",
       "      <td>7/31/2014</td>\n",
       "      <td>8/31/2014</td>\n",
       "      <td>6/18/2014</td>\n",
       "      <td>7/31/2014</td>\n",
       "      <td>8/31/2014</td>\n",
       "      <td>NaN</td>\n",
       "      <td>7/31/2014</td>\n",
       "      <td>8/21/2014</td>\n",
       "    </tr>\n",
       "    <tr>\n",
       "      <th>69995</th>\n",
       "      <td>6/30/2014</td>\n",
       "      <td>7/31/2014</td>\n",
       "      <td>8/31/2014</td>\n",
       "      <td>6/28/2014</td>\n",
       "      <td>7/31/2014</td>\n",
       "      <td>8/27/2014</td>\n",
       "      <td>NaN</td>\n",
       "      <td>NaN</td>\n",
       "      <td>NaN</td>\n",
       "    </tr>\n",
       "    <tr>\n",
       "      <th>69996</th>\n",
       "      <td>6/30/2014</td>\n",
       "      <td>7/31/2014</td>\n",
       "      <td>8/31/2014</td>\n",
       "      <td>6/25/2014</td>\n",
       "      <td>7/30/2014</td>\n",
       "      <td>8/29/2014</td>\n",
       "      <td>NaN</td>\n",
       "      <td>NaN</td>\n",
       "      <td>NaN</td>\n",
       "    </tr>\n",
       "    <tr>\n",
       "      <th>69997</th>\n",
       "      <td>6/30/2014</td>\n",
       "      <td>7/31/2014</td>\n",
       "      <td>8/31/2014</td>\n",
       "      <td>6/29/2014</td>\n",
       "      <td>7/19/2014</td>\n",
       "      <td>8/26/2014</td>\n",
       "      <td>6/17/2014</td>\n",
       "      <td>7/13/2014</td>\n",
       "      <td>8/14/2014</td>\n",
       "    </tr>\n",
       "    <tr>\n",
       "      <th>69998</th>\n",
       "      <td>6/30/2014</td>\n",
       "      <td>7/31/2014</td>\n",
       "      <td>8/31/2014</td>\n",
       "      <td>6/19/2014</td>\n",
       "      <td>7/27/2014</td>\n",
       "      <td>8/25/2014</td>\n",
       "      <td>6/19/2014</td>\n",
       "      <td>NaN</td>\n",
       "      <td>8/8/2014</td>\n",
       "    </tr>\n",
       "  </tbody>\n",
       "</table>\n",
       "<p>69999 rows × 9 columns</p>\n",
       "</div>"
      ],
      "text/plain": [
       "      last_date_of_month_6 last_date_of_month_7 last_date_of_month_8  \\\n",
       "0                6/30/2014            7/31/2014            8/31/2014   \n",
       "1                6/30/2014            7/31/2014            8/31/2014   \n",
       "2                6/30/2014            7/31/2014            8/31/2014   \n",
       "3                6/30/2014            7/31/2014            8/31/2014   \n",
       "4                6/30/2014            7/31/2014            8/31/2014   \n",
       "...                    ...                  ...                  ...   \n",
       "69994            6/30/2014            7/31/2014            8/31/2014   \n",
       "69995            6/30/2014            7/31/2014            8/31/2014   \n",
       "69996            6/30/2014            7/31/2014            8/31/2014   \n",
       "69997            6/30/2014            7/31/2014            8/31/2014   \n",
       "69998            6/30/2014            7/31/2014            8/31/2014   \n",
       "\n",
       "      date_of_last_rech_6 date_of_last_rech_7 date_of_last_rech_8  \\\n",
       "0               6/22/2014           7/10/2014           8/24/2014   \n",
       "1               6/12/2014           7/10/2014           8/26/2014   \n",
       "2               6/11/2014           7/22/2014           8/24/2014   \n",
       "3               6/15/2014           7/21/2014           8/25/2014   \n",
       "4               6/25/2014           7/26/2014           8/30/2014   \n",
       "...                   ...                 ...                 ...   \n",
       "69994           6/18/2014           7/31/2014           8/31/2014   \n",
       "69995           6/28/2014           7/31/2014           8/27/2014   \n",
       "69996           6/25/2014           7/30/2014           8/29/2014   \n",
       "69997           6/29/2014           7/19/2014           8/26/2014   \n",
       "69998           6/19/2014           7/27/2014           8/25/2014   \n",
       "\n",
       "      date_of_last_rech_data_6 date_of_last_rech_data_7  \\\n",
       "0                          NaN                      NaN   \n",
       "1                          NaN                 7/8/2014   \n",
       "2                          NaN                      NaN   \n",
       "3                          NaN                      NaN   \n",
       "4                    6/25/2014                7/23/2014   \n",
       "...                        ...                      ...   \n",
       "69994                      NaN                7/31/2014   \n",
       "69995                      NaN                      NaN   \n",
       "69996                      NaN                      NaN   \n",
       "69997                6/17/2014                7/13/2014   \n",
       "69998                6/19/2014                      NaN   \n",
       "\n",
       "      date_of_last_rech_data_8  \n",
       "0                          NaN  \n",
       "1                          NaN  \n",
       "2                          NaN  \n",
       "3                          NaN  \n",
       "4                    8/20/2014  \n",
       "...                        ...  \n",
       "69994                8/21/2014  \n",
       "69995                      NaN  \n",
       "69996                      NaN  \n",
       "69997                8/14/2014  \n",
       "69998                 8/8/2014  \n",
       "\n",
       "[69999 rows x 9 columns]"
      ]
     },
     "execution_count": 17,
     "metadata": {},
     "output_type": "execute_result"
    }
   ],
   "source": [
    "allDates=train_df.select_dtypes(include='object') # using this we get the \n",
    "allDates\n",
    "# list of all date columns we can transform it into numeric one in order to perform any calculation on top of it"
   ]
  },
  {
   "cell_type": "code",
   "execution_count": 18,
   "id": "5803e128",
   "metadata": {},
   "outputs": [
    {
     "data": {
      "text/plain": [
       "datetime.datetime(2014, 9, 1, 0, 0)"
      ]
     },
     "execution_count": 18,
     "metadata": {},
     "output_type": "execute_result"
    }
   ],
   "source": [
    "#in order to compute the days equivalent for this data we need some reference point ,\n",
    "# since the data is of 2014 and upto august we take september-2014 as the reference point\n",
    "import datetime\n",
    "dateRef=datetime.datetime(2014,9,1)\n",
    "dateRef"
   ]
  },
  {
   "cell_type": "code",
   "execution_count": 19,
   "id": "64ddbb5c",
   "metadata": {},
   "outputs": [
    {
     "name": "stdout",
     "output_type": "stream",
     "text": [
      "<class 'pandas.core.frame.DataFrame'>\n",
      "RangeIndex: 69999 entries, 0 to 69998\n",
      "Data columns (total 9 columns):\n",
      " #   Column                    Non-Null Count  Dtype         \n",
      "---  ------                    --------------  -----         \n",
      " 0   last_date_of_month_6      69999 non-null  datetime64[ns]\n",
      " 1   last_date_of_month_7      69600 non-null  datetime64[ns]\n",
      " 2   last_date_of_month_8      69266 non-null  datetime64[ns]\n",
      " 3   date_of_last_rech_6       68898 non-null  datetime64[ns]\n",
      " 4   date_of_last_rech_7       68765 non-null  datetime64[ns]\n",
      " 5   date_of_last_rech_8       67538 non-null  datetime64[ns]\n",
      " 6   date_of_last_rech_data_6  17568 non-null  datetime64[ns]\n",
      " 7   date_of_last_rech_data_7  17865 non-null  datetime64[ns]\n",
      " 8   date_of_last_rech_data_8  18417 non-null  datetime64[ns]\n",
      "dtypes: datetime64[ns](9)\n",
      "memory usage: 4.8 MB\n"
     ]
    }
   ],
   "source": [
    "for i in allDates.columns:\n",
    "   allDates[i]=allDates[i].apply(lambda x : datetime.datetime.strptime(x,'%m/%d/%Y') if isinstance(x,str) else x)\n",
    "allDates.info()"
   ]
  },
  {
   "cell_type": "code",
   "execution_count": 20,
   "id": "7de65e6d",
   "metadata": {},
   "outputs": [
    {
     "name": "stdout",
     "output_type": "stream",
     "text": [
      "<class 'pandas.core.frame.DataFrame'>\n",
      "RangeIndex: 69999 entries, 0 to 69998\n",
      "Columns: 172 entries, id to date_of_last_rech_data_8\n",
      "dtypes: datetime64[ns](9), float64(135), int64(28)\n",
      "memory usage: 91.9 MB\n"
     ]
    }
   ],
   "source": [
    "train_df.drop(columns=allDates.columns,inplace=True)\n",
    "train_df=pd.concat([train_df,allDates],axis=1)\n",
    "train_df.info()"
   ]
  },
  {
   "cell_type": "code",
   "execution_count": 21,
   "id": "20e8f515",
   "metadata": {},
   "outputs": [
    {
     "data": {
      "text/html": [
       "<div>\n",
       "<style scoped>\n",
       "    .dataframe tbody tr th:only-of-type {\n",
       "        vertical-align: middle;\n",
       "    }\n",
       "\n",
       "    .dataframe tbody tr th {\n",
       "        vertical-align: top;\n",
       "    }\n",
       "\n",
       "    .dataframe thead th {\n",
       "        text-align: right;\n",
       "    }\n",
       "</style>\n",
       "<table border=\"1\" class=\"dataframe\">\n",
       "  <thead>\n",
       "    <tr style=\"text-align: right;\">\n",
       "      <th></th>\n",
       "    </tr>\n",
       "  </thead>\n",
       "  <tbody>\n",
       "    <tr>\n",
       "      <th>0</th>\n",
       "    </tr>\n",
       "    <tr>\n",
       "      <th>1</th>\n",
       "    </tr>\n",
       "    <tr>\n",
       "      <th>2</th>\n",
       "    </tr>\n",
       "    <tr>\n",
       "      <th>3</th>\n",
       "    </tr>\n",
       "    <tr>\n",
       "      <th>4</th>\n",
       "    </tr>\n",
       "  </tbody>\n",
       "</table>\n",
       "</div>"
      ],
      "text/plain": [
       "Empty DataFrame\n",
       "Columns: []\n",
       "Index: [0, 1, 2, 3, 4]"
      ]
     },
     "execution_count": 21,
     "metadata": {},
     "output_type": "execute_result"
    }
   ],
   "source": [
    "train_df.select_dtypes(include='object').head() #now no ddatatypes with object type"
   ]
  },
  {
   "cell_type": "code",
   "execution_count": 22,
   "id": "be6b1a49",
   "metadata": {},
   "outputs": [],
   "source": [
    "#Let change the date to the numericc format takking the reference point now\n",
    "for i in allDates.columns:\n",
    "    allDates[i]=allDates[i].apply(lambda x: (dateRef-x).days if not pd.isna(x) else np.nan)"
   ]
  },
  {
   "cell_type": "code",
   "execution_count": 23,
   "id": "e6f14226",
   "metadata": {},
   "outputs": [
    {
     "name": "stdout",
     "output_type": "stream",
     "text": [
      "<class 'pandas.core.frame.DataFrame'>\n",
      "RangeIndex: 69999 entries, 0 to 69998\n",
      "Data columns (total 9 columns):\n",
      " #   Column                    Non-Null Count  Dtype  \n",
      "---  ------                    --------------  -----  \n",
      " 0   last_date_of_month_6      69999 non-null  int64  \n",
      " 1   last_date_of_month_7      69600 non-null  float64\n",
      " 2   last_date_of_month_8      69266 non-null  float64\n",
      " 3   date_of_last_rech_6       68898 non-null  float64\n",
      " 4   date_of_last_rech_7       68765 non-null  float64\n",
      " 5   date_of_last_rech_8       67538 non-null  float64\n",
      " 6   date_of_last_rech_data_6  17568 non-null  float64\n",
      " 7   date_of_last_rech_data_7  17865 non-null  float64\n",
      " 8   date_of_last_rech_data_8  18417 non-null  float64\n",
      "dtypes: float64(8), int64(1)\n",
      "memory usage: 4.8 MB\n"
     ]
    }
   ],
   "source": [
    "allDates.info()"
   ]
  },
  {
   "cell_type": "code",
   "execution_count": 24,
   "id": "7aabc76c",
   "metadata": {},
   "outputs": [
    {
     "name": "stdout",
     "output_type": "stream",
     "text": [
      "<class 'pandas.core.frame.DataFrame'>\n",
      "RangeIndex: 69999 entries, 0 to 69998\n",
      "Columns: 172 entries, id to date_of_last_rech_data_8\n",
      "dtypes: float64(143), int64(29)\n",
      "memory usage: 91.9 MB\n"
     ]
    }
   ],
   "source": [
    "train_df.drop(columns=allDates.columns,inplace=True)\n",
    "train_df=pd.concat([train_df,allDates],axis=1)\n",
    "train_df.info()"
   ]
  },
  {
   "cell_type": "code",
   "execution_count": 25,
   "id": "08fbbdcb",
   "metadata": {},
   "outputs": [],
   "source": [
    "#now lets see if the same values are available in all rows for any colums\n",
    "constant_cols_df=pd.DataFrame()\n",
    "constant_cols_df['ColumnsName']=train_df.columns\n",
    "total_rows=len(train_df.id)\n",
    "mostcommon_perc=[]\n",
    "for i in train_df.columns:\n",
    "    mostcommon_perc.append(round(train_df[i].value_counts().max()/total_rows,3))\n",
    "constant_cols_df['similaritymax']=mostcommon_perc\n",
    "constant_cols_df.index=constant_cols_df.ColumnsName"
   ]
  },
  {
   "cell_type": "code",
   "execution_count": 26,
   "id": "498a43fb",
   "metadata": {},
   "outputs": [],
   "source": [
    "constant_cols_df.drop(columns=['ColumnsName'],inplace=True)"
   ]
  },
  {
   "cell_type": "code",
   "execution_count": 27,
   "id": "275808cd",
   "metadata": {},
   "outputs": [
    {
     "data": {
      "text/html": [
       "<div>\n",
       "<style scoped>\n",
       "    .dataframe tbody tr th:only-of-type {\n",
       "        vertical-align: middle;\n",
       "    }\n",
       "\n",
       "    .dataframe tbody tr th {\n",
       "        vertical-align: top;\n",
       "    }\n",
       "\n",
       "    .dataframe thead th {\n",
       "        text-align: right;\n",
       "    }\n",
       "</style>\n",
       "<table border=\"1\" class=\"dataframe\">\n",
       "  <thead>\n",
       "    <tr style=\"text-align: right;\">\n",
       "      <th></th>\n",
       "      <th>similaritymax</th>\n",
       "    </tr>\n",
       "    <tr>\n",
       "      <th>ColumnsName</th>\n",
       "      <th></th>\n",
       "    </tr>\n",
       "  </thead>\n",
       "  <tbody>\n",
       "    <tr>\n",
       "      <th>circle_id</th>\n",
       "      <td>1.000</td>\n",
       "    </tr>\n",
       "    <tr>\n",
       "      <th>loc_og_t2o_mou</th>\n",
       "      <td>0.990</td>\n",
       "    </tr>\n",
       "    <tr>\n",
       "      <th>std_og_t2o_mou</th>\n",
       "      <td>0.990</td>\n",
       "    </tr>\n",
       "    <tr>\n",
       "      <th>loc_ic_t2o_mou</th>\n",
       "      <td>0.990</td>\n",
       "    </tr>\n",
       "    <tr>\n",
       "      <th>std_og_t2c_mou_6</th>\n",
       "      <td>0.960</td>\n",
       "    </tr>\n",
       "    <tr>\n",
       "      <th>std_og_t2c_mou_7</th>\n",
       "      <td>0.962</td>\n",
       "    </tr>\n",
       "    <tr>\n",
       "      <th>std_og_t2c_mou_8</th>\n",
       "      <td>0.947</td>\n",
       "    </tr>\n",
       "    <tr>\n",
       "      <th>isd_og_mou_6</th>\n",
       "      <td>0.913</td>\n",
       "    </tr>\n",
       "    <tr>\n",
       "      <th>isd_og_mou_7</th>\n",
       "      <td>0.917</td>\n",
       "    </tr>\n",
       "    <tr>\n",
       "      <th>isd_og_mou_8</th>\n",
       "      <td>0.905</td>\n",
       "    </tr>\n",
       "    <tr>\n",
       "      <th>og_others_7</th>\n",
       "      <td>0.958</td>\n",
       "    </tr>\n",
       "    <tr>\n",
       "      <th>og_others_8</th>\n",
       "      <td>0.943</td>\n",
       "    </tr>\n",
       "    <tr>\n",
       "      <th>std_ic_t2o_mou_6</th>\n",
       "      <td>0.960</td>\n",
       "    </tr>\n",
       "    <tr>\n",
       "      <th>std_ic_t2o_mou_7</th>\n",
       "      <td>0.962</td>\n",
       "    </tr>\n",
       "    <tr>\n",
       "      <th>std_ic_t2o_mou_8</th>\n",
       "      <td>0.947</td>\n",
       "    </tr>\n",
       "    <tr>\n",
       "      <th>monthly_2g_6</th>\n",
       "      <td>0.927</td>\n",
       "    </tr>\n",
       "    <tr>\n",
       "      <th>monthly_2g_7</th>\n",
       "      <td>0.924</td>\n",
       "    </tr>\n",
       "    <tr>\n",
       "      <th>monthly_2g_8</th>\n",
       "      <td>0.926</td>\n",
       "    </tr>\n",
       "    <tr>\n",
       "      <th>monthly_3g_6</th>\n",
       "      <td>0.943</td>\n",
       "    </tr>\n",
       "    <tr>\n",
       "      <th>monthly_3g_7</th>\n",
       "      <td>0.944</td>\n",
       "    </tr>\n",
       "    <tr>\n",
       "      <th>monthly_3g_8</th>\n",
       "      <td>0.940</td>\n",
       "    </tr>\n",
       "    <tr>\n",
       "      <th>sachet_3g_6</th>\n",
       "      <td>0.958</td>\n",
       "    </tr>\n",
       "    <tr>\n",
       "      <th>sachet_3g_7</th>\n",
       "      <td>0.959</td>\n",
       "    </tr>\n",
       "    <tr>\n",
       "      <th>sachet_3g_8</th>\n",
       "      <td>0.958</td>\n",
       "    </tr>\n",
       "    <tr>\n",
       "      <th>last_date_of_month_6</th>\n",
       "      <td>1.000</td>\n",
       "    </tr>\n",
       "    <tr>\n",
       "      <th>last_date_of_month_7</th>\n",
       "      <td>0.994</td>\n",
       "    </tr>\n",
       "    <tr>\n",
       "      <th>last_date_of_month_8</th>\n",
       "      <td>0.990</td>\n",
       "    </tr>\n",
       "  </tbody>\n",
       "</table>\n",
       "</div>"
      ],
      "text/plain": [
       "                      similaritymax\n",
       "ColumnsName                        \n",
       "circle_id                     1.000\n",
       "loc_og_t2o_mou                0.990\n",
       "std_og_t2o_mou                0.990\n",
       "loc_ic_t2o_mou                0.990\n",
       "std_og_t2c_mou_6              0.960\n",
       "std_og_t2c_mou_7              0.962\n",
       "std_og_t2c_mou_8              0.947\n",
       "isd_og_mou_6                  0.913\n",
       "isd_og_mou_7                  0.917\n",
       "isd_og_mou_8                  0.905\n",
       "og_others_7                   0.958\n",
       "og_others_8                   0.943\n",
       "std_ic_t2o_mou_6              0.960\n",
       "std_ic_t2o_mou_7              0.962\n",
       "std_ic_t2o_mou_8              0.947\n",
       "monthly_2g_6                  0.927\n",
       "monthly_2g_7                  0.924\n",
       "monthly_2g_8                  0.926\n",
       "monthly_3g_6                  0.943\n",
       "monthly_3g_7                  0.944\n",
       "monthly_3g_8                  0.940\n",
       "sachet_3g_6                   0.958\n",
       "sachet_3g_7                   0.959\n",
       "sachet_3g_8                   0.958\n",
       "last_date_of_month_6          1.000\n",
       "last_date_of_month_7          0.994\n",
       "last_date_of_month_8          0.990"
      ]
     },
     "execution_count": 27,
     "metadata": {},
     "output_type": "execute_result"
    }
   ],
   "source": [
    "constant_cols_df[constant_cols_df['similaritymax']>0.9] ##in this column 90 % of the vlaue are similar so its \n",
    "# not actually giving us much information to be used so we can get rid of these colums too"
   ]
  },
  {
   "cell_type": "code",
   "execution_count": 28,
   "id": "b3adbbf0",
   "metadata": {},
   "outputs": [],
   "source": [
    "train_df.drop(columns=constant_cols_df[constant_cols_df['similaritymax']>0.90].index,inplace=True)"
   ]
  },
  {
   "cell_type": "code",
   "execution_count": 29,
   "id": "78cfe744",
   "metadata": {},
   "outputs": [],
   "source": [
    "#aalso since the id is not duplicated it wont assist us in doing some grouping and all so we can get rid of thaat too\n",
    "train_df.drop(columns=['id'],inplace=True)"
   ]
  },
  {
   "cell_type": "code",
   "execution_count": 30,
   "id": "933716f0",
   "metadata": {},
   "outputs": [
    {
     "data": {
      "text/plain": [
       "(69999, 144)"
      ]
     },
     "execution_count": 30,
     "metadata": {},
     "output_type": "execute_result"
    }
   ],
   "source": [
    "train_df.shape"
   ]
  },
  {
   "cell_type": "code",
   "execution_count": 31,
   "id": "695be4ff",
   "metadata": {},
   "outputs": [],
   "source": [
    "train_df=train_df.fillna(value=-1)"
   ]
  },
  {
   "cell_type": "code",
   "execution_count": 32,
   "id": "8380c486",
   "metadata": {},
   "outputs": [
    {
     "name": "stderr",
     "output_type": "stream",
     "text": [
      "C:\\Users\\prason.ghimire\\AppData\\Roaming\\Python\\Python38\\site-packages\\sklearn\\linear_model\\_logistic.py:444: ConvergenceWarning: lbfgs failed to converge (status=1):\n",
      "STOP: TOTAL NO. of ITERATIONS REACHED LIMIT.\n",
      "\n",
      "Increase the number of iterations (max_iter) or scale the data as shown in:\n",
      "    https://scikit-learn.org/stable/modules/preprocessing.html\n",
      "Please also refer to the documentation for alternative solver options:\n",
      "    https://scikit-learn.org/stable/modules/linear_model.html#logistic-regression\n",
      "  n_iter_i = _check_optimize_result(\n"
     ]
    },
    {
     "data": {
      "text/html": [
       "<style>#sk-container-id-1 {color: black;background-color: white;}#sk-container-id-1 pre{padding: 0;}#sk-container-id-1 div.sk-toggleable {background-color: white;}#sk-container-id-1 label.sk-toggleable__label {cursor: pointer;display: block;width: 100%;margin-bottom: 0;padding: 0.3em;box-sizing: border-box;text-align: center;}#sk-container-id-1 label.sk-toggleable__label-arrow:before {content: \"▸\";float: left;margin-right: 0.25em;color: #696969;}#sk-container-id-1 label.sk-toggleable__label-arrow:hover:before {color: black;}#sk-container-id-1 div.sk-estimator:hover label.sk-toggleable__label-arrow:before {color: black;}#sk-container-id-1 div.sk-toggleable__content {max-height: 0;max-width: 0;overflow: hidden;text-align: left;background-color: #f0f8ff;}#sk-container-id-1 div.sk-toggleable__content pre {margin: 0.2em;color: black;border-radius: 0.25em;background-color: #f0f8ff;}#sk-container-id-1 input.sk-toggleable__control:checked~div.sk-toggleable__content {max-height: 200px;max-width: 100%;overflow: auto;}#sk-container-id-1 input.sk-toggleable__control:checked~label.sk-toggleable__label-arrow:before {content: \"▾\";}#sk-container-id-1 div.sk-estimator input.sk-toggleable__control:checked~label.sk-toggleable__label {background-color: #d4ebff;}#sk-container-id-1 div.sk-label input.sk-toggleable__control:checked~label.sk-toggleable__label {background-color: #d4ebff;}#sk-container-id-1 input.sk-hidden--visually {border: 0;clip: rect(1px 1px 1px 1px);clip: rect(1px, 1px, 1px, 1px);height: 1px;margin: -1px;overflow: hidden;padding: 0;position: absolute;width: 1px;}#sk-container-id-1 div.sk-estimator {font-family: monospace;background-color: #f0f8ff;border: 1px dotted black;border-radius: 0.25em;box-sizing: border-box;margin-bottom: 0.5em;}#sk-container-id-1 div.sk-estimator:hover {background-color: #d4ebff;}#sk-container-id-1 div.sk-parallel-item::after {content: \"\";width: 100%;border-bottom: 1px solid gray;flex-grow: 1;}#sk-container-id-1 div.sk-label:hover label.sk-toggleable__label {background-color: #d4ebff;}#sk-container-id-1 div.sk-serial::before {content: \"\";position: absolute;border-left: 1px solid gray;box-sizing: border-box;top: 0;bottom: 0;left: 50%;z-index: 0;}#sk-container-id-1 div.sk-serial {display: flex;flex-direction: column;align-items: center;background-color: white;padding-right: 0.2em;padding-left: 0.2em;position: relative;}#sk-container-id-1 div.sk-item {position: relative;z-index: 1;}#sk-container-id-1 div.sk-parallel {display: flex;align-items: stretch;justify-content: center;background-color: white;position: relative;}#sk-container-id-1 div.sk-item::before, #sk-container-id-1 div.sk-parallel-item::before {content: \"\";position: absolute;border-left: 1px solid gray;box-sizing: border-box;top: 0;bottom: 0;left: 50%;z-index: -1;}#sk-container-id-1 div.sk-parallel-item {display: flex;flex-direction: column;z-index: 1;position: relative;background-color: white;}#sk-container-id-1 div.sk-parallel-item:first-child::after {align-self: flex-end;width: 50%;}#sk-container-id-1 div.sk-parallel-item:last-child::after {align-self: flex-start;width: 50%;}#sk-container-id-1 div.sk-parallel-item:only-child::after {width: 0;}#sk-container-id-1 div.sk-dashed-wrapped {border: 1px dashed gray;margin: 0 0.4em 0.5em 0.4em;box-sizing: border-box;padding-bottom: 0.4em;background-color: white;}#sk-container-id-1 div.sk-label label {font-family: monospace;font-weight: bold;display: inline-block;line-height: 1.2em;}#sk-container-id-1 div.sk-label-container {text-align: center;}#sk-container-id-1 div.sk-container {/* jupyter's `normalize.less` sets `[hidden] { display: none; }` but bootstrap.min.css set `[hidden] { display: none !important; }` so we also need the `!important` here to be able to override the default hidden behavior on the sphinx rendered scikit-learn.org. See: https://github.com/scikit-learn/scikit-learn/issues/21755 */display: inline-block !important;position: relative;}#sk-container-id-1 div.sk-text-repr-fallback {display: none;}</style><div id=\"sk-container-id-1\" class=\"sk-top-container\"><div class=\"sk-text-repr-fallback\"><pre>LogisticRegression()</pre><b>In a Jupyter environment, please rerun this cell to show the HTML representation or trust the notebook. <br />On GitHub, the HTML representation is unable to render, please try loading this page with nbviewer.org.</b></div><div class=\"sk-container\" hidden><div class=\"sk-item\"><div class=\"sk-estimator sk-toggleable\"><input class=\"sk-toggleable__control sk-hidden--visually\" id=\"sk-estimator-id-1\" type=\"checkbox\" checked><label for=\"sk-estimator-id-1\" class=\"sk-toggleable__label sk-toggleable__label-arrow\">LogisticRegression</label><div class=\"sk-toggleable__content\"><pre>LogisticRegression()</pre></div></div></div></div></div>"
      ],
      "text/plain": [
       "LogisticRegression()"
      ]
     },
     "execution_count": 32,
     "metadata": {},
     "output_type": "execute_result"
    }
   ],
   "source": [
    "#Now lets try to create some base model out of whatever feature we have and then will continue further\n",
    "from sklearn.linear_model import LogisticRegression\n",
    "lg_model=LogisticRegression()\n",
    "lg_model.fit(train_df.drop(columns=['churn_probability']),train_df['churn_probability'])"
   ]
  },
  {
   "cell_type": "code",
   "execution_count": 33,
   "id": "99b20edf",
   "metadata": {},
   "outputs": [
    {
     "name": "stdout",
     "output_type": "stream",
     "text": [
      "<class 'pandas.core.frame.DataFrame'>\n",
      "RangeIndex: 30000 entries, 0 to 29999\n",
      "Columns: 171 entries, id to jun_vbc_3g\n",
      "dtypes: float64(135), int64(27), object(9)\n",
      "memory usage: 39.1+ MB\n"
     ]
    }
   ],
   "source": [
    "test_df.info() ## here also 9 object are of datetimee letss convert it to numeric format using the same reference date method\n",
    "# we have used while preprocessing the training set"
   ]
  },
  {
   "cell_type": "code",
   "execution_count": 34,
   "id": "8accd18a",
   "metadata": {},
   "outputs": [
    {
     "name": "stdout",
     "output_type": "stream",
     "text": [
      "<class 'pandas.core.frame.DataFrame'>\n",
      "RangeIndex: 30000 entries, 0 to 29999\n",
      "Columns: 171 entries, id to date_of_last_rech_data_8\n",
      "dtypes: datetime64[ns](9), float64(135), int64(27)\n",
      "memory usage: 39.1 MB\n"
     ]
    }
   ],
   "source": [
    "allDates_test=test_df.select_dtypes(include='object')\n",
    "for i in allDates_test.columns:\n",
    "   allDates_test[i]=allDates_test[i].apply(lambda x : datetime.datetime.strptime(x,'%m/%d/%Y') if isinstance(x,str) else x)\n",
    "test_df.drop(columns=allDates_test.columns,inplace=True)\n",
    "test_df=pd.concat([test_df,allDates_test],axis=1)\n",
    "test_df.info()"
   ]
  },
  {
   "cell_type": "code",
   "execution_count": 35,
   "id": "8bcbe49d",
   "metadata": {},
   "outputs": [],
   "source": [
    "for i in test_df.select_dtypes(include='datetime').columns:\n",
    "    test_df[i]=test_df[i].apply(lambda x: (dateRef-x).days if not pd.isna(x) else np.nan)"
   ]
  },
  {
   "cell_type": "code",
   "execution_count": 36,
   "id": "a071863e",
   "metadata": {},
   "outputs": [
    {
     "name": "stdout",
     "output_type": "stream",
     "text": [
      "<class 'pandas.core.frame.DataFrame'>\n",
      "RangeIndex: 30000 entries, 0 to 29999\n",
      "Columns: 171 entries, id to date_of_last_rech_data_8\n",
      "dtypes: float64(143), int64(28)\n",
      "memory usage: 39.1 MB\n"
     ]
    }
   ],
   "source": [
    "test_df.info()"
   ]
  },
  {
   "cell_type": "code",
   "execution_count": 37,
   "id": "bec0a2ca",
   "metadata": {},
   "outputs": [],
   "source": [
    "# test_df=test_df.merge(sample_df,on='id',how='inner') # incorrect move"
   ]
  },
  {
   "cell_type": "code",
   "execution_count": 38,
   "id": "c047ec7d",
   "metadata": {},
   "outputs": [],
   "source": [
    "test_df.drop(columns=constant_cols_df[constant_cols_df['similaritymax']>0.90].index,inplace=True)\n",
    "#aalso since the id is not duplicated it wont assist us in doing some grouping and all so we can get rid of thaat too\n",
    "test_df.drop(columns=['id'],inplace=True)"
   ]
  },
  {
   "cell_type": "code",
   "execution_count": 39,
   "id": "bdde4250",
   "metadata": {},
   "outputs": [
    {
     "data": {
      "text/plain": [
       "(30000, 143)"
      ]
     },
     "execution_count": 39,
     "metadata": {},
     "output_type": "execute_result"
    }
   ],
   "source": [
    "test_df.shape #now that the shape looks compatible we can predict from the test dataset"
   ]
  },
  {
   "cell_type": "code",
   "execution_count": 40,
   "id": "a5ba454f",
   "metadata": {},
   "outputs": [],
   "source": [
    "#lastly lets fill the nan value with the same -1 value we have used for the train set\n",
    "test_df=test_df.fillna(value=-1)"
   ]
  },
  {
   "cell_type": "code",
   "execution_count": 41,
   "id": "30237f94",
   "metadata": {},
   "outputs": [],
   "source": [
    "lg_model_predict=lg_model.predict(test_df)"
   ]
  },
  {
   "cell_type": "code",
   "execution_count": 42,
   "id": "74443bac",
   "metadata": {},
   "outputs": [
    {
     "data": {
      "text/plain": [
       "(array([0, 1], dtype=int64), array([29002,   998], dtype=int64))"
      ]
     },
     "execution_count": 42,
     "metadata": {},
     "output_type": "execute_result"
    }
   ],
   "source": [
    "np.unique(lg_model_predict,return_counts=True)"
   ]
  },
  {
   "cell_type": "code",
   "execution_count": 43,
   "id": "b448d6ff",
   "metadata": {},
   "outputs": [],
   "source": [
    "lg_model_predict_x=lg_model.predict(train_df.drop(columns=['churn_probability']))"
   ]
  },
  {
   "cell_type": "code",
   "execution_count": 44,
   "id": "9464b4e4",
   "metadata": {},
   "outputs": [],
   "source": [
    "from sklearn.metrics import confusion_matrix,accuracy_score,roc_auc_score,precision_score,recall_score"
   ]
  },
  {
   "cell_type": "code",
   "execution_count": 45,
   "id": "29539b70",
   "metadata": {},
   "outputs": [
    {
     "data": {
      "text/plain": [
       "array([[62205,   662],\n",
       "       [ 5497,  1635]], dtype=int64)"
      ]
     },
     "execution_count": 45,
     "metadata": {},
     "output_type": "execute_result"
    }
   ],
   "source": [
    "confusion_matrix(y_true=train_df['churn_probability'],y_pred=lg_model_predict_x)"
   ]
  },
  {
   "cell_type": "code",
   "execution_count": 46,
   "id": "84611de8",
   "metadata": {},
   "outputs": [
    {
     "data": {
      "text/plain": [
       "0.9120130287575536"
      ]
     },
     "execution_count": 46,
     "metadata": {},
     "output_type": "execute_result"
    }
   ],
   "source": [
    "accuracy_score(y_true=train_df['churn_probability'],y_pred=lg_model_predict_x)  #However this looks rather misleading result as tall the data here is\n",
    "#belonging to the non churning probabilitiy"
   ]
  },
  {
   "cell_type": "code",
   "execution_count": 47,
   "id": "4b836dd2",
   "metadata": {},
   "outputs": [
    {
     "data": {
      "text/plain": [
       "<BarContainer object of 2 artists>"
      ]
     },
     "execution_count": 47,
     "metadata": {},
     "output_type": "execute_result"
    },
    {
     "data": {
      "image/png": "[encoded data removed]",
      "text/plain": [
       "<Figure size 432x288 with 1 Axes>"
      ]
     },
     "metadata": {
      "needs_background": "light"
     },
     "output_type": "display_data"
    }
   ],
   "source": [
    "plt.bar(train_df['churn_probability'].value_counts().index,train_df['churn_probability'].value_counts().values)"
   ]
  },
  {
   "cell_type": "markdown",
   "id": "b44ea8fc",
   "metadata": {},
   "source": [
    "## Analysis 2 "
   ]
  },
  {
   "cell_type": "code",
   "execution_count": 206,
   "id": "868f1187",
   "metadata": {},
   "outputs": [],
   "source": [
    "# # Since the data to validate in the test data frame is not balance we will merge the dataset and create test and train df\n",
    "# train_df=pd.read_csv('./train.csv/train.csv')\n",
    "# test_df=pd.read_csv(\"./test.csv/test.csv\")\n",
    "# test_df=test_df.merge(sample_df,on='id',how='inner')"
   ]
  },
  {
   "cell_type": "code",
   "execution_count": 207,
   "id": "67b38bb5",
   "metadata": {},
   "outputs": [
    {
     "data": {
      "text/plain": [
       "(69999, 172)"
      ]
     },
     "execution_count": 207,
     "metadata": {},
     "output_type": "execute_result"
    }
   ],
   "source": [
    "# train_df.shape"
   ]
  },
  {
   "cell_type": "code",
   "execution_count": 208,
   "id": "df09eeba",
   "metadata": {},
   "outputs": [
    {
     "data": {
      "text/plain": [
       "(30000, 172)"
      ]
     },
     "execution_count": 208,
     "metadata": {},
     "output_type": "execute_result"
    }
   ],
   "source": [
    "# test_df.shape"
   ]
  },
  {
   "cell_type": "code",
   "execution_count": 209,
   "id": "52982c61",
   "metadata": {},
   "outputs": [],
   "source": [
    "# total_df=pd.concat([train_df,test_df])"
   ]
  },
  {
   "cell_type": "code",
   "execution_count": 210,
   "id": "61f3a576",
   "metadata": {},
   "outputs": [
    {
     "data": {
      "text/plain": [
       "(99999, 172)"
      ]
     },
     "execution_count": 210,
     "metadata": {},
     "output_type": "execute_result"
    }
   ],
   "source": [
    "# total_df.shape"
   ]
  },
  {
   "cell_type": "code",
   "execution_count": 218,
   "id": "3e0091da",
   "metadata": {},
   "outputs": [
    {
     "data": {
      "text/plain": [
       "<BarContainer object of 2 artists>"
      ]
     },
     "execution_count": 218,
     "metadata": {},
     "output_type": "execute_result"
    },
    {
     "data": {
      "image/png": "[encoded data removed]",
      "text/plain": [
       "<Figure size 432x288 with 1 Axes>"
      ]
     },
     "metadata": {
      "needs_background": "light"
     },
     "output_type": "display_data"
    }
   ],
   "source": [
    "# plt.bar(total_df['churn_probability'].value_counts().index,total_df['churn_probability'].value_counts().values)"
   ]
  },
  {
   "cell_type": "code",
   "execution_count": 216,
   "id": "92cb819f",
   "metadata": {},
   "outputs": [],
   "source": [
    "# from sklearn.model_selection import train_test_split"
   ]
  },
  {
   "cell_type": "code",
   "execution_count": 228,
   "id": "64f9ff8e",
   "metadata": {},
   "outputs": [],
   "source": [
    "#lets create a balanced set for the train_teest split \n",
    "# x_train,x_test,y_train,y_test=train_test_split(total_df.drop(columns=['churn_probability']),total_df['churn_probability'],stratify=total_df['churn_probability'],shuffle=True,train_size=.8)"
   ]
  },
  {
   "cell_type": "code",
   "execution_count": 232,
   "id": "9818f38e",
   "metadata": {},
   "outputs": [
    {
     "name": "stdout",
     "output_type": "stream",
     "text": [
      "<class 'pandas.core.frame.DataFrame'>\n",
      "Int64Index: 20000 entries, 16816 to 15810\n",
      "Columns: 171 entries, id to date_of_last_rech_data_8\n",
      "dtypes: datetime64[ns](9), float64(135), int64(27)\n",
      "memory usage: 26.2 MB\n"
     ]
    }
   ],
   "source": [
    "# #Now let train on the dataset using above method and see the performance\n",
    "# test_df=x_test\n",
    "# allDates_test=test_df.select_dtypes(include='object')\n",
    "# for i in allDates_test.columns:\n",
    "#    allDates_test[i]=allDates_test[i].apply(lambda x : datetime.datetime.strptime(x,'%m/%d/%Y') if isinstance(x,str) else x)\n",
    "# test_df.drop(columns=allDates_test.columns,inplace=True)\n",
    "# test_df=pd.concat([test_df,allDates_test],axis=1)\n",
    "# test_df.info()"
   ]
  },
  {
   "cell_type": "code",
   "execution_count": 233,
   "id": "31eca495",
   "metadata": {},
   "outputs": [
    {
     "data": {
      "text/plain": [
       "(20000, 143)"
      ]
     },
     "execution_count": 233,
     "metadata": {},
     "output_type": "execute_result"
    }
   ],
   "source": [
    "# for i in test_df.select_dtypes(include='datetime').columns:\n",
    "#     test_df[i]=test_df[i].apply(lambda x: (dateRef-x).days if not pd.isna(x) else np.nan)\n",
    "# test_df.drop(columns=constant_cols_df[constant_cols_df['similaritymax']>0.90].index,inplace=True)\n",
    "# #aalso since the id is not duplicated it wont assist us in doing some grouping and all so we can get rid of thaat too\n",
    "# test_df.drop(columns=['id'],inplace=True)\n",
    "# test_df.shape"
   ]
  },
  {
   "cell_type": "code",
   "execution_count": 235,
   "id": "85ed5f3b",
   "metadata": {},
   "outputs": [],
   "source": [
    "# #lastly lets fill the nan value with the same -1 value\n",
    "# test_df=test_df.fillna(value=-1)"
   ]
  },
  {
   "cell_type": "code",
   "execution_count": null,
   "id": "f0e150fd",
   "metadata": {},
   "outputs": [],
   "source": [
    "#Now same thing for the train set too"
   ]
  },
  {
   "cell_type": "code",
   "execution_count": 236,
   "id": "1cc7a163",
   "metadata": {},
   "outputs": [
    {
     "name": "stdout",
     "output_type": "stream",
     "text": [
      "<class 'pandas.core.frame.DataFrame'>\n",
      "Int64Index: 79999 entries, 17584 to 25016\n",
      "Columns: 171 entries, id to date_of_last_rech_data_8\n",
      "dtypes: datetime64[ns](9), float64(135), int64(27)\n",
      "memory usage: 105.0 MB\n"
     ]
    }
   ],
   "source": [
    "# train_df=x_train\n",
    "# allDates_train=train_df.select_dtypes(include='object')\n",
    "# for i in allDates_train.columns:\n",
    "#    allDates_train[i]=allDates_train[i].apply(lambda x : datetime.datetime.strptime(x,'%m/%d/%Y') if isinstance(x,str) else x)\n",
    "# train_df.drop(columns=allDates_train.columns,inplace=True)\n",
    "# train_df=pd.concat([train_df,allDates_train],axis=1)\n",
    "# train_df.info()"
   ]
  },
  {
   "cell_type": "code",
   "execution_count": 237,
   "id": "12568207",
   "metadata": {},
   "outputs": [
    {
     "data": {
      "text/plain": [
       "(79999, 143)"
      ]
     },
     "execution_count": 237,
     "metadata": {},
     "output_type": "execute_result"
    }
   ],
   "source": [
    "# for i in train_df.select_dtypes(include='datetime').columns:\n",
    "#     train_df[i]=train_df[i].apply(lambda x: (dateRef-x).days if not pd.isna(x) else np.nan)\n",
    "# train_df.drop(columns=constant_cols_df[constant_cols_df['similaritymax']>0.90].index,inplace=True)\n",
    "# #aalso since the id is not duplicated it wont assist us in doing some grouping and all so we can get rid of thaat too\n",
    "# train_df.drop(columns=['id'],inplace=True)\n",
    "# train_df=train_df.fillna(value=-1)\n",
    "# train_df.shape"
   ]
  },
  {
   "cell_type": "code",
   "execution_count": 240,
   "id": "7e855e3f",
   "metadata": {},
   "outputs": [
    {
     "name": "stderr",
     "output_type": "stream",
     "text": [
      "C:\\Users\\prason.ghimire\\AppData\\Roaming\\Python\\Python38\\site-packages\\sklearn\\linear_model\\_logistic.py:444: ConvergenceWarning: lbfgs failed to converge (status=1):\n",
      "STOP: TOTAL NO. of ITERATIONS REACHED LIMIT.\n",
      "\n",
      "Increase the number of iterations (max_iter) or scale the data as shown in:\n",
      "    https://scikit-learn.org/stable/modules/preprocessing.html\n",
      "Please also refer to the documentation for alternative solver options:\n",
      "    https://scikit-learn.org/stable/modules/linear_model.html#logistic-regression\n",
      "  n_iter_i = _check_optimize_result(\n"
     ]
    },
    {
     "data": {
      "text/html": [
       "<style>#sk-container-id-2 {color: black;background-color: white;}#sk-container-id-2 pre{padding: 0;}#sk-container-id-2 div.sk-toggleable {background-color: white;}#sk-container-id-2 label.sk-toggleable__label {cursor: pointer;display: block;width: 100%;margin-bottom: 0;padding: 0.3em;box-sizing: border-box;text-align: center;}#sk-container-id-2 label.sk-toggleable__label-arrow:before {content: \"▸\";float: left;margin-right: 0.25em;color: #696969;}#sk-container-id-2 label.sk-toggleable__label-arrow:hover:before {color: black;}#sk-container-id-2 div.sk-estimator:hover label.sk-toggleable__label-arrow:before {color: black;}#sk-container-id-2 div.sk-toggleable__content {max-height: 0;max-width: 0;overflow: hidden;text-align: left;background-color: #f0f8ff;}#sk-container-id-2 div.sk-toggleable__content pre {margin: 0.2em;color: black;border-radius: 0.25em;background-color: #f0f8ff;}#sk-container-id-2 input.sk-toggleable__control:checked~div.sk-toggleable__content {max-height: 200px;max-width: 100%;overflow: auto;}#sk-container-id-2 input.sk-toggleable__control:checked~label.sk-toggleable__label-arrow:before {content: \"▾\";}#sk-container-id-2 div.sk-estimator input.sk-toggleable__control:checked~label.sk-toggleable__label {background-color: #d4ebff;}#sk-container-id-2 div.sk-label input.sk-toggleable__control:checked~label.sk-toggleable__label {background-color: #d4ebff;}#sk-container-id-2 input.sk-hidden--visually {border: 0;clip: rect(1px 1px 1px 1px);clip: rect(1px, 1px, 1px, 1px);height: 1px;margin: -1px;overflow: hidden;padding: 0;position: absolute;width: 1px;}#sk-container-id-2 div.sk-estimator {font-family: monospace;background-color: #f0f8ff;border: 1px dotted black;border-radius: 0.25em;box-sizing: border-box;margin-bottom: 0.5em;}#sk-container-id-2 div.sk-estimator:hover {background-color: #d4ebff;}#sk-container-id-2 div.sk-parallel-item::after {content: \"\";width: 100%;border-bottom: 1px solid gray;flex-grow: 1;}#sk-container-id-2 div.sk-label:hover label.sk-toggleable__label {background-color: #d4ebff;}#sk-container-id-2 div.sk-serial::before {content: \"\";position: absolute;border-left: 1px solid gray;box-sizing: border-box;top: 0;bottom: 0;left: 50%;z-index: 0;}#sk-container-id-2 div.sk-serial {display: flex;flex-direction: column;align-items: center;background-color: white;padding-right: 0.2em;padding-left: 0.2em;position: relative;}#sk-container-id-2 div.sk-item {position: relative;z-index: 1;}#sk-container-id-2 div.sk-parallel {display: flex;align-items: stretch;justify-content: center;background-color: white;position: relative;}#sk-container-id-2 div.sk-item::before, #sk-container-id-2 div.sk-parallel-item::before {content: \"\";position: absolute;border-left: 1px solid gray;box-sizing: border-box;top: 0;bottom: 0;left: 50%;z-index: -1;}#sk-container-id-2 div.sk-parallel-item {display: flex;flex-direction: column;z-index: 1;position: relative;background-color: white;}#sk-container-id-2 div.sk-parallel-item:first-child::after {align-self: flex-end;width: 50%;}#sk-container-id-2 div.sk-parallel-item:last-child::after {align-self: flex-start;width: 50%;}#sk-container-id-2 div.sk-parallel-item:only-child::after {width: 0;}#sk-container-id-2 div.sk-dashed-wrapped {border: 1px dashed gray;margin: 0 0.4em 0.5em 0.4em;box-sizing: border-box;padding-bottom: 0.4em;background-color: white;}#sk-container-id-2 div.sk-label label {font-family: monospace;font-weight: bold;display: inline-block;line-height: 1.2em;}#sk-container-id-2 div.sk-label-container {text-align: center;}#sk-container-id-2 div.sk-container {/* jupyter's `normalize.less` sets `[hidden] { display: none; }` but bootstrap.min.css set `[hidden] { display: none !important; }` so we also need the `!important` here to be able to override the default hidden behavior on the sphinx rendered scikit-learn.org. See: https://github.com/scikit-learn/scikit-learn/issues/21755 */display: inline-block !important;position: relative;}#sk-container-id-2 div.sk-text-repr-fallback {display: none;}</style><div id=\"sk-container-id-2\" class=\"sk-top-container\"><div class=\"sk-text-repr-fallback\"><pre>LogisticRegression()</pre><b>In a Jupyter environment, please rerun this cell to show the HTML representation or trust the notebook. <br />On GitHub, the HTML representation is unable to render, please try loading this page with nbviewer.org.</b></div><div class=\"sk-container\" hidden><div class=\"sk-item\"><div class=\"sk-estimator sk-toggleable\"><input class=\"sk-toggleable__control sk-hidden--visually\" id=\"sk-estimator-id-2\" type=\"checkbox\" checked><label for=\"sk-estimator-id-2\" class=\"sk-toggleable__label sk-toggleable__label-arrow\">LogisticRegression</label><div class=\"sk-toggleable__content\"><pre>LogisticRegression()</pre></div></div></div></div></div>"
      ],
      "text/plain": [
       "LogisticRegression()"
      ]
     },
     "execution_count": 240,
     "metadata": {},
     "output_type": "execute_result"
    }
   ],
   "source": [
    "# lg_model1 = LogisticRegression()\n",
    "# lg_model1.fit(train_df,y_train)"
   ]
  },
  {
   "cell_type": "code",
   "execution_count": 241,
   "id": "9067228f",
   "metadata": {},
   "outputs": [],
   "source": [
    "# y_test_predict=lg_model1.predict(test_df)"
   ]
  },
  {
   "cell_type": "code",
   "execution_count": 242,
   "id": "e9ec8dc8",
   "metadata": {},
   "outputs": [
    {
     "data": {
      "text/plain": [
       "array([[18479,    95],\n",
       "       [ 1334,    92]], dtype=int64)"
      ]
     },
     "execution_count": 242,
     "metadata": {},
     "output_type": "execute_result"
    }
   ],
   "source": [
    "# confusion_matrix(y_true=y_test,y_pred=y_test_predict)"
   ]
  },
  {
   "cell_type": "code",
   "execution_count": 244,
   "id": "7f4799a9",
   "metadata": {},
   "outputs": [
    {
     "data": {
      "text/plain": [
       "0.92855"
      ]
     },
     "execution_count": 244,
     "metadata": {},
     "output_type": "execute_result"
    }
   ],
   "source": [
    "# accuracy_score(y_true=y_test,y_pred=y_test_predict) # this is better view on the actual prediction however the model seems\n",
    "# # to not perform very well because the most of the true value are predicted false. seemss like its overtrained for the value\n",
    "# # of being non churn"
   ]
  },
  {
   "cell_type": "markdown",
   "id": "45e6d16c",
   "metadata": {},
   "source": [
    "## Analysis 3"
   ]
  },
  {
   "cell_type": "code",
   "execution_count": 49,
   "id": "32f315ac",
   "metadata": {},
   "outputs": [],
   "source": [
    "import warnings\n",
    "warnings.filterwarnings('ignore')"
   ]
  },
  {
   "cell_type": "code",
   "execution_count": 50,
   "id": "4e7eac3f",
   "metadata": {},
   "outputs": [],
   "source": [
    "y_train=train_df['churn_probability']\n",
    "train_df=train_df.drop(columns=['churn_probability'])"
   ]
  },
  {
   "cell_type": "code",
   "execution_count": 51,
   "id": "c29b45fe",
   "metadata": {},
   "outputs": [],
   "source": [
    "#Lets try to train the new train and tesst set with the top selectedd feature using the RFE\n",
    "from sklearn.feature_selection import RFE"
   ]
  },
  {
   "cell_type": "code",
   "execution_count": 52,
   "id": "33c1001f",
   "metadata": {},
   "outputs": [
    {
     "data": {
      "text/html": [
       "<style>#sk-container-id-2 {color: black;background-color: white;}#sk-container-id-2 pre{padding: 0;}#sk-container-id-2 div.sk-toggleable {background-color: white;}#sk-container-id-2 label.sk-toggleable__label {cursor: pointer;display: block;width: 100%;margin-bottom: 0;padding: 0.3em;box-sizing: border-box;text-align: center;}#sk-container-id-2 label.sk-toggleable__label-arrow:before {content: \"▸\";float: left;margin-right: 0.25em;color: #696969;}#sk-container-id-2 label.sk-toggleable__label-arrow:hover:before {color: black;}#sk-container-id-2 div.sk-estimator:hover label.sk-toggleable__label-arrow:before {color: black;}#sk-container-id-2 div.sk-toggleable__content {max-height: 0;max-width: 0;overflow: hidden;text-align: left;background-color: #f0f8ff;}#sk-container-id-2 div.sk-toggleable__content pre {margin: 0.2em;color: black;border-radius: 0.25em;background-color: #f0f8ff;}#sk-container-id-2 input.sk-toggleable__control:checked~div.sk-toggleable__content {max-height: 200px;max-width: 100%;overflow: auto;}#sk-container-id-2 input.sk-toggleable__control:checked~label.sk-toggleable__label-arrow:before {content: \"▾\";}#sk-container-id-2 div.sk-estimator input.sk-toggleable__control:checked~label.sk-toggleable__label {background-color: #d4ebff;}#sk-container-id-2 div.sk-label input.sk-toggleable__control:checked~label.sk-toggleable__label {background-color: #d4ebff;}#sk-container-id-2 input.sk-hidden--visually {border: 0;clip: rect(1px 1px 1px 1px);clip: rect(1px, 1px, 1px, 1px);height: 1px;margin: -1px;overflow: hidden;padding: 0;position: absolute;width: 1px;}#sk-container-id-2 div.sk-estimator {font-family: monospace;background-color: #f0f8ff;border: 1px dotted black;border-radius: 0.25em;box-sizing: border-box;margin-bottom: 0.5em;}#sk-container-id-2 div.sk-estimator:hover {background-color: #d4ebff;}#sk-container-id-2 div.sk-parallel-item::after {content: \"\";width: 100%;border-bottom: 1px solid gray;flex-grow: 1;}#sk-container-id-2 div.sk-label:hover label.sk-toggleable__label {background-color: #d4ebff;}#sk-container-id-2 div.sk-serial::before {content: \"\";position: absolute;border-left: 1px solid gray;box-sizing: border-box;top: 0;bottom: 0;left: 50%;z-index: 0;}#sk-container-id-2 div.sk-serial {display: flex;flex-direction: column;align-items: center;background-color: white;padding-right: 0.2em;padding-left: 0.2em;position: relative;}#sk-container-id-2 div.sk-item {position: relative;z-index: 1;}#sk-container-id-2 div.sk-parallel {display: flex;align-items: stretch;justify-content: center;background-color: white;position: relative;}#sk-container-id-2 div.sk-item::before, #sk-container-id-2 div.sk-parallel-item::before {content: \"\";position: absolute;border-left: 1px solid gray;box-sizing: border-box;top: 0;bottom: 0;left: 50%;z-index: -1;}#sk-container-id-2 div.sk-parallel-item {display: flex;flex-direction: column;z-index: 1;position: relative;background-color: white;}#sk-container-id-2 div.sk-parallel-item:first-child::after {align-self: flex-end;width: 50%;}#sk-container-id-2 div.sk-parallel-item:last-child::after {align-self: flex-start;width: 50%;}#sk-container-id-2 div.sk-parallel-item:only-child::after {width: 0;}#sk-container-id-2 div.sk-dashed-wrapped {border: 1px dashed gray;margin: 0 0.4em 0.5em 0.4em;box-sizing: border-box;padding-bottom: 0.4em;background-color: white;}#sk-container-id-2 div.sk-label label {font-family: monospace;font-weight: bold;display: inline-block;line-height: 1.2em;}#sk-container-id-2 div.sk-label-container {text-align: center;}#sk-container-id-2 div.sk-container {/* jupyter's `normalize.less` sets `[hidden] { display: none; }` but bootstrap.min.css set `[hidden] { display: none !important; }` so we also need the `!important` here to be able to override the default hidden behavior on the sphinx rendered scikit-learn.org. See: https://github.com/scikit-learn/scikit-learn/issues/21755 */display: inline-block !important;position: relative;}#sk-container-id-2 div.sk-text-repr-fallback {display: none;}</style><div id=\"sk-container-id-2\" class=\"sk-top-container\"><div class=\"sk-text-repr-fallback\"><pre>RFE(estimator=LogisticRegression(), n_features_to_select=100)</pre><b>In a Jupyter environment, please rerun this cell to show the HTML representation or trust the notebook. <br />On GitHub, the HTML representation is unable to render, please try loading this page with nbviewer.org.</b></div><div class=\"sk-container\" hidden><div class=\"sk-item sk-dashed-wrapped\"><div class=\"sk-label-container\"><div class=\"sk-label sk-toggleable\"><input class=\"sk-toggleable__control sk-hidden--visually\" id=\"sk-estimator-id-2\" type=\"checkbox\" ><label for=\"sk-estimator-id-2\" class=\"sk-toggleable__label sk-toggleable__label-arrow\">RFE</label><div class=\"sk-toggleable__content\"><pre>RFE(estimator=LogisticRegression(), n_features_to_select=100)</pre></div></div></div><div class=\"sk-parallel\"><div class=\"sk-parallel-item\"><div class=\"sk-item\"><div class=\"sk-label-container\"><div class=\"sk-label sk-toggleable\"><input class=\"sk-toggleable__control sk-hidden--visually\" id=\"sk-estimator-id-3\" type=\"checkbox\" ><label for=\"sk-estimator-id-3\" class=\"sk-toggleable__label sk-toggleable__label-arrow\">estimator: LogisticRegression</label><div class=\"sk-toggleable__content\"><pre>LogisticRegression()</pre></div></div></div><div class=\"sk-serial\"><div class=\"sk-item\"><div class=\"sk-estimator sk-toggleable\"><input class=\"sk-toggleable__control sk-hidden--visually\" id=\"sk-estimator-id-4\" type=\"checkbox\" ><label for=\"sk-estimator-id-4\" class=\"sk-toggleable__label sk-toggleable__label-arrow\">LogisticRegression</label><div class=\"sk-toggleable__content\"><pre>LogisticRegression()</pre></div></div></div></div></div></div></div></div></div></div>"
      ],
      "text/plain": [
       "RFE(estimator=LogisticRegression(), n_features_to_select=100)"
      ]
     },
     "execution_count": 52,
     "metadata": {},
     "output_type": "execute_result"
    }
   ],
   "source": [
    "lg_model2= LogisticRegression()\n",
    "rfe=RFE(estimator=lg_model2,n_features_to_select=100)\n",
    "rfe.fit(train_df,y_train)"
   ]
  },
  {
   "cell_type": "code",
   "execution_count": 53,
   "id": "34a5076f",
   "metadata": {},
   "outputs": [],
   "source": [
    "selected100=rfe.feature_names_in_[rfe.support_]"
   ]
  },
  {
   "cell_type": "code",
   "execution_count": 54,
   "id": "da031237",
   "metadata": {},
   "outputs": [
    {
     "data": {
      "text/html": [
       "<style>#sk-container-id-3 {color: black;background-color: white;}#sk-container-id-3 pre{padding: 0;}#sk-container-id-3 div.sk-toggleable {background-color: white;}#sk-container-id-3 label.sk-toggleable__label {cursor: pointer;display: block;width: 100%;margin-bottom: 0;padding: 0.3em;box-sizing: border-box;text-align: center;}#sk-container-id-3 label.sk-toggleable__label-arrow:before {content: \"▸\";float: left;margin-right: 0.25em;color: #696969;}#sk-container-id-3 label.sk-toggleable__label-arrow:hover:before {color: black;}#sk-container-id-3 div.sk-estimator:hover label.sk-toggleable__label-arrow:before {color: black;}#sk-container-id-3 div.sk-toggleable__content {max-height: 0;max-width: 0;overflow: hidden;text-align: left;background-color: #f0f8ff;}#sk-container-id-3 div.sk-toggleable__content pre {margin: 0.2em;color: black;border-radius: 0.25em;background-color: #f0f8ff;}#sk-container-id-3 input.sk-toggleable__control:checked~div.sk-toggleable__content {max-height: 200px;max-width: 100%;overflow: auto;}#sk-container-id-3 input.sk-toggleable__control:checked~label.sk-toggleable__label-arrow:before {content: \"▾\";}#sk-container-id-3 div.sk-estimator input.sk-toggleable__control:checked~label.sk-toggleable__label {background-color: #d4ebff;}#sk-container-id-3 div.sk-label input.sk-toggleable__control:checked~label.sk-toggleable__label {background-color: #d4ebff;}#sk-container-id-3 input.sk-hidden--visually {border: 0;clip: rect(1px 1px 1px 1px);clip: rect(1px, 1px, 1px, 1px);height: 1px;margin: -1px;overflow: hidden;padding: 0;position: absolute;width: 1px;}#sk-container-id-3 div.sk-estimator {font-family: monospace;background-color: #f0f8ff;border: 1px dotted black;border-radius: 0.25em;box-sizing: border-box;margin-bottom: 0.5em;}#sk-container-id-3 div.sk-estimator:hover {background-color: #d4ebff;}#sk-container-id-3 div.sk-parallel-item::after {content: \"\";width: 100%;border-bottom: 1px solid gray;flex-grow: 1;}#sk-container-id-3 div.sk-label:hover label.sk-toggleable__label {background-color: #d4ebff;}#sk-container-id-3 div.sk-serial::before {content: \"\";position: absolute;border-left: 1px solid gray;box-sizing: border-box;top: 0;bottom: 0;left: 50%;z-index: 0;}#sk-container-id-3 div.sk-serial {display: flex;flex-direction: column;align-items: center;background-color: white;padding-right: 0.2em;padding-left: 0.2em;position: relative;}#sk-container-id-3 div.sk-item {position: relative;z-index: 1;}#sk-container-id-3 div.sk-parallel {display: flex;align-items: stretch;justify-content: center;background-color: white;position: relative;}#sk-container-id-3 div.sk-item::before, #sk-container-id-3 div.sk-parallel-item::before {content: \"\";position: absolute;border-left: 1px solid gray;box-sizing: border-box;top: 0;bottom: 0;left: 50%;z-index: -1;}#sk-container-id-3 div.sk-parallel-item {display: flex;flex-direction: column;z-index: 1;position: relative;background-color: white;}#sk-container-id-3 div.sk-parallel-item:first-child::after {align-self: flex-end;width: 50%;}#sk-container-id-3 div.sk-parallel-item:last-child::after {align-self: flex-start;width: 50%;}#sk-container-id-3 div.sk-parallel-item:only-child::after {width: 0;}#sk-container-id-3 div.sk-dashed-wrapped {border: 1px dashed gray;margin: 0 0.4em 0.5em 0.4em;box-sizing: border-box;padding-bottom: 0.4em;background-color: white;}#sk-container-id-3 div.sk-label label {font-family: monospace;font-weight: bold;display: inline-block;line-height: 1.2em;}#sk-container-id-3 div.sk-label-container {text-align: center;}#sk-container-id-3 div.sk-container {/* jupyter's `normalize.less` sets `[hidden] { display: none; }` but bootstrap.min.css set `[hidden] { display: none !important; }` so we also need the `!important` here to be able to override the default hidden behavior on the sphinx rendered scikit-learn.org. See: https://github.com/scikit-learn/scikit-learn/issues/21755 */display: inline-block !important;position: relative;}#sk-container-id-3 div.sk-text-repr-fallback {display: none;}</style><div id=\"sk-container-id-3\" class=\"sk-top-container\"><div class=\"sk-text-repr-fallback\"><pre>LogisticRegression()</pre><b>In a Jupyter environment, please rerun this cell to show the HTML representation or trust the notebook. <br />On GitHub, the HTML representation is unable to render, please try loading this page with nbviewer.org.</b></div><div class=\"sk-container\" hidden><div class=\"sk-item\"><div class=\"sk-estimator sk-toggleable\"><input class=\"sk-toggleable__control sk-hidden--visually\" id=\"sk-estimator-id-5\" type=\"checkbox\" checked><label for=\"sk-estimator-id-5\" class=\"sk-toggleable__label sk-toggleable__label-arrow\">LogisticRegression</label><div class=\"sk-toggleable__content\"><pre>LogisticRegression()</pre></div></div></div></div></div>"
      ],
      "text/plain": [
       "LogisticRegression()"
      ]
     },
     "execution_count": 54,
     "metadata": {},
     "output_type": "execute_result"
    }
   ],
   "source": [
    "lg_model3 = LogisticRegression()\n",
    "lg_model3.fit(train_df[selected100],y_train)"
   ]
  },
  {
   "cell_type": "code",
   "execution_count": 55,
   "id": "051535ef",
   "metadata": {},
   "outputs": [],
   "source": [
    "y_test_predict=lg_model3.predict(test_df[selected100])"
   ]
  },
  {
   "cell_type": "code",
   "execution_count": 57,
   "id": "8aeb64e5",
   "metadata": {},
   "outputs": [],
   "source": [
    "lg_model_predict_x=lg_model3.predict(train_df[selected100])"
   ]
  },
  {
   "cell_type": "code",
   "execution_count": 58,
   "id": "96e5e046",
   "metadata": {},
   "outputs": [
    {
     "data": {
      "text/plain": [
       "array([[62209,   658],\n",
       "       [ 5451,  1681]], dtype=int64)"
      ]
     },
     "execution_count": 58,
     "metadata": {},
     "output_type": "execute_result"
    }
   ],
   "source": [
    "confusion_matrix(y_true=y_train,y_pred=lg_model_predict_x)"
   ]
  },
  {
   "cell_type": "code",
   "execution_count": 59,
   "id": "1ad3f4df",
   "metadata": {},
   "outputs": [
    {
     "data": {
      "text/plain": [
       "0.9127273246760668"
      ]
     },
     "execution_count": 59,
     "metadata": {},
     "output_type": "execute_result"
    }
   ],
   "source": [
    "accuracy_score(y_true=y_train,y_pred=lg_model_predict_x) #seems like what 143 parameters can do, same things is achieved using the 100 parameters too"
   ]
  },
  {
   "cell_type": "code",
   "execution_count": null,
   "id": "ec4fbc79",
   "metadata": {},
   "outputs": [],
   "source": [
    "#lets see what is the optimum number of features we can select without losing much on accuracy"
   ]
  },
  {
   "cell_type": "code",
   "execution_count": 60,
   "id": "65417673",
   "metadata": {},
   "outputs": [
    {
     "data": {
      "text/plain": [
       "[{'param': 10, 'acc_score': 0.9300990014143059},\n",
       " {'param': 20, 'acc_score': 0.9246417805968656},\n",
       " {'param': 50, 'acc_score': 0.9148130687581251},\n",
       " {'param': 80, 'acc_score': 0.9139273418191688},\n",
       " {'param': 100, 'acc_score': 0.9127273246760668},\n",
       " {'param': 120, 'acc_score': 0.9119558850840727},\n",
       " {'param': 150, 'acc_score': 0.9120130287575536}]"
      ]
     },
     "execution_count": 60,
     "metadata": {},
     "output_type": "execute_result"
    }
   ],
   "source": [
    "def getAccuracyOnParams(paramsToChose):\n",
    "    lg_model2= LogisticRegression()\n",
    "    rfe=RFE(estimator=lg_model2,n_features_to_select=paramsToChose)\n",
    "    rfe.fit(train_df,y_train)\n",
    "    selected100=rfe.feature_names_in_[rfe.support_]\n",
    "    lg_model3 = LogisticRegression()\n",
    "    lg_model3.fit(train_df[selected100],y_train)\n",
    "    y_train_predict=lg_model3.predict(train_df[selected100])\n",
    "    return {'param':paramsToChose,'acc_score':accuracy_score(y_true=y_train,y_pred=y_train_predict)}\n",
    "\n",
    "\n",
    "[getAccuracyOnParams(i) for i in [10,20,50,80,100,120,150]]\n",
    "    "
   ]
  },
  {
   "cell_type": "code",
   "execution_count": 285,
   "id": "b154e2e8",
   "metadata": {},
   "outputs": [],
   "source": [
    "#  seems, with the top 10-20 features also the model is performing well enough, but lets dig further and see"
   ]
  },
  {
   "cell_type": "code",
   "execution_count": 61,
   "id": "ef09be46",
   "metadata": {},
   "outputs": [
    {
     "data": {
      "text/plain": [
       "array(['std_ic_t2f_mou_8', 'spl_ic_mou_6', 'spl_ic_mou_7', 'spl_ic_mou_8',\n",
       "       'total_rech_num_6', 'total_rech_num_8', 'total_rech_data_8',\n",
       "       'count_rech_3g_8', 'sachet_2g_8', 'fb_user_8'], dtype=object)"
      ]
     },
     "execution_count": 61,
     "metadata": {},
     "output_type": "execute_result"
    }
   ],
   "source": [
    "#Lets see what are the top features.\n",
    "rfe=RFE(lg_model2,n_features_to_select=10)\n",
    "rfe.fit(train_df,y_train)\n",
    "selected10=rfe.feature_names_in_[rfe.support_]\n",
    "selected10"
   ]
  },
  {
   "cell_type": "code",
   "execution_count": 68,
   "id": "6cb4f5e3",
   "metadata": {},
   "outputs": [
    {
     "data": {
      "text/plain": [
       "array(['roam_og_mou_6', 'loc_og_t2f_mou_8', 'loc_og_t2c_mou_6',\n",
       "       'loc_og_t2c_mou_8', 'std_og_t2f_mou_8', 'total_og_mou_6',\n",
       "       'loc_ic_mou_8', 'std_ic_t2f_mou_8', 'spl_ic_mou_6', 'spl_ic_mou_7',\n",
       "       'spl_ic_mou_8', 'ic_others_8', 'total_rech_num_6',\n",
       "       'total_rech_num_8', 'total_rech_data_8', 'count_rech_2g_8',\n",
       "       'count_rech_3g_8', 'sachet_2g_8', 'fb_user_8',\n",
       "       'date_of_last_rech_7'], dtype=object)"
      ]
     },
     "execution_count": 68,
     "metadata": {},
     "output_type": "execute_result"
    }
   ],
   "source": [
    "rfe=RFE(lg_model2,n_features_to_select=20)\n",
    "rfe.fit(train_df,y_train)\n",
    "selected20=rfe.feature_names_in_[rfe.support_]\n",
    "selected20"
   ]
  },
  {
   "cell_type": "code",
   "execution_count": 78,
   "id": "c2db030b",
   "metadata": {},
   "outputs": [
    {
     "data": {
      "text/plain": [
       "array(['arpu_6', 'arpu_7', 'onnet_mou_6', 'onnet_mou_7', 'onnet_mou_8',\n",
       "       'offnet_mou_6', 'offnet_mou_7', 'offnet_mou_8', 'roam_ic_mou_6',\n",
       "       'roam_ic_mou_7', 'roam_og_mou_6', 'roam_og_mou_8',\n",
       "       'loc_og_t2t_mou_7', 'loc_og_t2t_mou_8', 'loc_og_t2m_mou_7',\n",
       "       'loc_og_t2m_mou_8', 'loc_og_t2f_mou_6', 'loc_og_t2f_mou_7',\n",
       "       'loc_og_t2f_mou_8', 'loc_og_t2c_mou_6', 'loc_og_t2c_mou_7',\n",
       "       'loc_og_t2c_mou_8', 'loc_og_mou_7', 'std_og_t2t_mou_7',\n",
       "       'std_og_t2t_mou_8', 'std_og_t2m_mou_7', 'std_og_t2f_mou_6',\n",
       "       'std_og_t2f_mou_7', 'std_og_t2f_mou_8', 'std_og_mou_7',\n",
       "       'std_og_mou_8', 'spl_og_mou_6', 'spl_og_mou_7', 'spl_og_mou_8',\n",
       "       'og_others_6', 'total_og_mou_6', 'total_og_mou_7',\n",
       "       'loc_ic_t2t_mou_6', 'loc_ic_t2m_mou_6', 'loc_ic_t2m_mou_7',\n",
       "       'loc_ic_t2m_mou_8', 'loc_ic_t2f_mou_7', 'loc_ic_t2f_mou_8',\n",
       "       'loc_ic_mou_8', 'std_ic_t2t_mou_6', 'std_ic_t2t_mou_7',\n",
       "       'std_ic_t2t_mou_8', 'std_ic_t2m_mou_6', 'std_ic_t2m_mou_7',\n",
       "       'std_ic_t2f_mou_6', 'std_ic_t2f_mou_7', 'std_ic_t2f_mou_8',\n",
       "       'std_ic_mou_7', 'std_ic_mou_8', 'total_ic_mou_6', 'total_ic_mou_7',\n",
       "       'spl_ic_mou_6', 'spl_ic_mou_7', 'spl_ic_mou_8', 'isd_ic_mou_7',\n",
       "       'ic_others_6', 'ic_others_7', 'ic_others_8', 'total_rech_num_6',\n",
       "       'total_rech_num_7', 'total_rech_num_8', 'total_rech_amt_6',\n",
       "       'total_rech_amt_7', 'total_rech_amt_8', 'max_rech_amt_6',\n",
       "       'last_day_rch_amt_6', 'last_day_rch_amt_8', 'total_rech_data_6',\n",
       "       'total_rech_data_7', 'total_rech_data_8', 'max_rech_data_6',\n",
       "       'max_rech_data_7', 'max_rech_data_8', 'count_rech_2g_7',\n",
       "       'count_rech_2g_8', 'count_rech_3g_7', 'count_rech_3g_8',\n",
       "       'av_rech_amt_data_8', 'vol_2g_mb_8', 'arpu_3g_7', 'arpu_2g_7',\n",
       "       'arpu_2g_8', 'night_pck_user_7', 'night_pck_user_8', 'sachet_2g_6',\n",
       "       'sachet_2g_8', 'fb_user_7', 'fb_user_8', 'aug_vbc_3g',\n",
       "       'date_of_last_rech_6', 'date_of_last_rech_7',\n",
       "       'date_of_last_rech_8', 'date_of_last_rech_data_6',\n",
       "       'date_of_last_rech_data_7', 'date_of_last_rech_data_8'],\n",
       "      dtype=object)"
      ]
     },
     "execution_count": 78,
     "metadata": {},
     "output_type": "execute_result"
    }
   ],
   "source": [
    "rfe=RFE(lg_model2,n_features_to_select=100)\n",
    "rfe.fit(train_df,y_train)\n",
    "selected100=rfe.feature_names_in_[rfe.support_]\n",
    "selected100"
   ]
  },
  {
   "cell_type": "markdown",
   "id": "048fe136",
   "metadata": {},
   "source": [
    "## Analysis 4"
   ]
  },
  {
   "cell_type": "code",
   "execution_count": 69,
   "id": "aa101a89",
   "metadata": {},
   "outputs": [],
   "source": [
    "# Given that the cost for the business to acquire the new customer is more than to retain the existing one, model with type-2 error\n",
    "# i.e. tagging the customer that they will not churn even if they are at the risk of being churn will be costlier for the\n",
    "# bussiness so lets try to change the prediction threshod and see if it has any impact on the accuracy"
   ]
  },
  {
   "cell_type": "code",
   "execution_count": 303,
   "id": "aadbda5e",
   "metadata": {},
   "outputs": [],
   "source": [
    "#Lets begin our analysis with the top 20 feature being selected by the RFE"
   ]
  },
  {
   "cell_type": "code",
   "execution_count": 74,
   "id": "0e3cec51",
   "metadata": {},
   "outputs": [],
   "source": [
    "lg_model4 = LogisticRegression()\n",
    "lg_model4.fit(train_df[selected10],y_train)\n",
    "y_test_predict=lg_model4.predict_proba(test_df[selected10])"
   ]
  },
  {
   "cell_type": "code",
   "execution_count": 75,
   "id": "ce25afde",
   "metadata": {},
   "outputs": [],
   "source": [
    "y_train_predict=lg_model4.predict_proba(train_df[selected10])\n",
    "threshold_df=pd.DataFrame(y_train.values,columns=['orig_y'])\n",
    "#Now lets test the different threshold value to know if some threshold will be performing better\n",
    "def predictOnThreshold(threshold):\n",
    "    threshold_df[f\"with_{threshold}\"]=[1 if x[1]>threshold else 0 for x in y_train_predict]\n",
    "\n",
    "for i in [0.2,0.3,0.4,0.5,0.6,0.7,0.8,0.9]:\n",
    "    predictOnThreshold(i)"
   ]
  },
  {
   "cell_type": "code",
   "execution_count": 77,
   "id": "47a4381c",
   "metadata": {},
   "outputs": [
    {
     "name": "stdout",
     "output_type": "stream",
     "text": [
      "1.0 <- for orig_y\n",
      "0.926456092229889 <- for with_0.2\n",
      "0.9287275532507607 <- for with_0.3\n",
      "0.9293704195774225 <- for with_0.4\n",
      "0.9300990014143059 <- for with_0.5\n",
      "0.9307275818225975 <- for with_0.6\n",
      "0.930156145087787 <- for with_0.7\n",
      "0.921341733453335 <- for with_0.8\n",
      "0.905227217531679 <- for with_0.9\n"
     ]
    }
   ],
   "source": [
    "for i in threshold_df.columns:\n",
    "    print(accuracy_score(y_train,threshold_df[i]),f\"<- for {i}\")\n",
    "#here 0.6 threshold value proves to be better when predicting on the training set let see if its showing the same behaviour \n",
    "# on the test set or its overfitted here"
   ]
  },
  {
   "cell_type": "code",
   "execution_count": 79,
   "id": "d575f539",
   "metadata": {},
   "outputs": [],
   "source": [
    "lg_model4 = LogisticRegression()\n",
    "lg_model4.fit(train_df[selected20],y_train)\n",
    "y_train_predict=lg_model4.predict_proba(train_df[selected20])\n",
    "threshold_df=pd.DataFrame(y_train.values,columns=['orig_y'])\n",
    "#Now lets test the different threshold value to know if some threshold will be performing better\n",
    "def predictOnThreshold(threshold):\n",
    "    threshold_df[f\"with_{threshold}\"]=[1 if x[1]>threshold else 0 for x in y_train_predict]\n",
    "\n",
    "for i in [0.2,0.3,0.4,0.5,0.6,0.7,0.8,0.9]:\n",
    "    predictOnThreshold(i)"
   ]
  },
  {
   "cell_type": "code",
   "execution_count": 80,
   "id": "c2925e75",
   "metadata": {},
   "outputs": [
    {
     "name": "stdout",
     "output_type": "stream",
     "text": [
      "1.0 <- for orig_y\n",
      "0.8778553979342562 <- for with_0.2\n",
      "0.921884598351405 <- for with_0.3\n",
      "0.9295275646794954 <- for with_0.4\n",
      "0.9246417805968656 <- for with_0.5\n",
      "0.915455935084787 <- for with_0.6\n",
      "0.9090987014100201 <- for with_0.7\n",
      "0.9063986628380405 <- for with_0.8\n",
      "0.8986699809997286 <- for with_0.9\n"
     ]
    }
   ],
   "source": [
    "for i in threshold_df.columns:\n",
    "    print(accuracy_score(y_train,threshold_df[i]),f\"<- for {i}\")"
   ]
  },
  {
   "cell_type": "code",
   "execution_count": 81,
   "id": "bc34af37",
   "metadata": {},
   "outputs": [],
   "source": [
    "# with this analysis 0.4 threshold value proves to be better when predicting"
   ]
  },
  {
   "cell_type": "code",
   "execution_count": 82,
   "id": "a69d8737",
   "metadata": {},
   "outputs": [],
   "source": [
    "lg_model4 = LogisticRegression()\n",
    "lg_model4.fit(train_df[selected100],y_train)\n",
    "y_train_predict=lg_model4.predict_proba(train_df[selected100])\n",
    "threshold_df=pd.DataFrame(y_train.values,columns=['orig_y'])\n",
    "#Now lets test the different threshold value to know if some threshold will be performing better\n",
    "def predictOnThreshold(threshold):\n",
    "    threshold_df[f\"with_{threshold}\"]=[1 if x[1]>threshold else 0 for x in y_train_predict]\n",
    "\n",
    "for i in [0.2,0.3,0.4,0.5,0.6,0.7,0.8,0.9]:\n",
    "    predictOnThreshold(i)"
   ]
  },
  {
   "cell_type": "code",
   "execution_count": 83,
   "id": "abe26928",
   "metadata": {},
   "outputs": [
    {
     "name": "stdout",
     "output_type": "stream",
     "text": [
      "1.0 <- for orig_y\n",
      "0.8816268803840055 <- for with_0.2\n",
      "0.9194274203917199 <- for with_0.3\n",
      "0.9193988485549793 <- for with_0.4\n",
      "0.9127273246760668 <- for with_0.5\n",
      "0.9066700952870755 <- for with_0.6\n",
      "0.9019271703881484 <- for with_0.7\n",
      "0.8996985671223875 <- for with_0.8\n",
      "0.898855697938542 <- for with_0.9\n"
     ]
    }
   ],
   "source": [
    "for i in threshold_df.columns:\n",
    "    print(accuracy_score(y_train,threshold_df[i]),f\"<- for {i}\")"
   ]
  },
  {
   "cell_type": "code",
   "execution_count": null,
   "id": "a5bcb7c5",
   "metadata": {},
   "outputs": [],
   "source": [
    "#out of these  10 feature selected are doing the better than 20 or 100 features"
   ]
  },
  {
   "cell_type": "markdown",
   "id": "c57cc919",
   "metadata": {},
   "source": [
    "## Analysis 5"
   ]
  },
  {
   "cell_type": "code",
   "execution_count": 334,
   "id": "0cb0ab53",
   "metadata": {},
   "outputs": [],
   "source": [
    "# Lets try analysing the same scenario with the relatively complex model like random forest to see if theere is some better\n",
    "# result in prediction, we will use the same set of 20 important feature selected using RFE"
   ]
  },
  {
   "cell_type": "code",
   "execution_count": 84,
   "id": "09d91549",
   "metadata": {},
   "outputs": [],
   "source": [
    "from sklearn.ensemble import RandomForestClassifier"
   ]
  },
  {
   "cell_type": "code",
   "execution_count": 85,
   "id": "fff41ee9",
   "metadata": {},
   "outputs": [
    {
     "data": {
      "text/plain": [
       "(69999, 143)"
      ]
     },
     "execution_count": 85,
     "metadata": {},
     "output_type": "execute_result"
    }
   ],
   "source": [
    "train_df.shape"
   ]
  },
  {
   "cell_type": "code",
   "execution_count": 97,
   "id": "2a103366",
   "metadata": {},
   "outputs": [
    {
     "data": {
      "text/html": [
       "<style>#sk-container-id-7 {color: black;background-color: white;}#sk-container-id-7 pre{padding: 0;}#sk-container-id-7 div.sk-toggleable {background-color: white;}#sk-container-id-7 label.sk-toggleable__label {cursor: pointer;display: block;width: 100%;margin-bottom: 0;padding: 0.3em;box-sizing: border-box;text-align: center;}#sk-container-id-7 label.sk-toggleable__label-arrow:before {content: \"▸\";float: left;margin-right: 0.25em;color: #696969;}#sk-container-id-7 label.sk-toggleable__label-arrow:hover:before {color: black;}#sk-container-id-7 div.sk-estimator:hover label.sk-toggleable__label-arrow:before {color: black;}#sk-container-id-7 div.sk-toggleable__content {max-height: 0;max-width: 0;overflow: hidden;text-align: left;background-color: #f0f8ff;}#sk-container-id-7 div.sk-toggleable__content pre {margin: 0.2em;color: black;border-radius: 0.25em;background-color: #f0f8ff;}#sk-container-id-7 input.sk-toggleable__control:checked~div.sk-toggleable__content {max-height: 200px;max-width: 100%;overflow: auto;}#sk-container-id-7 input.sk-toggleable__control:checked~label.sk-toggleable__label-arrow:before {content: \"▾\";}#sk-container-id-7 div.sk-estimator input.sk-toggleable__control:checked~label.sk-toggleable__label {background-color: #d4ebff;}#sk-container-id-7 div.sk-label input.sk-toggleable__control:checked~label.sk-toggleable__label {background-color: #d4ebff;}#sk-container-id-7 input.sk-hidden--visually {border: 0;clip: rect(1px 1px 1px 1px);clip: rect(1px, 1px, 1px, 1px);height: 1px;margin: -1px;overflow: hidden;padding: 0;position: absolute;width: 1px;}#sk-container-id-7 div.sk-estimator {font-family: monospace;background-color: #f0f8ff;border: 1px dotted black;border-radius: 0.25em;box-sizing: border-box;margin-bottom: 0.5em;}#sk-container-id-7 div.sk-estimator:hover {background-color: #d4ebff;}#sk-container-id-7 div.sk-parallel-item::after {content: \"\";width: 100%;border-bottom: 1px solid gray;flex-grow: 1;}#sk-container-id-7 div.sk-label:hover label.sk-toggleable__label {background-color: #d4ebff;}#sk-container-id-7 div.sk-serial::before {content: \"\";position: absolute;border-left: 1px solid gray;box-sizing: border-box;top: 0;bottom: 0;left: 50%;z-index: 0;}#sk-container-id-7 div.sk-serial {display: flex;flex-direction: column;align-items: center;background-color: white;padding-right: 0.2em;padding-left: 0.2em;position: relative;}#sk-container-id-7 div.sk-item {position: relative;z-index: 1;}#sk-container-id-7 div.sk-parallel {display: flex;align-items: stretch;justify-content: center;background-color: white;position: relative;}#sk-container-id-7 div.sk-item::before, #sk-container-id-7 div.sk-parallel-item::before {content: \"\";position: absolute;border-left: 1px solid gray;box-sizing: border-box;top: 0;bottom: 0;left: 50%;z-index: -1;}#sk-container-id-7 div.sk-parallel-item {display: flex;flex-direction: column;z-index: 1;position: relative;background-color: white;}#sk-container-id-7 div.sk-parallel-item:first-child::after {align-self: flex-end;width: 50%;}#sk-container-id-7 div.sk-parallel-item:last-child::after {align-self: flex-start;width: 50%;}#sk-container-id-7 div.sk-parallel-item:only-child::after {width: 0;}#sk-container-id-7 div.sk-dashed-wrapped {border: 1px dashed gray;margin: 0 0.4em 0.5em 0.4em;box-sizing: border-box;padding-bottom: 0.4em;background-color: white;}#sk-container-id-7 div.sk-label label {font-family: monospace;font-weight: bold;display: inline-block;line-height: 1.2em;}#sk-container-id-7 div.sk-label-container {text-align: center;}#sk-container-id-7 div.sk-container {/* jupyter's `normalize.less` sets `[hidden] { display: none; }` but bootstrap.min.css set `[hidden] { display: none !important; }` so we also need the `!important` here to be able to override the default hidden behavior on the sphinx rendered scikit-learn.org. See: https://github.com/scikit-learn/scikit-learn/issues/21755 */display: inline-block !important;position: relative;}#sk-container-id-7 div.sk-text-repr-fallback {display: none;}</style><div id=\"sk-container-id-7\" class=\"sk-top-container\"><div class=\"sk-text-repr-fallback\"><pre>RandomForestClassifier(min_samples_split=100)</pre><b>In a Jupyter environment, please rerun this cell to show the HTML representation or trust the notebook. <br />On GitHub, the HTML representation is unable to render, please try loading this page with nbviewer.org.</b></div><div class=\"sk-container\" hidden><div class=\"sk-item\"><div class=\"sk-estimator sk-toggleable\"><input class=\"sk-toggleable__control sk-hidden--visually\" id=\"sk-estimator-id-9\" type=\"checkbox\" checked><label for=\"sk-estimator-id-9\" class=\"sk-toggleable__label sk-toggleable__label-arrow\">RandomForestClassifier</label><div class=\"sk-toggleable__content\"><pre>RandomForestClassifier(min_samples_split=100)</pre></div></div></div></div></div>"
      ],
      "text/plain": [
       "RandomForestClassifier(min_samples_split=100)"
      ]
     },
     "execution_count": 97,
     "metadata": {},
     "output_type": "execute_result"
    }
   ],
   "source": [
    "rf_model1=RandomForestClassifier(min_samples_split=100) #just setting one hyper paramter as of now and keeping all as default\n",
    "rf_model1.fit(train_df[selected20],y_train)"
   ]
  },
  {
   "cell_type": "code",
   "execution_count": 98,
   "id": "1873a9a9",
   "metadata": {},
   "outputs": [],
   "source": [
    "y_train_pred_rf=rf_model1.predict(train_df[selected20])"
   ]
  },
  {
   "cell_type": "code",
   "execution_count": 99,
   "id": "d8f2d590",
   "metadata": {},
   "outputs": [
    {
     "name": "stdout",
     "output_type": "stream",
     "text": [
      "0.9437563393762768\n"
     ]
    }
   ],
   "source": [
    "print(accuracy_score(y_train,y_train_pred_rf)) #seems to be a slight increase but not much significantly here the accuracy rises\n",
    "# when 100 features were selected than that of 20 and 20 was giving more accuracy than that of top 10 so we will take this as best one"
   ]
  },
  {
   "cell_type": "code",
   "execution_count": 100,
   "id": "b619f94b",
   "metadata": {},
   "outputs": [
    {
     "name": "stdout",
     "output_type": "stream",
     "text": [
      "0.945456363662338\n"
     ]
    }
   ],
   "source": [
    "#same thing with top 100 feature to see if something new will come up\n",
    "rf_model1=RandomForestClassifier(min_samples_split=100) #just setting one hyper paramter as of now and keeping all as default\n",
    "rf_model1.fit(train_df[selected100],y_train)\n",
    "y_train_pred_rf=rf_model1.predict(train_df[selected100])\n",
    "print(accuracy_score(y_train,y_train_pred_rf)) #seems to be a slight increase than using only 10 but not much significantly"
   ]
  },
  {
   "cell_type": "code",
   "execution_count": 157,
   "id": "7de3c3fc",
   "metadata": {},
   "outputs": [
    {
     "name": "stdout",
     "output_type": "stream",
     "text": [
      "Fitting 5 folds for each of 64 candidates, totalling 320 fits\n"
     ]
    },
    {
     "data": {
      "text/html": [
       "<style>#sk-container-id-17 {color: black;background-color: white;}#sk-container-id-17 pre{padding: 0;}#sk-container-id-17 div.sk-toggleable {background-color: white;}#sk-container-id-17 label.sk-toggleable__label {cursor: pointer;display: block;width: 100%;margin-bottom: 0;padding: 0.3em;box-sizing: border-box;text-align: center;}#sk-container-id-17 label.sk-toggleable__label-arrow:before {content: \"▸\";float: left;margin-right: 0.25em;color: #696969;}#sk-container-id-17 label.sk-toggleable__label-arrow:hover:before {color: black;}#sk-container-id-17 div.sk-estimator:hover label.sk-toggleable__label-arrow:before {color: black;}#sk-container-id-17 div.sk-toggleable__content {max-height: 0;max-width: 0;overflow: hidden;text-align: left;background-color: #f0f8ff;}#sk-container-id-17 div.sk-toggleable__content pre {margin: 0.2em;color: black;border-radius: 0.25em;background-color: #f0f8ff;}#sk-container-id-17 input.sk-toggleable__control:checked~div.sk-toggleable__content {max-height: 200px;max-width: 100%;overflow: auto;}#sk-container-id-17 input.sk-toggleable__control:checked~label.sk-toggleable__label-arrow:before {content: \"▾\";}#sk-container-id-17 div.sk-estimator input.sk-toggleable__control:checked~label.sk-toggleable__label {background-color: #d4ebff;}#sk-container-id-17 div.sk-label input.sk-toggleable__control:checked~label.sk-toggleable__label {background-color: #d4ebff;}#sk-container-id-17 input.sk-hidden--visually {border: 0;clip: rect(1px 1px 1px 1px);clip: rect(1px, 1px, 1px, 1px);height: 1px;margin: -1px;overflow: hidden;padding: 0;position: absolute;width: 1px;}#sk-container-id-17 div.sk-estimator {font-family: monospace;background-color: #f0f8ff;border: 1px dotted black;border-radius: 0.25em;box-sizing: border-box;margin-bottom: 0.5em;}#sk-container-id-17 div.sk-estimator:hover {background-color: #d4ebff;}#sk-container-id-17 div.sk-parallel-item::after {content: \"\";width: 100%;border-bottom: 1px solid gray;flex-grow: 1;}#sk-container-id-17 div.sk-label:hover label.sk-toggleable__label {background-color: #d4ebff;}#sk-container-id-17 div.sk-serial::before {content: \"\";position: absolute;border-left: 1px solid gray;box-sizing: border-box;top: 0;bottom: 0;left: 50%;z-index: 0;}#sk-container-id-17 div.sk-serial {display: flex;flex-direction: column;align-items: center;background-color: white;padding-right: 0.2em;padding-left: 0.2em;position: relative;}#sk-container-id-17 div.sk-item {position: relative;z-index: 1;}#sk-container-id-17 div.sk-parallel {display: flex;align-items: stretch;justify-content: center;background-color: white;position: relative;}#sk-container-id-17 div.sk-item::before, #sk-container-id-17 div.sk-parallel-item::before {content: \"\";position: absolute;border-left: 1px solid gray;box-sizing: border-box;top: 0;bottom: 0;left: 50%;z-index: -1;}#sk-container-id-17 div.sk-parallel-item {display: flex;flex-direction: column;z-index: 1;position: relative;background-color: white;}#sk-container-id-17 div.sk-parallel-item:first-child::after {align-self: flex-end;width: 50%;}#sk-container-id-17 div.sk-parallel-item:last-child::after {align-self: flex-start;width: 50%;}#sk-container-id-17 div.sk-parallel-item:only-child::after {width: 0;}#sk-container-id-17 div.sk-dashed-wrapped {border: 1px dashed gray;margin: 0 0.4em 0.5em 0.4em;box-sizing: border-box;padding-bottom: 0.4em;background-color: white;}#sk-container-id-17 div.sk-label label {font-family: monospace;font-weight: bold;display: inline-block;line-height: 1.2em;}#sk-container-id-17 div.sk-label-container {text-align: center;}#sk-container-id-17 div.sk-container {/* jupyter's `normalize.less` sets `[hidden] { display: none; }` but bootstrap.min.css set `[hidden] { display: none !important; }` so we also need the `!important` here to be able to override the default hidden behavior on the sphinx rendered scikit-learn.org. See: https://github.com/scikit-learn/scikit-learn/issues/21755 */display: inline-block !important;position: relative;}#sk-container-id-17 div.sk-text-repr-fallback {display: none;}</style><div id=\"sk-container-id-17\" class=\"sk-top-container\"><div class=\"sk-text-repr-fallback\"><pre>GridSearchCV(estimator=RandomForestClassifier(), n_jobs=-1,\n",
       "             param_grid={&#x27;min_samples_leaf&#x27;: [100, 500, 750, 1000],\n",
       "                         &#x27;min_samples_split&#x27;: [100, 500, 750, 1000],\n",
       "                         &#x27;n_estimators&#x27;: [10, 20, 50, 80]},\n",
       "             scoring=&#x27;accuracy&#x27;, verbose=3)</pre><b>In a Jupyter environment, please rerun this cell to show the HTML representation or trust the notebook. <br />On GitHub, the HTML representation is unable to render, please try loading this page with nbviewer.org.</b></div><div class=\"sk-container\" hidden><div class=\"sk-item sk-dashed-wrapped\"><div class=\"sk-label-container\"><div class=\"sk-label sk-toggleable\"><input class=\"sk-toggleable__control sk-hidden--visually\" id=\"sk-estimator-id-21\" type=\"checkbox\" ><label for=\"sk-estimator-id-21\" class=\"sk-toggleable__label sk-toggleable__label-arrow\">GridSearchCV</label><div class=\"sk-toggleable__content\"><pre>GridSearchCV(estimator=RandomForestClassifier(), n_jobs=-1,\n",
       "             param_grid={&#x27;min_samples_leaf&#x27;: [100, 500, 750, 1000],\n",
       "                         &#x27;min_samples_split&#x27;: [100, 500, 750, 1000],\n",
       "                         &#x27;n_estimators&#x27;: [10, 20, 50, 80]},\n",
       "             scoring=&#x27;accuracy&#x27;, verbose=3)</pre></div></div></div><div class=\"sk-parallel\"><div class=\"sk-parallel-item\"><div class=\"sk-item\"><div class=\"sk-label-container\"><div class=\"sk-label sk-toggleable\"><input class=\"sk-toggleable__control sk-hidden--visually\" id=\"sk-estimator-id-22\" type=\"checkbox\" ><label for=\"sk-estimator-id-22\" class=\"sk-toggleable__label sk-toggleable__label-arrow\">estimator: RandomForestClassifier</label><div class=\"sk-toggleable__content\"><pre>RandomForestClassifier()</pre></div></div></div><div class=\"sk-serial\"><div class=\"sk-item\"><div class=\"sk-estimator sk-toggleable\"><input class=\"sk-toggleable__control sk-hidden--visually\" id=\"sk-estimator-id-23\" type=\"checkbox\" ><label for=\"sk-estimator-id-23\" class=\"sk-toggleable__label sk-toggleable__label-arrow\">RandomForestClassifier</label><div class=\"sk-toggleable__content\"><pre>RandomForestClassifier()</pre></div></div></div></div></div></div></div></div></div></div>"
      ],
      "text/plain": [
       "GridSearchCV(estimator=RandomForestClassifier(), n_jobs=-1,\n",
       "             param_grid={'min_samples_leaf': [100, 500, 750, 1000],\n",
       "                         'min_samples_split': [100, 500, 750, 1000],\n",
       "                         'n_estimators': [10, 20, 50, 80]},\n",
       "             scoring='accuracy', verbose=3)"
      ]
     },
     "execution_count": 157,
     "metadata": {},
     "output_type": "execute_result"
    }
   ],
   "source": [
    "# lets tune it with some set of parameter and find the best one if availble, this is very long running code so commenting for now\n",
    "params={\"n_estimators\":[10,20,50,80],\n",
    "       \"min_samples_split\":[100,500,750,1000],\n",
    "       \"min_samples_leaf\":[100,500,750,1000]}\n",
    "from sklearn.model_selection import GridSearchCV\n",
    "rf_model2=RandomForestClassifier()\n",
    "gs_cv=GridSearchCV(estimator=rf_model2,param_grid=params,scoring='accuracy',n_jobs=-1,verbose=3)\n",
    "gs_cv.fit(train_df[selected100],y_train)"
   ]
  },
  {
   "cell_type": "code",
   "execution_count": 158,
   "id": "421df066",
   "metadata": {},
   "outputs": [
    {
     "data": {
      "text/plain": [
       "0.9414848795322115"
      ]
     },
     "execution_count": 158,
     "metadata": {},
     "output_type": "execute_result"
    }
   ],
   "source": [
    "gs_cv.best_score_"
   ]
  },
  {
   "cell_type": "code",
   "execution_count": 159,
   "id": "ddfb2408",
   "metadata": {},
   "outputs": [
    {
     "data": {
      "text/html": [
       "<style>#sk-container-id-18 {color: black;background-color: white;}#sk-container-id-18 pre{padding: 0;}#sk-container-id-18 div.sk-toggleable {background-color: white;}#sk-container-id-18 label.sk-toggleable__label {cursor: pointer;display: block;width: 100%;margin-bottom: 0;padding: 0.3em;box-sizing: border-box;text-align: center;}#sk-container-id-18 label.sk-toggleable__label-arrow:before {content: \"▸\";float: left;margin-right: 0.25em;color: #696969;}#sk-container-id-18 label.sk-toggleable__label-arrow:hover:before {color: black;}#sk-container-id-18 div.sk-estimator:hover label.sk-toggleable__label-arrow:before {color: black;}#sk-container-id-18 div.sk-toggleable__content {max-height: 0;max-width: 0;overflow: hidden;text-align: left;background-color: #f0f8ff;}#sk-container-id-18 div.sk-toggleable__content pre {margin: 0.2em;color: black;border-radius: 0.25em;background-color: #f0f8ff;}#sk-container-id-18 input.sk-toggleable__control:checked~div.sk-toggleable__content {max-height: 200px;max-width: 100%;overflow: auto;}#sk-container-id-18 input.sk-toggleable__control:checked~label.sk-toggleable__label-arrow:before {content: \"▾\";}#sk-container-id-18 div.sk-estimator input.sk-toggleable__control:checked~label.sk-toggleable__label {background-color: #d4ebff;}#sk-container-id-18 div.sk-label input.sk-toggleable__control:checked~label.sk-toggleable__label {background-color: #d4ebff;}#sk-container-id-18 input.sk-hidden--visually {border: 0;clip: rect(1px 1px 1px 1px);clip: rect(1px, 1px, 1px, 1px);height: 1px;margin: -1px;overflow: hidden;padding: 0;position: absolute;width: 1px;}#sk-container-id-18 div.sk-estimator {font-family: monospace;background-color: #f0f8ff;border: 1px dotted black;border-radius: 0.25em;box-sizing: border-box;margin-bottom: 0.5em;}#sk-container-id-18 div.sk-estimator:hover {background-color: #d4ebff;}#sk-container-id-18 div.sk-parallel-item::after {content: \"\";width: 100%;border-bottom: 1px solid gray;flex-grow: 1;}#sk-container-id-18 div.sk-label:hover label.sk-toggleable__label {background-color: #d4ebff;}#sk-container-id-18 div.sk-serial::before {content: \"\";position: absolute;border-left: 1px solid gray;box-sizing: border-box;top: 0;bottom: 0;left: 50%;z-index: 0;}#sk-container-id-18 div.sk-serial {display: flex;flex-direction: column;align-items: center;background-color: white;padding-right: 0.2em;padding-left: 0.2em;position: relative;}#sk-container-id-18 div.sk-item {position: relative;z-index: 1;}#sk-container-id-18 div.sk-parallel {display: flex;align-items: stretch;justify-content: center;background-color: white;position: relative;}#sk-container-id-18 div.sk-item::before, #sk-container-id-18 div.sk-parallel-item::before {content: \"\";position: absolute;border-left: 1px solid gray;box-sizing: border-box;top: 0;bottom: 0;left: 50%;z-index: -1;}#sk-container-id-18 div.sk-parallel-item {display: flex;flex-direction: column;z-index: 1;position: relative;background-color: white;}#sk-container-id-18 div.sk-parallel-item:first-child::after {align-self: flex-end;width: 50%;}#sk-container-id-18 div.sk-parallel-item:last-child::after {align-self: flex-start;width: 50%;}#sk-container-id-18 div.sk-parallel-item:only-child::after {width: 0;}#sk-container-id-18 div.sk-dashed-wrapped {border: 1px dashed gray;margin: 0 0.4em 0.5em 0.4em;box-sizing: border-box;padding-bottom: 0.4em;background-color: white;}#sk-container-id-18 div.sk-label label {font-family: monospace;font-weight: bold;display: inline-block;line-height: 1.2em;}#sk-container-id-18 div.sk-label-container {text-align: center;}#sk-container-id-18 div.sk-container {/* jupyter's `normalize.less` sets `[hidden] { display: none; }` but bootstrap.min.css set `[hidden] { display: none !important; }` so we also need the `!important` here to be able to override the default hidden behavior on the sphinx rendered scikit-learn.org. See: https://github.com/scikit-learn/scikit-learn/issues/21755 */display: inline-block !important;position: relative;}#sk-container-id-18 div.sk-text-repr-fallback {display: none;}</style><div id=\"sk-container-id-18\" class=\"sk-top-container\"><div class=\"sk-text-repr-fallback\"><pre>RandomForestClassifier(min_samples_leaf=100, min_samples_split=100,\n",
       "                       n_estimators=50)</pre><b>In a Jupyter environment, please rerun this cell to show the HTML representation or trust the notebook. <br />On GitHub, the HTML representation is unable to render, please try loading this page with nbviewer.org.</b></div><div class=\"sk-container\" hidden><div class=\"sk-item\"><div class=\"sk-estimator sk-toggleable\"><input class=\"sk-toggleable__control sk-hidden--visually\" id=\"sk-estimator-id-24\" type=\"checkbox\" checked><label for=\"sk-estimator-id-24\" class=\"sk-toggleable__label sk-toggleable__label-arrow\">RandomForestClassifier</label><div class=\"sk-toggleable__content\"><pre>RandomForestClassifier(min_samples_leaf=100, min_samples_split=100,\n",
       "                       n_estimators=50)</pre></div></div></div></div></div>"
      ],
      "text/plain": [
       "RandomForestClassifier(min_samples_leaf=100, min_samples_split=100,\n",
       "                       n_estimators=50)"
      ]
     },
     "execution_count": 159,
     "metadata": {},
     "output_type": "execute_result"
    }
   ],
   "source": [
    "gs_cv.best_estimator_"
   ]
  },
  {
   "cell_type": "code",
   "execution_count": 160,
   "id": "edf4ec13",
   "metadata": {},
   "outputs": [
    {
     "name": "stdout",
     "output_type": "stream",
     "text": [
      "0.9423563193759911\n"
     ]
    }
   ],
   "source": [
    "y_test_pred_rf=gs_cv.best_estimator_.predict(train_df[selected100])\n",
    "print(accuracy_score(y_train,y_test_pred_rf))"
   ]
  },
  {
   "cell_type": "code",
   "execution_count": 178,
   "id": "8eebe34f",
   "metadata": {},
   "outputs": [
    {
     "name": "stdout",
     "output_type": "stream",
     "text": [
      "1.0 <- for orig_y\n",
      "0.9329561850883584 <- for with_0.2\n",
      "0.9405420077429678 <- for with_0.3\n",
      "0.9421848883555479 <- for with_0.4\n",
      "0.9423563193759911 <- for with_0.5\n",
      "0.9390991299875713 <- for with_0.6\n",
      "0.9334419063129473 <- for with_0.7\n",
      "0.9283561193731339 <- for with_0.8\n",
      "0.908655837940542 <- for with_0.9\n"
     ]
    }
   ],
   "source": [
    "y_test_pred_rf=gs_cv.best_estimator_.predict_proba(train_df[selected100])\n",
    "threshold_df=pd.DataFrame(y_train.values,columns=['orig_y'])\n",
    "#Now lets test the different threshold value to know if some threshold will be performing better\n",
    "def predictOnThreshold(threshold):\n",
    "    threshold_df[f\"with_{threshold}\"]=[1 if x[1]>threshold else 0 for x in y_test_pred_rf]\n",
    "\n",
    "for i in [0.2,0.3,0.4,0.5,0.6,0.7,0.8,0.9]:\n",
    "    predictOnThreshold(i)\n",
    "for i in threshold_df.columns:\n",
    "    print(accuracy_score(y_train,threshold_df[i]),f\"<- for {i}\")"
   ]
  },
  {
   "cell_type": "code",
   "execution_count": 349,
   "id": "72941176",
   "metadata": {},
   "outputs": [],
   "source": [
    "#Lets try using these hhyperparamters combination seleccted and train model with top100 feature to see what we will get"
   ]
  },
  {
   "cell_type": "code",
   "execution_count": 102,
   "id": "bb59c1e3",
   "metadata": {},
   "outputs": [
    {
     "name": "stdout",
     "output_type": "stream",
     "text": [
      "0.941042014885927\n"
     ]
    }
   ],
   "source": [
    "rf_model2=RandomForestClassifier(n_estimators=20,min_samples_split=750,min_samples_leaf=100,n_jobs=-1)\n",
    "rf_model2.fit(train_df[selected100],y_train)\n",
    "y_train_pred_rf=rf_model2.predict(train_df[selected100])\n",
    "print(accuracy_score(y_train,y_train_pred_rf)) "
   ]
  },
  {
   "cell_type": "code",
   "execution_count": null,
   "id": "2f5bfe00",
   "metadata": {},
   "outputs": [],
   "source": [
    "# params={\"n_estimators\":[10,20,50,80,100], #same long running code with 100features now\n",
    "#        \"min_samples_split\":[100,500,750,1000,1500,2000,3000,5000],\n",
    "#        \"min_samples_leaf\":[100,500,750,1000,1500,2000,3000,5000]}\n",
    "# gs_cv1=GridSearchCV(estimator=rf_model2,param_grid=params,cv=10,scoring='accuracy',n_jobs=-1)\n",
    "# gs_cv1.fit(train_df[selected100],y_train)\n",
    "# print(gs_cv1.best_score_)\n",
    "# gs_cv1.best_estimator_"
   ]
  },
  {
   "cell_type": "markdown",
   "id": "223bbd60",
   "metadata": {},
   "source": [
    "## Analyis 6"
   ]
  },
  {
   "cell_type": "code",
   "execution_count": null,
   "id": "b40a8cdd",
   "metadata": {},
   "outputs": [],
   "source": [
    "# Now lets try not removing any features and try to generate new set of features using dimensionality reduction techniques \n",
    "# like PCA and rebuild the previously tuned model with the identified hyperparameters\n",
    "\n",
    "#Plus the logistic regression was performing better when combined with top 10 features and 0.6 threshold lets combine these with PCA"
   ]
  },
  {
   "cell_type": "code",
   "execution_count": 103,
   "id": "05bbcf39",
   "metadata": {},
   "outputs": [],
   "source": [
    "from sklearn.decomposition import PCA"
   ]
  },
  {
   "cell_type": "code",
   "execution_count": 133,
   "id": "e3cad734",
   "metadata": {},
   "outputs": [],
   "source": [
    "pc_model = PCA(n_components=10)\n",
    "train_df_pca=pc_model.fit_transform(train_df,y_train)"
   ]
  },
  {
   "cell_type": "code",
   "execution_count": 134,
   "id": "162ffb80",
   "metadata": {},
   "outputs": [
    {
     "data": {
      "text/html": [
       "<style>#sk-container-id-13 {color: black;background-color: white;}#sk-container-id-13 pre{padding: 0;}#sk-container-id-13 div.sk-toggleable {background-color: white;}#sk-container-id-13 label.sk-toggleable__label {cursor: pointer;display: block;width: 100%;margin-bottom: 0;padding: 0.3em;box-sizing: border-box;text-align: center;}#sk-container-id-13 label.sk-toggleable__label-arrow:before {content: \"▸\";float: left;margin-right: 0.25em;color: #696969;}#sk-container-id-13 label.sk-toggleable__label-arrow:hover:before {color: black;}#sk-container-id-13 div.sk-estimator:hover label.sk-toggleable__label-arrow:before {color: black;}#sk-container-id-13 div.sk-toggleable__content {max-height: 0;max-width: 0;overflow: hidden;text-align: left;background-color: #f0f8ff;}#sk-container-id-13 div.sk-toggleable__content pre {margin: 0.2em;color: black;border-radius: 0.25em;background-color: #f0f8ff;}#sk-container-id-13 input.sk-toggleable__control:checked~div.sk-toggleable__content {max-height: 200px;max-width: 100%;overflow: auto;}#sk-container-id-13 input.sk-toggleable__control:checked~label.sk-toggleable__label-arrow:before {content: \"▾\";}#sk-container-id-13 div.sk-estimator input.sk-toggleable__control:checked~label.sk-toggleable__label {background-color: #d4ebff;}#sk-container-id-13 div.sk-label input.sk-toggleable__control:checked~label.sk-toggleable__label {background-color: #d4ebff;}#sk-container-id-13 input.sk-hidden--visually {border: 0;clip: rect(1px 1px 1px 1px);clip: rect(1px, 1px, 1px, 1px);height: 1px;margin: -1px;overflow: hidden;padding: 0;position: absolute;width: 1px;}#sk-container-id-13 div.sk-estimator {font-family: monospace;background-color: #f0f8ff;border: 1px dotted black;border-radius: 0.25em;box-sizing: border-box;margin-bottom: 0.5em;}#sk-container-id-13 div.sk-estimator:hover {background-color: #d4ebff;}#sk-container-id-13 div.sk-parallel-item::after {content: \"\";width: 100%;border-bottom: 1px solid gray;flex-grow: 1;}#sk-container-id-13 div.sk-label:hover label.sk-toggleable__label {background-color: #d4ebff;}#sk-container-id-13 div.sk-serial::before {content: \"\";position: absolute;border-left: 1px solid gray;box-sizing: border-box;top: 0;bottom: 0;left: 50%;z-index: 0;}#sk-container-id-13 div.sk-serial {display: flex;flex-direction: column;align-items: center;background-color: white;padding-right: 0.2em;padding-left: 0.2em;position: relative;}#sk-container-id-13 div.sk-item {position: relative;z-index: 1;}#sk-container-id-13 div.sk-parallel {display: flex;align-items: stretch;justify-content: center;background-color: white;position: relative;}#sk-container-id-13 div.sk-item::before, #sk-container-id-13 div.sk-parallel-item::before {content: \"\";position: absolute;border-left: 1px solid gray;box-sizing: border-box;top: 0;bottom: 0;left: 50%;z-index: -1;}#sk-container-id-13 div.sk-parallel-item {display: flex;flex-direction: column;z-index: 1;position: relative;background-color: white;}#sk-container-id-13 div.sk-parallel-item:first-child::after {align-self: flex-end;width: 50%;}#sk-container-id-13 div.sk-parallel-item:last-child::after {align-self: flex-start;width: 50%;}#sk-container-id-13 div.sk-parallel-item:only-child::after {width: 0;}#sk-container-id-13 div.sk-dashed-wrapped {border: 1px dashed gray;margin: 0 0.4em 0.5em 0.4em;box-sizing: border-box;padding-bottom: 0.4em;background-color: white;}#sk-container-id-13 div.sk-label label {font-family: monospace;font-weight: bold;display: inline-block;line-height: 1.2em;}#sk-container-id-13 div.sk-label-container {text-align: center;}#sk-container-id-13 div.sk-container {/* jupyter's `normalize.less` sets `[hidden] { display: none; }` but bootstrap.min.css set `[hidden] { display: none !important; }` so we also need the `!important` here to be able to override the default hidden behavior on the sphinx rendered scikit-learn.org. See: https://github.com/scikit-learn/scikit-learn/issues/21755 */display: inline-block !important;position: relative;}#sk-container-id-13 div.sk-text-repr-fallback {display: none;}</style><div id=\"sk-container-id-13\" class=\"sk-top-container\"><div class=\"sk-text-repr-fallback\"><pre>LogisticRegression()</pre><b>In a Jupyter environment, please rerun this cell to show the HTML representation or trust the notebook. <br />On GitHub, the HTML representation is unable to render, please try loading this page with nbviewer.org.</b></div><div class=\"sk-container\" hidden><div class=\"sk-item\"><div class=\"sk-estimator sk-toggleable\"><input class=\"sk-toggleable__control sk-hidden--visually\" id=\"sk-estimator-id-15\" type=\"checkbox\" checked><label for=\"sk-estimator-id-15\" class=\"sk-toggleable__label sk-toggleable__label-arrow\">LogisticRegression</label><div class=\"sk-toggleable__content\"><pre>LogisticRegression()</pre></div></div></div></div></div>"
      ],
      "text/plain": [
       "LogisticRegression()"
      ]
     },
     "execution_count": 134,
     "metadata": {},
     "output_type": "execute_result"
    }
   ],
   "source": [
    "lg_model5 = LogisticRegression()\n",
    "lg_model5.fit(train_df_pca,y_train)"
   ]
  },
  {
   "cell_type": "code",
   "execution_count": 135,
   "id": "5f27ab85",
   "metadata": {},
   "outputs": [],
   "source": [
    "y_train_pred=lg_model5.predict_proba(train_df_pca) #pc_model.transform(test_df))"
   ]
  },
  {
   "cell_type": "code",
   "execution_count": null,
   "id": "21cd3fcc",
   "metadata": {},
   "outputs": [],
   "source": []
  },
  {
   "cell_type": "code",
   "execution_count": 138,
   "id": "b90a1097",
   "metadata": {},
   "outputs": [
    {
     "name": "stdout",
     "output_type": "stream",
     "text": [
      "1.0 1.0 1.0 <- for orig_y\n",
      "0.8090829868998128 0.3142141664679227 0.7389231632080763 <- for with_0.15\n",
      "0.8739696281375449 0.42140997023809523 0.6353056646102075 <- for with_0.2\n",
      "0.9042986328376119 0.552080827519846 0.3217891194615816 <- for with_0.3\n",
      "0.9018985985514079 0.5685463010863943 0.15409422321929334 <- for with_0.4\n",
      "0.9003557193674195 0.5712988192552225 0.08819405496354459 <- for with_0.5\n",
      "0.8990699867140959 0.5506807866868382 0.05103757711721817 <- for with_0.6\n",
      "0.8990699867140959 0.5795724465558195 0.034212002243409985 <- for with_0.7\n",
      "0.8986271232446178 0.5687022900763359 0.020891755468311835 <- for with_0.8\n",
      "0.8984699781425449 0.6016260162601627 0.010375771172181716 <- for with_0.9\n"
     ]
    }
   ],
   "source": [
    "threshold_df=pd.DataFrame(y_train.values,columns=['orig_y'])\n",
    "#Now lets test the different threshold value to know if some threshold will be performing better\n",
    "def predictOnThreshold(threshold):\n",
    "    threshold_df[f\"with_{threshold}\"]=[1 if x[1]>threshold else 0 for x in y_train_pred]\n",
    "\n",
    "for i in [0.15,0.2,0.3,0.4,0.5,0.6,0.7,0.8,0.9]:\n",
    "    predictOnThreshold(i)\n",
    "\n",
    "for i in threshold_df.columns:\n",
    "    print(accuracy_score(y_train,threshold_df[i]),precision_score(y_train,threshold_df[i]),recall_score(y_train,threshold_df[i]),f\"<- for {i}\")"
   ]
  },
  {
   "cell_type": "code",
   "execution_count": null,
   "id": "1971095b",
   "metadata": {},
   "outputs": [],
   "source": [
    "# However this doesnot seem to be providing promising results when working with the logistic regression and gave averrage performance\n",
    "# with accuracy of around 90.42 at max"
   ]
  },
  {
   "cell_type": "code",
   "execution_count": 139,
   "id": "14021531",
   "metadata": {},
   "outputs": [],
   "source": [
    "# Here since the churning is costlier to the businesss we can make the prediction very sensitive to the probability and \n",
    "# set the threshold at the level 0.3 . this way we can capture more proportion of churning probable customer.\n",
    "# this can be said  after observing the precision and recall value from the above confusion matrix"
   ]
  },
  {
   "cell_type": "markdown",
   "id": "0fefae55",
   "metadata": {},
   "source": [
    "## Analysis 7"
   ]
  },
  {
   "cell_type": "code",
   "execution_count": 140,
   "id": "74fe2fc1",
   "metadata": {},
   "outputs": [
    {
     "data": {
      "text/html": [
       "<style>#sk-container-id-14 {color: black;background-color: white;}#sk-container-id-14 pre{padding: 0;}#sk-container-id-14 div.sk-toggleable {background-color: white;}#sk-container-id-14 label.sk-toggleable__label {cursor: pointer;display: block;width: 100%;margin-bottom: 0;padding: 0.3em;box-sizing: border-box;text-align: center;}#sk-container-id-14 label.sk-toggleable__label-arrow:before {content: \"▸\";float: left;margin-right: 0.25em;color: #696969;}#sk-container-id-14 label.sk-toggleable__label-arrow:hover:before {color: black;}#sk-container-id-14 div.sk-estimator:hover label.sk-toggleable__label-arrow:before {color: black;}#sk-container-id-14 div.sk-toggleable__content {max-height: 0;max-width: 0;overflow: hidden;text-align: left;background-color: #f0f8ff;}#sk-container-id-14 div.sk-toggleable__content pre {margin: 0.2em;color: black;border-radius: 0.25em;background-color: #f0f8ff;}#sk-container-id-14 input.sk-toggleable__control:checked~div.sk-toggleable__content {max-height: 200px;max-width: 100%;overflow: auto;}#sk-container-id-14 input.sk-toggleable__control:checked~label.sk-toggleable__label-arrow:before {content: \"▾\";}#sk-container-id-14 div.sk-estimator input.sk-toggleable__control:checked~label.sk-toggleable__label {background-color: #d4ebff;}#sk-container-id-14 div.sk-label input.sk-toggleable__control:checked~label.sk-toggleable__label {background-color: #d4ebff;}#sk-container-id-14 input.sk-hidden--visually {border: 0;clip: rect(1px 1px 1px 1px);clip: rect(1px, 1px, 1px, 1px);height: 1px;margin: -1px;overflow: hidden;padding: 0;position: absolute;width: 1px;}#sk-container-id-14 div.sk-estimator {font-family: monospace;background-color: #f0f8ff;border: 1px dotted black;border-radius: 0.25em;box-sizing: border-box;margin-bottom: 0.5em;}#sk-container-id-14 div.sk-estimator:hover {background-color: #d4ebff;}#sk-container-id-14 div.sk-parallel-item::after {content: \"\";width: 100%;border-bottom: 1px solid gray;flex-grow: 1;}#sk-container-id-14 div.sk-label:hover label.sk-toggleable__label {background-color: #d4ebff;}#sk-container-id-14 div.sk-serial::before {content: \"\";position: absolute;border-left: 1px solid gray;box-sizing: border-box;top: 0;bottom: 0;left: 50%;z-index: 0;}#sk-container-id-14 div.sk-serial {display: flex;flex-direction: column;align-items: center;background-color: white;padding-right: 0.2em;padding-left: 0.2em;position: relative;}#sk-container-id-14 div.sk-item {position: relative;z-index: 1;}#sk-container-id-14 div.sk-parallel {display: flex;align-items: stretch;justify-content: center;background-color: white;position: relative;}#sk-container-id-14 div.sk-item::before, #sk-container-id-14 div.sk-parallel-item::before {content: \"\";position: absolute;border-left: 1px solid gray;box-sizing: border-box;top: 0;bottom: 0;left: 50%;z-index: -1;}#sk-container-id-14 div.sk-parallel-item {display: flex;flex-direction: column;z-index: 1;position: relative;background-color: white;}#sk-container-id-14 div.sk-parallel-item:first-child::after {align-self: flex-end;width: 50%;}#sk-container-id-14 div.sk-parallel-item:last-child::after {align-self: flex-start;width: 50%;}#sk-container-id-14 div.sk-parallel-item:only-child::after {width: 0;}#sk-container-id-14 div.sk-dashed-wrapped {border: 1px dashed gray;margin: 0 0.4em 0.5em 0.4em;box-sizing: border-box;padding-bottom: 0.4em;background-color: white;}#sk-container-id-14 div.sk-label label {font-family: monospace;font-weight: bold;display: inline-block;line-height: 1.2em;}#sk-container-id-14 div.sk-label-container {text-align: center;}#sk-container-id-14 div.sk-container {/* jupyter's `normalize.less` sets `[hidden] { display: none; }` but bootstrap.min.css set `[hidden] { display: none !important; }` so we also need the `!important` here to be able to override the default hidden behavior on the sphinx rendered scikit-learn.org. See: https://github.com/scikit-learn/scikit-learn/issues/21755 */display: inline-block !important;position: relative;}#sk-container-id-14 div.sk-text-repr-fallback {display: none;}</style><div id=\"sk-container-id-14\" class=\"sk-top-container\"><div class=\"sk-text-repr-fallback\"><pre>XGBClassifier(base_score=None, booster=None, callbacks=None,\n",
       "              colsample_bylevel=None, colsample_bynode=None,\n",
       "              colsample_bytree=None, early_stopping_rounds=None,\n",
       "              enable_categorical=False, eval_metric=None, feature_types=None,\n",
       "              gamma=None, gpu_id=None, grow_policy=None, importance_type=None,\n",
       "              interaction_constraints=None, learning_rate=None, max_bin=None,\n",
       "              max_cat_threshold=None, max_cat_to_onehot=None,\n",
       "              max_delta_step=None, max_depth=None, max_leaves=100,\n",
       "              min_child_weight=None, missing=nan, monotone_constraints=None,\n",
       "              n_estimators=50, n_jobs=None, num_parallel_tree=None,\n",
       "              predictor=None, random_state=None, ...)</pre><b>In a Jupyter environment, please rerun this cell to show the HTML representation or trust the notebook. <br />On GitHub, the HTML representation is unable to render, please try loading this page with nbviewer.org.</b></div><div class=\"sk-container\" hidden><div class=\"sk-item\"><div class=\"sk-estimator sk-toggleable\"><input class=\"sk-toggleable__control sk-hidden--visually\" id=\"sk-estimator-id-16\" type=\"checkbox\" checked><label for=\"sk-estimator-id-16\" class=\"sk-toggleable__label sk-toggleable__label-arrow\">XGBClassifier</label><div class=\"sk-toggleable__content\"><pre>XGBClassifier(base_score=None, booster=None, callbacks=None,\n",
       "              colsample_bylevel=None, colsample_bynode=None,\n",
       "              colsample_bytree=None, early_stopping_rounds=None,\n",
       "              enable_categorical=False, eval_metric=None, feature_types=None,\n",
       "              gamma=None, gpu_id=None, grow_policy=None, importance_type=None,\n",
       "              interaction_constraints=None, learning_rate=None, max_bin=None,\n",
       "              max_cat_threshold=None, max_cat_to_onehot=None,\n",
       "              max_delta_step=None, max_depth=None, max_leaves=100,\n",
       "              min_child_weight=None, missing=nan, monotone_constraints=None,\n",
       "              n_estimators=50, n_jobs=None, num_parallel_tree=None,\n",
       "              predictor=None, random_state=None, ...)</pre></div></div></div></div></div>"
      ],
      "text/plain": [
       "XGBClassifier(base_score=None, booster=None, callbacks=None,\n",
       "              colsample_bylevel=None, colsample_bynode=None,\n",
       "              colsample_bytree=None, early_stopping_rounds=None,\n",
       "              enable_categorical=False, eval_metric=None, feature_types=None,\n",
       "              gamma=None, gpu_id=None, grow_policy=None, importance_type=None,\n",
       "              interaction_constraints=None, learning_rate=None, max_bin=None,\n",
       "              max_cat_threshold=None, max_cat_to_onehot=None,\n",
       "              max_delta_step=None, max_depth=None, max_leaves=100,\n",
       "              min_child_weight=None, missing=nan, monotone_constraints=None,\n",
       "              n_estimators=50, n_jobs=None, num_parallel_tree=None,\n",
       "              predictor=None, random_state=None, ...)"
      ]
     },
     "execution_count": 140,
     "metadata": {},
     "output_type": "execute_result"
    }
   ],
   "source": [
    "from xgboost import XGBClassifier\n",
    "xgb_model = XGBClassifier(n_estimators=50,max_leaves=100)\n",
    "xgb_model.fit(train_df,y_train)"
   ]
  },
  {
   "cell_type": "code",
   "execution_count": 142,
   "id": "925f3590",
   "metadata": {},
   "outputs": [
    {
     "name": "stdout",
     "output_type": "stream",
     "text": [
      "1.0 1.0 1.0 <- for orig_y\n",
      "0.9425277503964342 0.6505277428101094 0.9419517666853617 <- for with_0.15\n",
      "0.9523564622351748 0.7035051988423197 0.9202187324733595 <- for with_0.2\n",
      "0.9602565750939299 0.7653733528550513 0.8795569265283231 <- for with_0.3\n",
      "0.9622280318290262 0.8060556464811784 0.8286595625350532 <- for with_0.4\n",
      "0.9611423020328862 0.8351564873898512 0.7707515423443634 <- for with_0.5\n",
      "0.9582851183588337 0.8696033696033696 0.6947560291643298 <- for with_0.6\n",
      "0.9512993042757754 0.9104740904079383 0.57893998878295 <- for with_0.7\n",
      "0.9377705395791368 0.9527071102413568 0.409562535053281 <- for with_0.8\n",
      "0.9166988099829998 0.9902034664657121 0.18424004486819967 <- for with_0.9\n"
     ]
    }
   ],
   "source": [
    "y_test_pred=xgb_model.predict_proba(train_df)\n",
    "threshold_df=pd.DataFrame(y_train.values,columns=['orig_y'])\n",
    "#Now lets test the different threshold value to know if some threshold will be performing better\n",
    "def predictOnThreshold(threshold):\n",
    "    threshold_df[f\"with_{threshold}\"]=[1 if x[1]>threshold else 0 for x in y_test_pred]\n",
    "\n",
    "for i in [0.15,0.2,0.3,0.4,0.5,0.6,0.7,0.8,0.9]:\n",
    "    predictOnThreshold(i)\n",
    "\n",
    "for i in threshold_df.columns:\n",
    "    print(accuracy_score(y_train,threshold_df[i]),precision_score(y_train,threshold_df[i]),recall_score(y_train,threshold_df[i]),f\"<- for {i}\")"
   ]
  },
  {
   "cell_type": "markdown",
   "id": "ec173cae",
   "metadata": {},
   "source": [
    "#### lets try combining PCA and XGBoost and see the response"
   ]
  },
  {
   "cell_type": "code",
   "execution_count": 150,
   "id": "1c124ce6",
   "metadata": {},
   "outputs": [
    {
     "name": "stdout",
     "output_type": "stream",
     "text": [
      "1.0 1.0 1.0 <- for orig_y\n",
      "0.9259417991685596 0.5873699318263366 0.9181155356141335 <- for with_0.15\n",
      "0.941042014885927 0.6538343401249104 0.8954010095344924 <- for with_0.2\n",
      "0.9564422348890699 0.7558591302168192 0.8456253505328098 <- for with_0.3\n",
      "0.9625566079515422 0.8377002545291211 0.7844924284913067 <- for with_0.4\n",
      "0.9616708810125859 0.8958889482114255 0.7058328659562535 <- for with_0.5\n",
      "0.9557279389705567 0.9458324121158523 0.599831744251262 <- for with_0.6\n",
      "0.9436420520293147 0.9743971420065496 0.45891755468311834 <- for with_0.7\n",
      "0.928084686924099 0.9911048689138576 0.29683118339876613 <- for with_0.8\n",
      "0.9118273118187402 1.0 0.1346045989904655 <- for with_0.9\n"
     ]
    }
   ],
   "source": [
    "pc_model = PCA(n_components=100)\n",
    "train_df_pca=pc_model.fit_transform(train_df,y_train)\n",
    "xgb_model = XGBClassifier(n_estimators=50,max_leaves=100)\n",
    "xgb_model.fit(train_df_pca,y_train)\n",
    "y_test_pred=xgb_model.predict_proba(train_df_pca)\n",
    "threshold_df=pd.DataFrame(y_train.values,columns=['orig_y'])\n",
    "#Now lets test the different threshold value to know if some threshold will be performing better\n",
    "def predictOnThreshold(threshold):\n",
    "    threshold_df[f\"with_{threshold}\"]=[1 if x[1]>threshold else 0 for x in y_test_pred]\n",
    "\n",
    "for i in [0.15,0.2,0.3,0.4,0.5,0.6,0.7,0.8,0.9]:\n",
    "    predictOnThreshold(i)\n",
    "\n",
    "for i in threshold_df.columns:\n",
    "    print(accuracy_score(y_train,threshold_df[i]),precision_score(y_train,threshold_df[i]),recall_score(y_train,threshold_df[i]),f\"<- for {i}\")"
   ]
  },
  {
   "cell_type": "code",
   "execution_count": 161,
   "id": "e812ba17",
   "metadata": {},
   "outputs": [],
   "source": [
    "#  Here its seems to be performing well with 100 PCA component and the threshold value of 0.4\n",
    "# lets test this approach by spliting intoo train and test \n",
    "from sklearn.model_selection import train_test_split"
   ]
  },
  {
   "cell_type": "code",
   "execution_count": 166,
   "id": "2eceab0b",
   "metadata": {},
   "outputs": [],
   "source": [
    "X_train1,X_test1,y_train1,y_test1 = train_test_split(train_df,y_train,train_size=0.8)"
   ]
  },
  {
   "cell_type": "code",
   "execution_count": 171,
   "id": "aacdec84",
   "metadata": {},
   "outputs": [
    {
     "name": "stdout",
     "output_type": "stream",
     "text": [
      "1.0 1.0 1.0 <- for orig_y\n",
      "0.8882857142857142 0.47103051747014596 0.7431960921144453 <- for with_0.15\n",
      "0.9029285714285714 0.5191511387163561 0.6999302163293789 <- for with_0.2\n",
      "0.9162142857142858 0.586436170212766 0.6154919748778785 <- for with_0.3\n",
      "0.9203571428571429 0.6363636363636364 0.5177948360083741 <- for with_0.4\n",
      "0.9226428571428571 0.6975169300225733 0.43126308443824146 <- for with_0.5\n",
      "0.922 0.7496339677891655 0.3572923935799023 <- for with_0.6\n",
      "0.9192857142857143 0.811088295687885 0.2756454989532449 <- for with_0.7\n",
      "0.9123571428571429 0.8456375838926175 0.17585484996510817 <- for with_0.8\n",
      "0.9063571428571429 0.9552238805970149 0.08932309839497557 <- for with_0.9\n"
     ]
    }
   ],
   "source": [
    "pc_model = PCA(n_components=100)\n",
    "train_df_pca=pc_model.fit_transform(X_train1,y_train1)\n",
    "xgb_model = XGBClassifier(n_estimators=50,max_leaves=100)\n",
    "xgb_model.fit(train_df_pca,y_train1)\n",
    "test_df_pca=pc_model.transform(X_test1)\n",
    "y_test_pred=xgb_model.predict_proba(test_df_pca)\n",
    "threshold_df=pd.DataFrame(y_test1.values,columns=['orig_y'])\n",
    "#Now lets test the different threshold value to know if some threshold will be performing better\n",
    "def predictOnThreshold(threshold):\n",
    "    threshold_df[f\"with_{threshold}\"]=[1 if x[1]>threshold else 0 for x in y_test_pred]\n",
    "\n",
    "for i in [0.15,0.2,0.3,0.4,0.5,0.6,0.7,0.8,0.9]:\n",
    "    predictOnThreshold(i)\n",
    "\n",
    "for i in threshold_df.columns:\n",
    "    print(accuracy_score(y_test1,threshold_df[i]),precision_score(y_test1,threshold_df[i]),recall_score(y_test1,threshold_df[i]),f\"<- for {i}\")"
   ]
  },
  {
   "cell_type": "code",
   "execution_count": 172,
   "id": "de40a4fd",
   "metadata": {},
   "outputs": [],
   "source": [
    "# seems its not performing that well than that of the random forest derieved after the tuning"
   ]
  },
  {
   "cell_type": "code",
   "execution_count": 143,
   "id": "2e32ec7d",
   "metadata": {},
   "outputs": [],
   "source": [
    "merged_train=train_df.join(y_train)"
   ]
  },
  {
   "cell_type": "code",
   "execution_count": 144,
   "id": "84ed7202",
   "metadata": {},
   "outputs": [
    {
     "data": {
      "text/plain": [
       "<AxesSubplot:>"
      ]
     },
     "execution_count": 144,
     "metadata": {},
     "output_type": "execute_result"
    },
    {
     "data": {
      "image/png": "[encoded data removed]",
      "text/plain": [
       "<Figure size 2880x2880 with 2 Axes>"
      ]
     },
     "metadata": {
      "needs_background": "light"
     },
     "output_type": "display_data"
    }
   ],
   "source": [
    "plt.figure(figsize=(40,40))\n",
    "seaborn.heatmap(merged_train[merged_train['churn_probability']==1][selected100].corr(),fmt=\"f\", cmap='RdBu_r', vmin=-1, vmax=1)"
   ]
  },
  {
   "cell_type": "code",
   "execution_count": 145,
   "id": "79d5846d",
   "metadata": {},
   "outputs": [
    {
     "data": {
      "text/plain": [
       "<AxesSubplot:>"
      ]
     },
     "execution_count": 145,
     "metadata": {},
     "output_type": "execute_result"
    },
    {
     "data": {
      "image/png": "[encoded data removed]",
      "text/plain": [
       "<Figure size 2880x2880 with 2 Axes>"
      ]
     },
     "metadata": {
      "needs_background": "light"
     },
     "output_type": "display_data"
    }
   ],
   "source": [
    "plt.figure(figsize=(40,40))\n",
    "seaborn.heatmap(merged_train[merged_train['churn_probability']==0][selected100].corr(),fmt=\"f\", cmap='RdBu_r', vmin=-1, vmax=1)"
   ]
  },
  {
   "cell_type": "markdown",
   "id": "9caea901",
   "metadata": {},
   "source": [
    "After analysizing the above heatmap for the churned and non churned customer following behaviour can be highlighted as an indicator \n",
    "of being churn or not \n",
    "\n",
    "- date of last recharge and average revenue/minutes of usage/total recharge in month feature seems to be neutralizing for the customer who has churned or in the risk of churning.\n",
    "\n",
    "- the trend of recharge time and amount seems to reducing for the customer who has churned or in the risk of churn.\n",
    "\n",
    "- incoming call trend is also showing negative relation between the first and the last month i.e 6 and 8 month in this case. so it can also be a siignificant indicator \n",
    "to identify the risk\n",
    "\n",
    "- For the churning cutomer the std T2F minutes of usage seems to be be positively related.\n",
    "\n",
    "- Intensity of the outgoing calls for the all categgory seems to be neutralizing towards 0 , which  can be the idicator of the churning customers.\n",
    "\n"
   ]
  },
  {
   "cell_type": "markdown",
   "id": "8be789bb",
   "metadata": {},
   "source": [
    "#### Conclusion prediction from model with all best parameters"
   ]
  },
  {
   "cell_type": "markdown",
   "id": "3759fe0b",
   "metadata": {},
   "source": [
    "- lg_model , base model , accuracy-91.20 , remarks(increased accuracy due to imbalancedata)\n",
    "- lg_model3, trained with 100 top features, accuracy-91.27, remarks(better prediction compartively using less featureset)\n",
    "- lg_model4, trained with 20 top features at threshold 0.4, accuracy-92.95, remarks(better prediction compartively using less featureset)\n",
    "- lg_model4, trained with 100 top features at threshold 0.4, accuracy-91.94, remarks(better prediction compartively using less featureset)\n",
    "- rf_model1, trained with 100 top features at min_sample_split 100, accuracy-94.37, remarks(Better prediction of all logistic regresssion model)\n",
    "- gs_cv.best_estimator_, hyper parameter tuned model , accuracy-94.23 , remarks (Best Model so far)\n",
    "- lg_model5, logistic model with PCA , accuracy-90.42 at 0.3 threshold , remarks(not much difference than doing it witout dimensionality  reduction)\n",
    "- xgb_model, implemented with XGBClassifier, accuracy-92.20, remarks(not much difference than doing it with normal algorithms)"
   ]
  },
  {
   "cell_type": "code",
   "execution_count": 173,
   "id": "67d21267",
   "metadata": {},
   "outputs": [],
   "source": [
    "# Now, we will try to predict the test case from the best one with 94.23% accuracy offered by random forest with 100 top feature from rfe\n",
    "#  and see what it offers"
   ]
  },
  {
   "cell_type": "code",
   "execution_count": 179,
   "id": "4a03a798",
   "metadata": {},
   "outputs": [],
   "source": [
    "sample_test=pd.read_csv(\"./test.csv/test.csv\")\n",
    "x_test_data=sample_test[selected100]\n",
    "# gs_cv.best_estimator_.predict(sample_test)"
   ]
  },
  {
   "cell_type": "code",
   "execution_count": 180,
   "id": "b03bb078",
   "metadata": {},
   "outputs": [
    {
     "name": "stdout",
     "output_type": "stream",
     "text": [
      "<class 'pandas.core.frame.DataFrame'>\n",
      "RangeIndex: 30000 entries, 0 to 29999\n",
      "Data columns (total 100 columns):\n",
      " #   Column                    Non-Null Count  Dtype  \n",
      "---  ------                    --------------  -----  \n",
      " 0   arpu_6                    30000 non-null  float64\n",
      " 1   arpu_7                    30000 non-null  float64\n",
      " 2   onnet_mou_6               30000 non-null  float64\n",
      " 3   onnet_mou_7               30000 non-null  float64\n",
      " 4   onnet_mou_8               30000 non-null  float64\n",
      " 5   offnet_mou_6              30000 non-null  float64\n",
      " 6   offnet_mou_7              30000 non-null  float64\n",
      " 7   offnet_mou_8              30000 non-null  float64\n",
      " 8   roam_ic_mou_6             30000 non-null  float64\n",
      " 9   roam_ic_mou_7             30000 non-null  float64\n",
      " 10  roam_og_mou_6             30000 non-null  float64\n",
      " 11  roam_og_mou_8             30000 non-null  float64\n",
      " 12  loc_og_t2t_mou_7          30000 non-null  float64\n",
      " 13  loc_og_t2t_mou_8          30000 non-null  float64\n",
      " 14  loc_og_t2m_mou_7          30000 non-null  float64\n",
      " 15  loc_og_t2m_mou_8          30000 non-null  float64\n",
      " 16  loc_og_t2f_mou_6          30000 non-null  float64\n",
      " 17  loc_og_t2f_mou_7          30000 non-null  float64\n",
      " 18  loc_og_t2f_mou_8          30000 non-null  float64\n",
      " 19  loc_og_t2c_mou_6          30000 non-null  float64\n",
      " 20  loc_og_t2c_mou_7          30000 non-null  float64\n",
      " 21  loc_og_t2c_mou_8          30000 non-null  float64\n",
      " 22  loc_og_mou_7              30000 non-null  float64\n",
      " 23  std_og_t2t_mou_7          30000 non-null  float64\n",
      " 24  std_og_t2t_mou_8          30000 non-null  float64\n",
      " 25  std_og_t2m_mou_7          30000 non-null  float64\n",
      " 26  std_og_t2f_mou_6          30000 non-null  float64\n",
      " 27  std_og_t2f_mou_7          30000 non-null  float64\n",
      " 28  std_og_t2f_mou_8          30000 non-null  float64\n",
      " 29  std_og_mou_7              30000 non-null  float64\n",
      " 30  std_og_mou_8              30000 non-null  float64\n",
      " 31  spl_og_mou_6              30000 non-null  float64\n",
      " 32  spl_og_mou_7              30000 non-null  float64\n",
      " 33  spl_og_mou_8              30000 non-null  float64\n",
      " 34  og_others_6               30000 non-null  float64\n",
      " 35  total_og_mou_6            30000 non-null  float64\n",
      " 36  total_og_mou_7            30000 non-null  float64\n",
      " 37  loc_ic_t2t_mou_6          30000 non-null  float64\n",
      " 38  loc_ic_t2m_mou_6          30000 non-null  float64\n",
      " 39  loc_ic_t2m_mou_7          30000 non-null  float64\n",
      " 40  loc_ic_t2m_mou_8          30000 non-null  float64\n",
      " 41  loc_ic_t2f_mou_7          30000 non-null  float64\n",
      " 42  loc_ic_t2f_mou_8          30000 non-null  float64\n",
      " 43  loc_ic_mou_8              30000 non-null  float64\n",
      " 44  std_ic_t2t_mou_6          30000 non-null  float64\n",
      " 45  std_ic_t2t_mou_7          30000 non-null  float64\n",
      " 46  std_ic_t2t_mou_8          30000 non-null  float64\n",
      " 47  std_ic_t2m_mou_6          30000 non-null  float64\n",
      " 48  std_ic_t2m_mou_7          30000 non-null  float64\n",
      " 49  std_ic_t2f_mou_6          30000 non-null  float64\n",
      " 50  std_ic_t2f_mou_7          30000 non-null  float64\n",
      " 51  std_ic_t2f_mou_8          30000 non-null  float64\n",
      " 52  std_ic_mou_7              30000 non-null  float64\n",
      " 53  std_ic_mou_8              30000 non-null  float64\n",
      " 54  total_ic_mou_6            30000 non-null  float64\n",
      " 55  total_ic_mou_7            30000 non-null  float64\n",
      " 56  spl_ic_mou_6              30000 non-null  float64\n",
      " 57  spl_ic_mou_7              30000 non-null  float64\n",
      " 58  spl_ic_mou_8              30000 non-null  float64\n",
      " 59  isd_ic_mou_7              30000 non-null  float64\n",
      " 60  ic_others_6               30000 non-null  float64\n",
      " 61  ic_others_7               30000 non-null  float64\n",
      " 62  ic_others_8               30000 non-null  float64\n",
      " 63  total_rech_num_6          30000 non-null  int64  \n",
      " 64  total_rech_num_7          30000 non-null  int64  \n",
      " 65  total_rech_num_8          30000 non-null  int64  \n",
      " 66  total_rech_amt_6          30000 non-null  int64  \n",
      " 67  total_rech_amt_7          30000 non-null  int64  \n",
      " 68  total_rech_amt_8          30000 non-null  int64  \n",
      " 69  max_rech_amt_6            30000 non-null  int64  \n",
      " 70  last_day_rch_amt_6        30000 non-null  int64  \n",
      " 71  last_day_rch_amt_8        30000 non-null  int64  \n",
      " 72  total_rech_data_6         30000 non-null  float64\n",
      " 73  total_rech_data_7         30000 non-null  float64\n",
      " 74  total_rech_data_8         30000 non-null  float64\n",
      " 75  max_rech_data_6           30000 non-null  float64\n",
      " 76  max_rech_data_7           30000 non-null  float64\n",
      " 77  max_rech_data_8           30000 non-null  float64\n",
      " 78  count_rech_2g_7           30000 non-null  float64\n",
      " 79  count_rech_2g_8           30000 non-null  float64\n",
      " 80  count_rech_3g_7           30000 non-null  float64\n",
      " 81  count_rech_3g_8           30000 non-null  float64\n",
      " 82  av_rech_amt_data_8        30000 non-null  float64\n",
      " 83  vol_2g_mb_8               30000 non-null  float64\n",
      " 84  arpu_3g_7                 30000 non-null  float64\n",
      " 85  arpu_2g_7                 30000 non-null  float64\n",
      " 86  arpu_2g_8                 30000 non-null  float64\n",
      " 87  night_pck_user_7          30000 non-null  float64\n",
      " 88  night_pck_user_8          30000 non-null  float64\n",
      " 89  sachet_2g_6               30000 non-null  int64  \n",
      " 90  sachet_2g_8               30000 non-null  int64  \n",
      " 91  fb_user_7                 30000 non-null  float64\n",
      " 92  fb_user_8                 30000 non-null  float64\n",
      " 93  aug_vbc_3g                30000 non-null  float64\n",
      " 94  date_of_last_rech_6       30000 non-null  object \n",
      " 95  date_of_last_rech_7       30000 non-null  object \n",
      " 96  date_of_last_rech_8       30000 non-null  object \n",
      " 97  date_of_last_rech_data_6  30000 non-null  object \n",
      " 98  date_of_last_rech_data_7  30000 non-null  object \n",
      " 99  date_of_last_rech_data_8  30000 non-null  object \n",
      "dtypes: float64(83), int64(11), object(6)\n",
      "memory usage: 22.9+ MB\n"
     ]
    }
   ],
   "source": [
    "x_test_data=x_test_data.fillna(-1)\n",
    "x_test_data.info()"
   ]
  },
  {
   "cell_type": "code",
   "execution_count": 181,
   "id": "6207aaa2",
   "metadata": {},
   "outputs": [],
   "source": [
    "#now we will conver the data using the reference date that we have.\n",
    "allDates_test=x_test_data.select_dtypes(include='object')\n",
    "for i in allDates_test.columns:\n",
    "    x_test_data[i]=x_test_data[i].apply(lambda x : (dateRef-datetime.datetime.strptime(x,'%m/%d/%Y')).days if isinstance(x,str) else x)"
   ]
  },
  {
   "cell_type": "code",
   "execution_count": 182,
   "id": "2726c8a0",
   "metadata": {},
   "outputs": [],
   "source": [
    "sample_predicted=gs_cv.best_estimator_.predict(x_test_data)"
   ]
  },
  {
   "cell_type": "code",
   "execution_count": 183,
   "id": "2a61ea8e",
   "metadata": {},
   "outputs": [],
   "source": [
    "resultset=pd.concat([sample_test['id'],pd.DataFrame(sample_predicted,columns=['churn_probability'])],axis=1)"
   ]
  },
  {
   "cell_type": "code",
   "execution_count": 188,
   "id": "f9bf6894",
   "metadata": {},
   "outputs": [],
   "source": [
    "resultset.to_csv(\"./Submission.csv\",index=False)"
   ]
  },
  {
   "cell_type": "code",
   "execution_count": null,
   "id": "5c674c28",
   "metadata": {},
   "outputs": [],
   "source": []
  }
 ],
 "metadata": {
  "kernelspec": {
   "display_name": "Python 3 (ipykernel)",
   "language": "python",
   "name": "python3"
  },
  "language_info": {
   "codemirror_mode": {
    "name": "ipython",
    "version": 3
   },
   "file_extension": ".py",
   "mimetype": "text/x-python",
   "name": "python",
   "nbconvert_exporter": "python",
   "pygments_lexer": "ipython3",
   "version": "3.8.6"
  }
 },
 "nbformat": 4,
 "nbformat_minor": 5
}
